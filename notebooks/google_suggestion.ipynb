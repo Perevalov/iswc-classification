{
 "cells": [
  {
   "cell_type": "code",
   "execution_count": 7,
   "metadata": {},
   "outputs": [],
   "source": [
    "import pprint\n",
    "import requests\n",
    "from lxml import etree\n",
    "from argparse import ArgumentParser\n",
    "import sys"
   ]
  },
  {
   "cell_type": "code",
   "execution_count": 8,
   "metadata": {},
   "outputs": [
    {
     "name": "stdout",
     "output_type": "stream",
     "text": [
      "who is the president of russia\n",
      "who is the president of russia now\n",
      "who is the president of russian\n",
      "who is the president of russia right now\n",
      "who is the president of russia in 1971\n",
      "who is the president of russia today\n",
      "who is the president of russia in 2012\n",
      "who is the president of russia before putin\n",
      "who is the president of russia present\n",
      "who is the president of russia kokichi ouma\n"
     ]
    }
   ],
   "source": [
    "qstr = \"Who is the president of russia\"\n",
    "\n",
    "r = requests.get('http://www.google.com/complete/search', params={'q':qstr, 'hl':'ja', 'ie':'utf_8', 'oe':'utf_8', 'output': 'toolbar'})\n",
    "\n",
    "root = etree.XML(r.text)\n",
    "sugs = root.xpath('//suggestion')\n",
    "sugstrs = [s.get('data') for s in sugs]\n",
    "\n",
    "for ss in sugstrs:\n",
    "    print(ss)"
   ]
  },
  {
   "cell_type": "code",
   "execution_count": null,
   "metadata": {},
   "outputs": [],
   "source": []
  }
 ],
 "metadata": {
  "kernelspec": {
   "display_name": "Python 3",
   "language": "python",
   "name": "python3"
  },
  "language_info": {
   "codemirror_mode": {
    "name": "ipython",
    "version": 3
   },
   "file_extension": ".py",
   "mimetype": "text/x-python",
   "name": "python",
   "nbconvert_exporter": "python",
   "pygments_lexer": "ipython3",
   "version": "3.6.4"
  }
 },
 "nbformat": 4,
 "nbformat_minor": 2
}
