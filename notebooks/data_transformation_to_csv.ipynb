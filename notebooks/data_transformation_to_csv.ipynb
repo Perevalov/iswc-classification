{
 "cells": [
  {
   "cell_type": "code",
   "execution_count": 11,
   "metadata": {},
   "outputs": [],
   "source": [
    "import pandas as pd\n",
    "import json\n",
    "import gc\n",
    "import regex as re"
   ]
  },
  {
   "cell_type": "markdown",
   "metadata": {},
   "source": [
    "#### If the category is \"resource\", answer types are ontology classes from either the DBpedia ontology or the Wikidata ontology. If category is \"literal\", answer types are either \"number\", \"date\", or \"string\". \"boolean\" answer type. If the category is \"boolean\", answer type is always \"boolean\"."
   ]
  },
  {
   "cell_type": "code",
   "execution_count": 2,
   "metadata": {},
   "outputs": [],
   "source": [
    "dbpedia_json = None\n",
    "wikidata_json = None\n",
    "\n",
    "with open('../datasets/DBpedia/multiling_reverse_dbpedia.json') as json_file:\n",
    "    dbpedia_json = json.load(json_file)\n",
    "    \n",
    "with open('../datasets/Wikidata/lcquad2_anstype_wikidata_train.json') as json_file:\n",
    "    wikidata_json = json.load(json_file)"
   ]
  },
  {
   "cell_type": "code",
   "execution_count": 3,
   "metadata": {},
   "outputs": [],
   "source": [
    "len_list = list()\n",
    "\n",
    "for i in dbpedia_json:\n",
    "    len_list.append(len(i['type']))"
   ]
  },
  {
   "cell_type": "code",
   "execution_count": 4,
   "metadata": {},
   "outputs": [
    {
     "data": {
      "text/plain": [
       "5.0"
      ]
     },
     "execution_count": 4,
     "metadata": {},
     "output_type": "execute_result"
    }
   ],
   "source": [
    "import numpy as np\n",
    "np.percentile(len_list, 95)"
   ]
  },
  {
   "cell_type": "code",
   "execution_count": 5,
   "metadata": {},
   "outputs": [
    {
     "data": {
      "text/plain": [
       "{'id': 'dbpedia_1177',\n",
       " 'question': 'Was Jacqueline Kennedy Onassis a follower of Melkite Greek Catholic Church?',\n",
       " 'category': 'boolean',\n",
       " 'type': ['boolean'],\n",
       " 'question_de': 'War Jacqueline Kennedy Onassis eine Anhängerin der melkitisch-griechisch-katholischen Kirche?',\n",
       " 'question_fr': 'Jacqueline Kennedy Onassis était-elle une adepte de l&#39;Église catholique grecque melkite?',\n",
       " 'question_es': '¿Jacqueline Kennedy Onassis fue seguidora de la Iglesia greco-católica melquita?',\n",
       " 'question_ru': 'Была ли Жаклин Кеннеди Онассис последователем мелькитской греко-католической церкви?',\n",
       " 'question_r_de': 'Was Jacqueline Kennedy Onassis a supporter of the Melkite Greek Catholic Church?',\n",
       " 'question_r_ru': 'Was Jacqueline Kennedy Onassis a follower of the Melkite Greek Catholic Church?'}"
      ]
     },
     "execution_count": 5,
     "metadata": {},
     "output_type": "execute_result"
    }
   ],
   "source": [
    "dbpedia_json[0]"
   ]
  },
  {
   "cell_type": "code",
   "execution_count": 6,
   "metadata": {},
   "outputs": [
    {
     "data": {
      "text/plain": [
       "{'id': 19719,\n",
       " 'question': 'What periodical literature does Delta Air Lines use as a moutpiece?',\n",
       " 'category': 'resource',\n",
       " 'type': ['publication',\n",
       "  'recurring',\n",
       "  'intellectual work',\n",
       "  'text',\n",
       "  'communication medium',\n",
       "  'serial']}"
      ]
     },
     "execution_count": 6,
     "metadata": {},
     "output_type": "execute_result"
    }
   ],
   "source": [
    "wikidata_json[0]"
   ]
  },
  {
   "cell_type": "code",
   "execution_count": 9,
   "metadata": {},
   "outputs": [
    {
     "data": {
      "text/plain": [
       "0"
      ]
     },
     "execution_count": 9,
     "metadata": {},
     "output_type": "execute_result"
    }
   ],
   "source": [
    "def make_dataframe(ds_json):\n",
    "    ds_dict = { \"id\": list(), \"question\": list(), \"question_de\": list(), \"question_fr\": list(),\n",
    "               \"question_es\": list(), \"question_ru\": list(), \"question_r_de\" : list(), \"question_r_ru\" : list(),\n",
    "               \"category\": list(), \n",
    "               \"type_1\": list(), \"type_2\": list(), \"type_3\": list(), \"type_4\": list(), \"type_5\": list()}\n",
    "    \n",
    "    for item in ds_json:\n",
    "        if item['question'] == None:\n",
    "            continue\n",
    "            \n",
    "        id_ = item['id']\n",
    "        question = item['question']\n",
    "        question_r_de = item['question_r_de']\n",
    "        question_r_ru = item['question_r_ru']\n",
    "        question_de = item['question_de']\n",
    "        question_fr = item['question_fr']\n",
    "        question_es = item['question_es']\n",
    "        question_ru = item['question_ru']\n",
    "        \n",
    "        category = item['category']\n",
    "\n",
    "        if len(item['type']) > 6:\n",
    "            type_1 = item['type'][6]\n",
    "            type_2 = item['type'][5]\n",
    "            type_3 = item['type'][4]\n",
    "            type_4 = item['type'][3]\n",
    "            type_5 = item['type'][2]\n",
    "        elif len(item['type']) > 5:\n",
    "            type_1 = item['type'][5]\n",
    "            type_2 = item['type'][4]\n",
    "            type_3 = item['type'][3]\n",
    "            type_4 = item['type'][2]\n",
    "            type_5 = item['type'][1]\n",
    "        elif len(item['type']) > 4:\n",
    "            type_1 = item['type'][4]\n",
    "            type_2 = item['type'][3]\n",
    "            type_3 = item['type'][2]\n",
    "            type_4 = item['type'][1]\n",
    "            type_5 = item['type'][0]\n",
    "        elif len(item['type']) > 3:\n",
    "            type_1 = item['type'][3]\n",
    "            type_2 = item['type'][2]\n",
    "            type_3 = item['type'][1]\n",
    "            type_4 = item['type'][0]\n",
    "            type_5 = \"n/a\"\n",
    "        elif len(item['type']) > 2:\n",
    "            type_1 = item['type'][2]\n",
    "            type_2 = item['type'][1]\n",
    "            type_3 = item['type'][0]\n",
    "            type_4 = \"n/a\"\n",
    "            type_5 = \"n/a\"\n",
    "        elif len(item['type']) > 1:\n",
    "            type_1 = item['type'][1]\n",
    "            type_2 = item['type'][0]\n",
    "            type_3 = \"n/a\"\n",
    "            type_4 = \"n/a\"\n",
    "            type_5 = \"n/a\"\n",
    "        elif len(item['type']) > 0:\n",
    "            type_1 = item['type'][0]\n",
    "            type_2 = \"n/a\"\n",
    "            type_3 = \"n/a\"\n",
    "            type_4 = \"n/a\"\n",
    "            type_5 = \"n/a\"\n",
    "        else:\n",
    "            type_1 = \"n/a\"\n",
    "            type_2 = \"n/a\"\n",
    "            type_3 = \"n/a\"\n",
    "            type_4 = \"n/a\"\n",
    "            type_5 = \"n/a\"\n",
    "        \n",
    "        ds_dict['id'].append(id_)\n",
    "        \n",
    "        ds_dict['question'].append(question)\n",
    "        ds_dict['question_r_de'].append(question_r_de)\n",
    "        ds_dict['question_r_ru'].append(question_r_ru)\n",
    "        ds_dict['question_de'].append(question_de)\n",
    "        ds_dict['question_fr'].append(question_fr)\n",
    "        ds_dict['question_es'].append(question_es)\n",
    "        ds_dict['question_ru'].append(question_ru)\n",
    "        \n",
    "        ds_dict['category'].append(category)\n",
    "        ds_dict['type_1'].append(type_1)\n",
    "        ds_dict['type_2'].append(type_2)\n",
    "        ds_dict['type_3'].append(type_3)\n",
    "        ds_dict['type_4'].append(type_4)\n",
    "        ds_dict['type_5'].append(type_5)\n",
    "    \n",
    "    df = pd.DataFrame.from_dict(ds_dict)\n",
    "    \n",
    "    assert(\"dbo:Location\" in df.type_1.values or \"drug\" in df.type_1.values)\n",
    "    \n",
    "    return df    \n",
    "gc.collect()"
   ]
  },
  {
   "cell_type": "code",
   "execution_count": 10,
   "metadata": {},
   "outputs": [],
   "source": [
    "dbpedia_df = make_dataframe(dbpedia_json)\n",
    "#wikidata_df = make_dataframe(wikidata_json)"
   ]
  },
  {
   "cell_type": "code",
   "execution_count": 11,
   "metadata": {},
   "outputs": [
    {
     "data": {
      "text/html": [
       "<div>\n",
       "<style scoped>\n",
       "    .dataframe tbody tr th:only-of-type {\n",
       "        vertical-align: middle;\n",
       "    }\n",
       "\n",
       "    .dataframe tbody tr th {\n",
       "        vertical-align: top;\n",
       "    }\n",
       "\n",
       "    .dataframe thead th {\n",
       "        text-align: right;\n",
       "    }\n",
       "</style>\n",
       "<table border=\"1\" class=\"dataframe\">\n",
       "  <thead>\n",
       "    <tr style=\"text-align: right;\">\n",
       "      <th></th>\n",
       "      <th>id</th>\n",
       "      <th>question</th>\n",
       "      <th>question_de</th>\n",
       "      <th>question_fr</th>\n",
       "      <th>question_es</th>\n",
       "      <th>question_ru</th>\n",
       "      <th>question_r_de</th>\n",
       "      <th>question_r_ru</th>\n",
       "      <th>category</th>\n",
       "      <th>type_1</th>\n",
       "      <th>type_2</th>\n",
       "      <th>type_3</th>\n",
       "      <th>type_4</th>\n",
       "      <th>type_5</th>\n",
       "    </tr>\n",
       "  </thead>\n",
       "  <tbody>\n",
       "    <tr>\n",
       "      <th>0</th>\n",
       "      <td>dbpedia_1177</td>\n",
       "      <td>Was Jacqueline Kennedy Onassis a follower of M...</td>\n",
       "      <td>War Jacqueline Kennedy Onassis eine Anhängerin...</td>\n",
       "      <td>Jacqueline Kennedy Onassis était-elle une adep...</td>\n",
       "      <td>¿Jacqueline Kennedy Onassis fue seguidora de l...</td>\n",
       "      <td>Была ли Жаклин Кеннеди Онассис последователем ...</td>\n",
       "      <td>Was Jacqueline Kennedy Onassis a supporter of ...</td>\n",
       "      <td>Was Jacqueline Kennedy Onassis a follower of t...</td>\n",
       "      <td>boolean</td>\n",
       "      <td>boolean</td>\n",
       "      <td>n/a</td>\n",
       "      <td>n/a</td>\n",
       "      <td>n/a</td>\n",
       "      <td>n/a</td>\n",
       "    </tr>\n",
       "    <tr>\n",
       "      <th>1</th>\n",
       "      <td>dbpedia_14427</td>\n",
       "      <td>What is the name of the opera based on Twelfth...</td>\n",
       "      <td>Wie heißt die Oper, die auf Twelfth Night basi...</td>\n",
       "      <td>Quel est le nom de l&amp;#39;opéra basé sur Twelft...</td>\n",
       "      <td>¿Cuál es el nombre de la ópera basada en Noche...</td>\n",
       "      <td>Как называется опера по мотивам «Двенадцатой н...</td>\n",
       "      <td>What is the name of the opera based on Twelfth...</td>\n",
       "      <td>What is the name of the opera based on Twelfth...</td>\n",
       "      <td>resource</td>\n",
       "      <td>dbo:Opera</td>\n",
       "      <td>dbo:MusicalWork</td>\n",
       "      <td>dbo:Work</td>\n",
       "      <td>n/a</td>\n",
       "      <td>n/a</td>\n",
       "    </tr>\n",
       "    <tr>\n",
       "      <th>2</th>\n",
       "      <td>dbpedia_16615</td>\n",
       "      <td>When did Lena Horne receive the Grammy Award f...</td>\n",
       "      <td>Wann erhielt Lena Horne den Grammy Award für d...</td>\n",
       "      <td>Quand Lena Horne a-t-elle reçu le Grammy Award...</td>\n",
       "      <td>¿Cuándo recibió Lena Horne el premio Grammy al...</td>\n",
       "      <td>Когда Лена Хорн получила премию Грэмми за лучш...</td>\n",
       "      <td>When did Lena Horne receive the Grammy Award f...</td>\n",
       "      <td>When did Lena Horn receive the Grammy Award fo...</td>\n",
       "      <td>literal</td>\n",
       "      <td>date</td>\n",
       "      <td>n/a</td>\n",
       "      <td>n/a</td>\n",
       "      <td>n/a</td>\n",
       "      <td>n/a</td>\n",
       "    </tr>\n",
       "    <tr>\n",
       "      <th>3</th>\n",
       "      <td>dbpedia_23480</td>\n",
       "      <td>Do Prince Harry and Prince William have the sa...</td>\n",
       "      <td>Haben Prinz Harry und Prinz William die gleich...</td>\n",
       "      <td>Le prince Harry et le prince William ont-ils l...</td>\n",
       "      <td>¿El príncipe Harry y el príncipe William tiene...</td>\n",
       "      <td>У принца Гарри и принца Уильяма одни и те же р...</td>\n",
       "      <td>Do Prince Harry and Prince William have the sa...</td>\n",
       "      <td>Do Prince Harry and Prince William have the sa...</td>\n",
       "      <td>boolean</td>\n",
       "      <td>boolean</td>\n",
       "      <td>n/a</td>\n",
       "      <td>n/a</td>\n",
       "      <td>n/a</td>\n",
       "      <td>n/a</td>\n",
       "    </tr>\n",
       "    <tr>\n",
       "      <th>4</th>\n",
       "      <td>dbpedia_3681</td>\n",
       "      <td>What is the subsidiary company working for Leo...</td>\n",
       "      <td>Was ist die Tochtergesellschaft, die für Leona...</td>\n",
       "      <td>Quelle est la filiale qui travaille pour Leona...</td>\n",
       "      <td>¿Cuál es la empresa subsidiaria que trabaja pa...</td>\n",
       "      <td>Какая дочерняя компания работает у Леонарда Ма...</td>\n",
       "      <td>What is the subsidiary that works for Leonard ...</td>\n",
       "      <td>Which subsidiary does Leonard Maltin have?</td>\n",
       "      <td>resource</td>\n",
       "      <td>dbo:EducationalInstitution</td>\n",
       "      <td>dbo:Organisation</td>\n",
       "      <td>dbo:Agent</td>\n",
       "      <td>n/a</td>\n",
       "      <td>n/a</td>\n",
       "    </tr>\n",
       "  </tbody>\n",
       "</table>\n",
       "</div>"
      ],
      "text/plain": [
       "              id                                           question  \\\n",
       "0   dbpedia_1177  Was Jacqueline Kennedy Onassis a follower of M...   \n",
       "1  dbpedia_14427  What is the name of the opera based on Twelfth...   \n",
       "2  dbpedia_16615  When did Lena Horne receive the Grammy Award f...   \n",
       "3  dbpedia_23480  Do Prince Harry and Prince William have the sa...   \n",
       "4   dbpedia_3681  What is the subsidiary company working for Leo...   \n",
       "\n",
       "                                         question_de  \\\n",
       "0  War Jacqueline Kennedy Onassis eine Anhängerin...   \n",
       "1  Wie heißt die Oper, die auf Twelfth Night basi...   \n",
       "2  Wann erhielt Lena Horne den Grammy Award für d...   \n",
       "3  Haben Prinz Harry und Prinz William die gleich...   \n",
       "4  Was ist die Tochtergesellschaft, die für Leona...   \n",
       "\n",
       "                                         question_fr  \\\n",
       "0  Jacqueline Kennedy Onassis était-elle une adep...   \n",
       "1  Quel est le nom de l&#39;opéra basé sur Twelft...   \n",
       "2  Quand Lena Horne a-t-elle reçu le Grammy Award...   \n",
       "3  Le prince Harry et le prince William ont-ils l...   \n",
       "4  Quelle est la filiale qui travaille pour Leona...   \n",
       "\n",
       "                                         question_es  \\\n",
       "0  ¿Jacqueline Kennedy Onassis fue seguidora de l...   \n",
       "1  ¿Cuál es el nombre de la ópera basada en Noche...   \n",
       "2  ¿Cuándo recibió Lena Horne el premio Grammy al...   \n",
       "3  ¿El príncipe Harry y el príncipe William tiene...   \n",
       "4  ¿Cuál es la empresa subsidiaria que trabaja pa...   \n",
       "\n",
       "                                         question_ru  \\\n",
       "0  Была ли Жаклин Кеннеди Онассис последователем ...   \n",
       "1  Как называется опера по мотивам «Двенадцатой н...   \n",
       "2  Когда Лена Хорн получила премию Грэмми за лучш...   \n",
       "3  У принца Гарри и принца Уильяма одни и те же р...   \n",
       "4  Какая дочерняя компания работает у Леонарда Ма...   \n",
       "\n",
       "                                       question_r_de  \\\n",
       "0  Was Jacqueline Kennedy Onassis a supporter of ...   \n",
       "1  What is the name of the opera based on Twelfth...   \n",
       "2  When did Lena Horne receive the Grammy Award f...   \n",
       "3  Do Prince Harry and Prince William have the sa...   \n",
       "4  What is the subsidiary that works for Leonard ...   \n",
       "\n",
       "                                       question_r_ru  category  \\\n",
       "0  Was Jacqueline Kennedy Onassis a follower of t...   boolean   \n",
       "1  What is the name of the opera based on Twelfth...  resource   \n",
       "2  When did Lena Horn receive the Grammy Award fo...   literal   \n",
       "3  Do Prince Harry and Prince William have the sa...   boolean   \n",
       "4         Which subsidiary does Leonard Maltin have?  resource   \n",
       "\n",
       "                       type_1            type_2     type_3 type_4 type_5  \n",
       "0                     boolean               n/a        n/a    n/a    n/a  \n",
       "1                   dbo:Opera   dbo:MusicalWork   dbo:Work    n/a    n/a  \n",
       "2                        date               n/a        n/a    n/a    n/a  \n",
       "3                     boolean               n/a        n/a    n/a    n/a  \n",
       "4  dbo:EducationalInstitution  dbo:Organisation  dbo:Agent    n/a    n/a  "
      ]
     },
     "execution_count": 11,
     "metadata": {},
     "output_type": "execute_result"
    }
   ],
   "source": [
    "dbpedia_df.head()"
   ]
  },
  {
   "cell_type": "code",
   "execution_count": 11,
   "metadata": {},
   "outputs": [
    {
     "data": {
      "text/html": [
       "<div>\n",
       "<style scoped>\n",
       "    .dataframe tbody tr th:only-of-type {\n",
       "        vertical-align: middle;\n",
       "    }\n",
       "\n",
       "    .dataframe tbody tr th {\n",
       "        vertical-align: top;\n",
       "    }\n",
       "\n",
       "    .dataframe thead th {\n",
       "        text-align: right;\n",
       "    }\n",
       "</style>\n",
       "<table border=\"1\" class=\"dataframe\">\n",
       "  <thead>\n",
       "    <tr style=\"text-align: right;\">\n",
       "      <th></th>\n",
       "      <th>id</th>\n",
       "      <th>question</th>\n",
       "      <th>category</th>\n",
       "      <th>type_1</th>\n",
       "      <th>type_2</th>\n",
       "      <th>type_3</th>\n",
       "      <th>type_4</th>\n",
       "      <th>type_5</th>\n",
       "    </tr>\n",
       "  </thead>\n",
       "  <tbody>\n",
       "    <tr>\n",
       "      <th>0</th>\n",
       "      <td>19719</td>\n",
       "      <td>What periodical literature does Delta Air Line...</td>\n",
       "      <td>resource</td>\n",
       "      <td>serial</td>\n",
       "      <td>communication medium</td>\n",
       "      <td>text</td>\n",
       "      <td>intellectual work</td>\n",
       "      <td>recurring</td>\n",
       "    </tr>\n",
       "    <tr>\n",
       "      <th>1</th>\n",
       "      <td>15554</td>\n",
       "      <td>Who is the child of Ranavalona I's husband?</td>\n",
       "      <td>resource</td>\n",
       "      <td>natural person</td>\n",
       "      <td>omnivore</td>\n",
       "      <td>person</td>\n",
       "      <td>n/a</td>\n",
       "      <td>n/a</td>\n",
       "    </tr>\n",
       "    <tr>\n",
       "      <th>2</th>\n",
       "      <td>974</td>\n",
       "      <td>Is it true Jeff_Bridges occupation Lane Chandl...</td>\n",
       "      <td>boolean</td>\n",
       "      <td>boolean</td>\n",
       "      <td>n/a</td>\n",
       "      <td>n/a</td>\n",
       "      <td>n/a</td>\n",
       "      <td>n/a</td>\n",
       "    </tr>\n",
       "    <tr>\n",
       "      <th>3</th>\n",
       "      <td>27610</td>\n",
       "      <td>Which is the operating income for Qantas?</td>\n",
       "      <td>literal</td>\n",
       "      <td>number</td>\n",
       "      <td>n/a</td>\n",
       "      <td>n/a</td>\n",
       "      <td>n/a</td>\n",
       "      <td>n/a</td>\n",
       "    </tr>\n",
       "    <tr>\n",
       "      <th>4</th>\n",
       "      <td>24488</td>\n",
       "      <td>which cola starts with the letter p</td>\n",
       "      <td>resource</td>\n",
       "      <td>protected name</td>\n",
       "      <td>class</td>\n",
       "      <td>symbol</td>\n",
       "      <td>non-alcoholic beverage</td>\n",
       "      <td>carbonated beverage</td>\n",
       "    </tr>\n",
       "  </tbody>\n",
       "</table>\n",
       "</div>"
      ],
      "text/plain": [
       "      id                                           question  category  \\\n",
       "0  19719  What periodical literature does Delta Air Line...  resource   \n",
       "1  15554        Who is the child of Ranavalona I's husband?  resource   \n",
       "2    974  Is it true Jeff_Bridges occupation Lane Chandl...   boolean   \n",
       "3  27610          Which is the operating income for Qantas?   literal   \n",
       "4  24488                which cola starts with the letter p  resource   \n",
       "\n",
       "           type_1                type_2  type_3                  type_4  \\\n",
       "0          serial  communication medium    text       intellectual work   \n",
       "1  natural person              omnivore  person                     n/a   \n",
       "2         boolean                   n/a     n/a                     n/a   \n",
       "3          number                   n/a     n/a                     n/a   \n",
       "4  protected name                 class  symbol  non-alcoholic beverage   \n",
       "\n",
       "                type_5  \n",
       "0            recurring  \n",
       "1                  n/a  \n",
       "2                  n/a  \n",
       "3                  n/a  \n",
       "4  carbonated beverage  "
      ]
     },
     "execution_count": 11,
     "metadata": {},
     "output_type": "execute_result"
    }
   ],
   "source": [
    "wikidata_df.head()"
   ]
  },
  {
   "cell_type": "code",
   "execution_count": 12,
   "metadata": {},
   "outputs": [
    {
     "data": {
      "text/plain": [
       "resource    9584\n",
       "literal     5188\n",
       "boolean     2799\n",
       "Name: category, dtype: int64"
      ]
     },
     "execution_count": 12,
     "metadata": {},
     "output_type": "execute_result"
    }
   ],
   "source": [
    "dbpedia_df.category.value_counts()"
   ]
  },
  {
   "cell_type": "code",
   "execution_count": 13,
   "metadata": {},
   "outputs": [
    {
     "data": {
      "text/plain": [
       "resource    11683\n",
       "literal      4429\n",
       "boolean      2139\n",
       "Name: category, dtype: int64"
      ]
     },
     "execution_count": 13,
     "metadata": {},
     "output_type": "execute_result"
    }
   ],
   "source": [
    "wikidata_df.category.value_counts()"
   ]
  },
  {
   "cell_type": "code",
   "execution_count": 14,
   "metadata": {},
   "outputs": [
    {
     "data": {
      "text/plain": [
       "dbo:Agent                   4183\n",
       "boolean                     2799\n",
       "dbo:Location                2243\n",
       "string                      2068\n",
       "number                      1634\n",
       "date                        1486\n",
       "dbo:Work                     899\n",
       "dbo:Award                    358\n",
       "dbo:TopicalConcept           295\n",
       "dbo:ChemicalSubstance        247\n",
       "dbo:Activity                 204\n",
       "dbo:Media                    188\n",
       "dbo:Event                    115\n",
       "dbo:Disease                  111\n",
       "dbo:PersonFunction            98\n",
       "dbo:Name                      91\n",
       "dbo:Biomolecule               77\n",
       "dbo:Species                   65\n",
       "dbo:MeanOfTransportation      54\n",
       "dbo:EthnicGroup               44\n",
       "dbo:Country                   42\n",
       "dbo:PoliticalParty            41\n",
       "dbo:Language                  39\n",
       "dbo:AnatomicalStructure       39\n",
       "dbo:Device                    38\n",
       "dbo:MedicalSpecialty          20\n",
       "n/a                           16\n",
       "dbo:UnitOfWork                15\n",
       "dbo:Currency                  11\n",
       "dbo:Food                      11\n",
       "dbo:TimePeriod                 6\n",
       "dbo:River                      4\n",
       "dbo:MountainRange              4\n",
       "dbo:HorseRace                  3\n",
       "dbo:Place                      3\n",
       "dbo:MusicalArtist              3\n",
       "dbo:SoccerPlayer               2\n",
       "dbo:Person                     2\n",
       "dbo:City                       2\n",
       "dbo:CollegeCoach               1\n",
       "dbo:PopulatedPlace             1\n",
       "dbo:Flag                       1\n",
       "dbo:OfficeHolder               1\n",
       "dbo:Holiday                    1\n",
       "dbo:PublicService              1\n",
       "dbo:Museum                     1\n",
       "dbo:SoccerClub                 1\n",
       "dbo:University                 1\n",
       "dbo:RecordLabel                1\n",
       "dbo:BaseballTeam               1\n",
       "Name: type_1, dtype: int64"
      ]
     },
     "execution_count": 14,
     "metadata": {},
     "output_type": "execute_result"
    }
   ],
   "source": [
    "dbpedia_df.type_1.value_counts()"
   ]
  },
  {
   "cell_type": "code",
   "execution_count": 15,
   "metadata": {},
   "outputs": [
    {
     "data": {
      "text/plain": [
       "boolean                    2139\n",
       "string                     2089\n",
       "date                       1304\n",
       "number                     1038\n",
       "omnivore                    741\n",
       "                           ... \n",
       "metallic material             1\n",
       "final                         1\n",
       "manifesto                     1\n",
       "tower                         1\n",
       "recurrent event edition       1\n",
       "Name: type_1, Length: 1880, dtype: int64"
      ]
     },
     "execution_count": 15,
     "metadata": {},
     "output_type": "execute_result"
    }
   ],
   "source": [
    "wikidata_df.type_1.value_counts()"
   ]
  },
  {
   "cell_type": "code",
   "execution_count": 11,
   "metadata": {},
   "outputs": [],
   "source": [
    "dbpedia_df.to_csv(\"../datasets/dbpedia.csv\", sep=\"|\", index=False)\n",
    "#wikidata_df.to_csv(\"../datasets/wikidata.csv\", sep=\"|\", index=False)"
   ]
  },
  {
   "cell_type": "markdown",
   "metadata": {},
   "source": [
    "# Test data to csv"
   ]
  },
  {
   "cell_type": "code",
   "execution_count": 4,
   "metadata": {},
   "outputs": [],
   "source": [
    "dbpedia_json = None\n",
    "\n",
    "with open('../datasets/DBpedia/smarttask_dbpedia_test_questions.json') as json_file:\n",
    "    dbpedia_json = json.load(json_file)"
   ]
  },
  {
   "cell_type": "code",
   "execution_count": 5,
   "metadata": {},
   "outputs": [
    {
     "data": {
      "text/plain": [
       "[{'id': 'dbpedia_16015',\n",
       "  'question': 'How many ingredients are in the grain} ?'},\n",
       " {'id': 'dbpedia_3885',\n",
       "  'question': 'Is the case fatality rate of Fournier gangrene fewer than 9.0?'},\n",
       " {'id': 'dbpedia_12907',\n",
       "  'question': 'Does the shelf life of spinach equal 8?'},\n",
       " {'id': 'dbpedia_7955',\n",
       "  'question': 'What sound does a pig make in the French language?'},\n",
       " {'id': 'dbpedia_2376',\n",
       "  'question': 'When was Fergie completed his record label in Interscope records?'}]"
      ]
     },
     "execution_count": 5,
     "metadata": {},
     "output_type": "execute_result"
    }
   ],
   "source": [
    "dbpedia_json[0:5]"
   ]
  },
  {
   "cell_type": "code",
   "execution_count": 16,
   "metadata": {},
   "outputs": [],
   "source": [
    "ds_dict = { \"id\": list(), \"question\": list()}\n",
    "\n",
    "for item in dbpedia_json:\n",
    "    id_ = item['id']\n",
    "    \n",
    "    if item['question'] == None:\n",
    "        question = 'No Question'\n",
    "        print(question)\n",
    "    else:\n",
    "        question = re.sub(r'[{}]', '', item['question'])\n",
    "        \n",
    "    ds_dict['id'].append(id_)\n",
    "    ds_dict['question'].append(question)\n",
    "    \n",
    "df = pd.DataFrame.from_dict(ds_dict)"
   ]
  },
  {
   "cell_type": "code",
   "execution_count": 17,
   "metadata": {},
   "outputs": [
    {
     "data": {
      "text/html": [
       "<div>\n",
       "<style scoped>\n",
       "    .dataframe tbody tr th:only-of-type {\n",
       "        vertical-align: middle;\n",
       "    }\n",
       "\n",
       "    .dataframe tbody tr th {\n",
       "        vertical-align: top;\n",
       "    }\n",
       "\n",
       "    .dataframe thead th {\n",
       "        text-align: right;\n",
       "    }\n",
       "</style>\n",
       "<table border=\"1\" class=\"dataframe\">\n",
       "  <thead>\n",
       "    <tr style=\"text-align: right;\">\n",
       "      <th></th>\n",
       "      <th>id</th>\n",
       "      <th>question</th>\n",
       "    </tr>\n",
       "  </thead>\n",
       "  <tbody>\n",
       "    <tr>\n",
       "      <th>0</th>\n",
       "      <td>dbpedia_16015</td>\n",
       "      <td>How many ingredients are in the grain ?</td>\n",
       "    </tr>\n",
       "    <tr>\n",
       "      <th>1</th>\n",
       "      <td>dbpedia_3885</td>\n",
       "      <td>Is the case fatality rate of Fournier gangrene...</td>\n",
       "    </tr>\n",
       "    <tr>\n",
       "      <th>2</th>\n",
       "      <td>dbpedia_12907</td>\n",
       "      <td>Does the shelf life of spinach equal 8?</td>\n",
       "    </tr>\n",
       "    <tr>\n",
       "      <th>3</th>\n",
       "      <td>dbpedia_7955</td>\n",
       "      <td>What sound does a pig make in the French langu...</td>\n",
       "    </tr>\n",
       "    <tr>\n",
       "      <th>4</th>\n",
       "      <td>dbpedia_2376</td>\n",
       "      <td>When was Fergie completed his record label in ...</td>\n",
       "    </tr>\n",
       "  </tbody>\n",
       "</table>\n",
       "</div>"
      ],
      "text/plain": [
       "              id                                           question\n",
       "0  dbpedia_16015            How many ingredients are in the grain ?\n",
       "1   dbpedia_3885  Is the case fatality rate of Fournier gangrene...\n",
       "2  dbpedia_12907            Does the shelf life of spinach equal 8?\n",
       "3   dbpedia_7955  What sound does a pig make in the French langu...\n",
       "4   dbpedia_2376  When was Fergie completed his record label in ..."
      ]
     },
     "execution_count": 17,
     "metadata": {},
     "output_type": "execute_result"
    }
   ],
   "source": [
    "df.head()"
   ]
  },
  {
   "cell_type": "code",
   "execution_count": 18,
   "metadata": {},
   "outputs": [],
   "source": [
    "df.to_csv(\"../datasets/dbpedia_test.csv\", sep=\"|\", index=False)"
   ]
  },
  {
   "cell_type": "code",
   "execution_count": null,
   "metadata": {},
   "outputs": [],
   "source": []
  }
 ],
 "metadata": {
  "kernelspec": {
   "display_name": "Python 3",
   "language": "python",
   "name": "python3"
  },
  "language_info": {
   "codemirror_mode": {
    "name": "ipython",
    "version": 3
   },
   "file_extension": ".py",
   "mimetype": "text/x-python",
   "name": "python",
   "nbconvert_exporter": "python",
   "pygments_lexer": "ipython3",
   "version": "3.6.4"
  }
 },
 "nbformat": 4,
 "nbformat_minor": 2
}
