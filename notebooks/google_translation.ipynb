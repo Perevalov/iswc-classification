{
 "cells": [
  {
   "cell_type": "code",
   "execution_count": 10,
   "metadata": {},
   "outputs": [],
   "source": [
    "import os, six, json\n",
    "from tqdm.notebook import tqdm\n",
    "os.environ[\"GOOGLE_APPLICATION_CREDENTIALS\"]=\"/home/alex/Загрузки/AutoML-466fc88403db.json\""
   ]
  },
  {
   "cell_type": "code",
   "execution_count": 2,
   "metadata": {},
   "outputs": [],
   "source": [
    "from google.cloud import translate_v2 as translate\n",
    "translate_client = translate.Client()"
   ]
  },
  {
   "cell_type": "code",
   "execution_count": 3,
   "metadata": {},
   "outputs": [],
   "source": [
    "TARGET_LANG_LIST = ['de', 'fr', 'es', 'ru']"
   ]
  },
  {
   "cell_type": "code",
   "execution_count": 12,
   "metadata": {},
   "outputs": [],
   "source": [
    "def translate(text, source_lang='en', target_lang='en'):\n",
    "    if isinstance(text, six.binary_type):\n",
    "        text = text.decode('utf-8')\n",
    "    \n",
    "    result = translate_client.translate(\n",
    "        text, source_language=source_lang, target_language=target_lang)\n",
    "    \n",
    "    return result['translatedText']"
   ]
  },
  {
   "cell_type": "code",
   "execution_count": 4,
   "metadata": {},
   "outputs": [],
   "source": [
    "dbpedia_json = None\n",
    "\n",
    "with open('../datasets/DBpedia/smarttask_dbpedia_test_questions.json') as json_file:\n",
    "    dbpedia_json = json.load(json_file)"
   ]
  },
  {
   "cell_type": "code",
   "execution_count": 8,
   "metadata": {},
   "outputs": [
    {
     "data": {
      "text/plain": [
       "{'id': 'dbpedia_16015', 'question': 'How many ingredients are in the grain} ?'}"
      ]
     },
     "execution_count": 8,
     "metadata": {},
     "output_type": "execute_result"
    }
   ],
   "source": [
    "dbpedia_json[0]"
   ]
  },
  {
   "cell_type": "code",
   "execution_count": 13,
   "metadata": {},
   "outputs": [
    {
     "data": {
      "application/vnd.jupyter.widget-view+json": {
       "model_id": "abb5a2f227cb4760a849012e0c4ebe41",
       "version_major": 2,
       "version_minor": 0
      },
      "text/plain": [
       "HBox(children=(FloatProgress(value=0.0, max=4381.0), HTML(value='')))"
      ]
     },
     "metadata": {},
     "output_type": "display_data"
    },
    {
     "name": "stdout",
     "output_type": "stream",
     "text": [
      "\n"
     ]
    }
   ],
   "source": [
    "for i in tqdm(range(len(dbpedia_json))):\n",
    "    if dbpedia_json[i]['question']:\n",
    "        for lang in TARGET_LANG_LIST:\n",
    "            result = translate(dbpedia_json[i]['question'], target_lang=lang)\n",
    "            dbpedia_json[i]['question_{0}'.format(lang)] = result"
   ]
  },
  {
   "cell_type": "code",
   "execution_count": 14,
   "metadata": {},
   "outputs": [],
   "source": [
    "with open('../datasets/DBpedia/multiling_dbpedia_test.json', 'w') as json_file:\n",
    "    json.dump(dbpedia_json, json_file)"
   ]
  },
  {
   "cell_type": "markdown",
   "metadata": {},
   "source": [
    "## Reverse translation"
   ]
  },
  {
   "cell_type": "code",
   "execution_count": 38,
   "metadata": {},
   "outputs": [
    {
     "data": {
      "text/plain": [
       "{'id': 'dbpedia_9396',\n",
       " 'question': \"Who is the Soviet Union's head of state?\",\n",
       " 'category': 'resource',\n",
       " 'type': ['dbo:Person', 'dbo:Agent'],\n",
       " 'question_de': 'Wer ist das Staatsoberhaupt der Sowjetunion?',\n",
       " 'question_fr': 'Qui est le chef d&#39;État de l&#39;Union soviétique?',\n",
       " 'question_es': '¿Quién es el jefe de estado de la Unión Soviética?',\n",
       " 'question_ru': 'Кто является главой Советского Союза?'}"
      ]
     },
     "execution_count": 38,
     "metadata": {},
     "output_type": "execute_result"
    }
   ],
   "source": [
    "dbpedia_json[154]"
   ]
  },
  {
   "cell_type": "code",
   "execution_count": 40,
   "metadata": {},
   "outputs": [
    {
     "data": {
      "text/plain": [
       "'Who is the head of the Soviet Union?'"
      ]
     },
     "execution_count": 40,
     "metadata": {},
     "output_type": "execute_result"
    }
   ],
   "source": [
    "translate('Кто является главой Советского Союза?', source_lang='ru', target_lang='en')"
   ]
  },
  {
   "cell_type": "code",
   "execution_count": 41,
   "metadata": {},
   "outputs": [
    {
     "data": {
      "text/plain": [
       "'Who is the head of state of the Soviet Union?'"
      ]
     },
     "execution_count": 41,
     "metadata": {},
     "output_type": "execute_result"
    }
   ],
   "source": [
    "translate('Wer ist das Staatsoberhaupt der Sowjetunion?', source_lang='de', target_lang='en')"
   ]
  },
  {
   "cell_type": "code",
   "execution_count": 42,
   "metadata": {},
   "outputs": [
    {
     "data": {
      "text/plain": [
       "'Who is the head of state of the Soviet Union?'"
      ]
     },
     "execution_count": 42,
     "metadata": {},
     "output_type": "execute_result"
    }
   ],
   "source": [
    "translate('Qui est le chef d&#39;État de l&#39;Union soviétique?', source_lang='fr', target_lang='en')"
   ]
  },
  {
   "cell_type": "code",
   "execution_count": 43,
   "metadata": {},
   "outputs": [
    {
     "data": {
      "text/plain": [
       "'Who is the head of state of the Soviet Union?'"
      ]
     },
     "execution_count": 43,
     "metadata": {},
     "output_type": "execute_result"
    }
   ],
   "source": [
    "translate('¿Quién es el jefe de estado de la Unión Soviética?', source_lang='es', target_lang='en')"
   ]
  },
  {
   "cell_type": "code",
   "execution_count": 5,
   "metadata": {},
   "outputs": [],
   "source": [
    "dbpedia_json = None\n",
    "\n",
    "with open('../datasets/DBpedia/multiling_reverse13474_dbpedia.json') as json_file:\n",
    "    dbpedia_json = json.load(json_file)"
   ]
  },
  {
   "cell_type": "code",
   "execution_count": 6,
   "metadata": {},
   "outputs": [],
   "source": [
    "SOURCE_LANG_LIST = ['de', 'ru']"
   ]
  },
  {
   "cell_type": "code",
   "execution_count": 9,
   "metadata": {},
   "outputs": [
    {
     "name": "stderr",
     "output_type": "stream",
     "text": [
      "100%|██████████| 4098/4098 [14:50<00:00,  4.39it/s]\n"
     ]
    }
   ],
   "source": [
    "for i in tqdm.tqdm(range(13473, len(dbpedia_json))):\n",
    "    if dbpedia_json[i]['question']:\n",
    "        for lang in SOURCE_LANG_LIST:\n",
    "            result = translate(dbpedia_json[i]['question_{0}'.format(lang)], source_lang=lang)\n",
    "            dbpedia_json[i]['question_r_{0}'.format(lang)] = result"
   ]
  },
  {
   "cell_type": "code",
   "execution_count": 10,
   "metadata": {},
   "outputs": [],
   "source": [
    "with open('../datasets/DBpedia/multiling_reverse_dbpedia.json', 'w') as json_file:\n",
    "    json.dump(dbpedia_json, json_file)"
   ]
  },
  {
   "cell_type": "code",
   "execution_count": null,
   "metadata": {},
   "outputs": [],
   "source": []
  }
 ],
 "metadata": {
  "kernelspec": {
   "display_name": "Python 3",
   "language": "python",
   "name": "python3"
  },
  "language_info": {
   "codemirror_mode": {
    "name": "ipython",
    "version": 3
   },
   "file_extension": ".py",
   "mimetype": "text/x-python",
   "name": "python",
   "nbconvert_exporter": "python",
   "pygments_lexer": "ipython3",
   "version": "3.6.4"
  }
 },
 "nbformat": 4,
 "nbformat_minor": 2
}
