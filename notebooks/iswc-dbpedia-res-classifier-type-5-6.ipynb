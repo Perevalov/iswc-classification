{
 "cells": [
  {
   "cell_type": "code",
   "execution_count": 1,
   "metadata": {
    "_cell_guid": "b1076dfc-b9ad-4769-8c92-a6c4dae69d19",
    "_uuid": "8f2839f25d086af736a60e9eeb907d3b93b6e0e5",
    "execution": {
     "iopub.execute_input": "2020-08-21T08:21:21.772602Z",
     "iopub.status.busy": "2020-08-21T08:21:21.771835Z",
     "iopub.status.idle": "2020-08-21T08:21:30.786373Z",
     "shell.execute_reply": "2020-08-21T08:21:30.785455Z"
    },
    "papermill": {
     "duration": 9.02936,
     "end_time": "2020-08-21T08:21:30.786505",
     "exception": false,
     "start_time": "2020-08-21T08:21:21.757145",
     "status": "completed"
    },
    "tags": []
   },
   "outputs": [
    {
     "name": "stderr",
     "output_type": "stream",
     "text": [
      "Using TensorFlow backend.\n"
     ]
    }
   ],
   "source": [
    "import os\n",
    "\n",
    "import numpy as np\n",
    "from sklearn.preprocessing import LabelEncoder\n",
    "from keras.utils import np_utils\n",
    "import gc\n",
    "import pandas as pd\n",
    "import tensorflow as tf\n",
    "from tensorflow.keras.layers import Dense, Input\n",
    "from tensorflow.keras.optimizers import Adam\n",
    "from tensorflow.keras.models import Model\n",
    "from tensorflow.keras.callbacks import ModelCheckpoint\n",
    "from kaggle_datasets import KaggleDatasets\n",
    "import transformers\n",
    "from transformers import TFAutoModel, AutoTokenizer\n",
    "from tqdm.notebook import tqdm\n",
    "from sklearn.model_selection import train_test_split\n",
    "\n",
    "from sklearn.metrics import roc_auc_score, accuracy_score, f1_score\n",
    "from sklearn.metrics import confusion_matrix\n",
    "from tensorflow.keras.callbacks import Callback \n",
    "from tokenizers import Tokenizer, models, pre_tokenizers, decoders, processors"
   ]
  },
  {
   "cell_type": "markdown",
   "execution_count": null,
   "metadata": {
    "papermill": {
     "duration": 0.005291,
     "end_time": "2020-08-21T08:21:30.798733",
     "exception": false,
     "start_time": "2020-08-21T08:21:30.793442",
     "status": "completed"
    },
    "tags": []
   },
   "source": [
    "## Helper Functions"
   ]
  },
  {
   "cell_type": "code",
   "execution_count": 2,
   "metadata": {
    "execution": {
     "iopub.execute_input": "2020-08-21T08:21:30.823591Z",
     "iopub.status.busy": "2020-08-21T08:21:30.821860Z",
     "iopub.status.idle": "2020-08-21T08:21:30.824328Z",
     "shell.execute_reply": "2020-08-21T08:21:30.824807Z"
    },
    "papermill": {
     "duration": 0.020766,
     "end_time": "2020-08-21T08:21:30.824919",
     "exception": false,
     "start_time": "2020-08-21T08:21:30.804153",
     "status": "completed"
    },
    "tags": []
   },
   "outputs": [],
   "source": [
    "def regular_encode(texts, tokenizer, maxlen=512):\n",
    "    enc_di = tokenizer.batch_encode_plus(\n",
    "        texts, \n",
    "        return_attention_masks=False, \n",
    "        return_token_type_ids=False,\n",
    "        pad_to_max_length=True,\n",
    "        max_length=maxlen\n",
    "    )\n",
    "    \n",
    "    return np.array(enc_di['input_ids'])"
   ]
  },
  {
   "cell_type": "code",
   "execution_count": 3,
   "metadata": {
    "execution": {
     "iopub.execute_input": "2020-08-21T08:21:30.843970Z",
     "iopub.status.busy": "2020-08-21T08:21:30.843311Z",
     "iopub.status.idle": "2020-08-21T08:21:30.846909Z",
     "shell.execute_reply": "2020-08-21T08:21:30.846402Z"
    },
    "papermill": {
     "duration": 0.016707,
     "end_time": "2020-08-21T08:21:30.847028",
     "exception": false,
     "start_time": "2020-08-21T08:21:30.830321",
     "status": "completed"
    },
    "tags": []
   },
   "outputs": [],
   "source": [
    "def build_model(transformer, max_len=512, hidden_dim=32, num_of_classes=3):\n",
    "    input_word_ids = Input(shape=(max_len,), dtype=tf.int32, name=\"input_word_ids\")\n",
    "    sequence_output = transformer(input_word_ids)[0]\n",
    "    cls_token = sequence_output[:, 0, :]\n",
    "    \n",
    "    out = Dense(num_of_classes, activation='sigmoid')(cls_token)\n",
    "    \n",
    "    model = Model(inputs=input_word_ids, outputs=out)\n",
    "    model.compile(Adam(lr=1e-5), loss='categorical_crossentropy', metrics=['accuracy'])\n",
    "    \n",
    "    return model"
   ]
  },
  {
   "cell_type": "markdown",
   "execution_count": null,
   "metadata": {
    "papermill": {
     "duration": 0.005197,
     "end_time": "2020-08-21T08:21:30.859628",
     "exception": false,
     "start_time": "2020-08-21T08:21:30.854431",
     "status": "completed"
    },
    "tags": []
   },
   "source": [
    "## TPU Configs"
   ]
  },
  {
   "cell_type": "code",
   "execution_count": 4,
   "metadata": {
    "execution": {
     "iopub.execute_input": "2020-08-21T08:21:30.878702Z",
     "iopub.status.busy": "2020-08-21T08:21:30.877963Z",
     "iopub.status.idle": "2020-08-21T08:21:30.883758Z",
     "shell.execute_reply": "2020-08-21T08:21:30.883080Z"
    },
    "papermill": {
     "duration": 0.018773,
     "end_time": "2020-08-21T08:21:30.883873",
     "exception": false,
     "start_time": "2020-08-21T08:21:30.865100",
     "status": "completed"
    },
    "tags": []
   },
   "outputs": [
    {
     "name": "stdout",
     "output_type": "stream",
     "text": [
      "REPLICAS:  1\n"
     ]
    }
   ],
   "source": [
    "# Detect hardware, return appropriate distribution strategy\n",
    "try:\n",
    "    # TPU detection. No parameters necessary if TPU_NAME environment variable is\n",
    "    # set: this is always the case on Kaggle.\n",
    "    tpu = tf.distribute.cluster_resolver.TPUClusterResolver()\n",
    "    print('Running on TPU ', tpu.master())\n",
    "except ValueError:\n",
    "    tpu = None\n",
    "\n",
    "if tpu:\n",
    "    tf.config.experimental_connect_to_cluster(tpu)\n",
    "    tf.tpu.experimental.initialize_tpu_system(tpu)\n",
    "    strategy = tf.distribute.experimental.TPUStrategy(tpu)\n",
    "else:\n",
    "    # Default distribution strategy in Tensorflow. Works on CPU and single GPU.\n",
    "    strategy = tf.distribute.get_strategy()\n",
    "\n",
    "print(\"REPLICAS: \", strategy.num_replicas_in_sync)"
   ]
  },
  {
   "cell_type": "code",
   "execution_count": 5,
   "metadata": {
    "execution": {
     "iopub.execute_input": "2020-08-21T08:21:30.900704Z",
     "iopub.status.busy": "2020-08-21T08:21:30.899789Z",
     "iopub.status.idle": "2020-08-21T08:21:30.902922Z",
     "shell.execute_reply": "2020-08-21T08:21:30.902412Z"
    },
    "papermill": {
     "duration": 0.013267,
     "end_time": "2020-08-21T08:21:30.903022",
     "exception": false,
     "start_time": "2020-08-21T08:21:30.889755",
     "status": "completed"
    },
    "tags": []
   },
   "outputs": [],
   "source": [
    "AUTO = tf.data.experimental.AUTOTUNE\n",
    "\n",
    "# Configuration\n",
    "EPOCHS = 2\n",
    "BATCH_SIZE = 16 * strategy.num_replicas_in_sync\n",
    "MAX_LEN = 96\n",
    "MODEL = 'bert-base-multilingual-cased'"
   ]
  },
  {
   "cell_type": "markdown",
   "execution_count": null,
   "metadata": {
    "papermill": {
     "duration": 0.005837,
     "end_time": "2020-08-21T08:21:30.914701",
     "exception": false,
     "start_time": "2020-08-21T08:21:30.908864",
     "status": "completed"
    },
    "tags": []
   },
   "source": [
    "## Create fast tokenizer"
   ]
  },
  {
   "cell_type": "code",
   "execution_count": 6,
   "metadata": {
    "execution": {
     "iopub.execute_input": "2020-08-21T08:21:30.930178Z",
     "iopub.status.busy": "2020-08-21T08:21:30.929455Z",
     "iopub.status.idle": "2020-08-21T08:21:31.650017Z",
     "shell.execute_reply": "2020-08-21T08:21:31.650745Z"
    },
    "papermill": {
     "duration": 0.730411,
     "end_time": "2020-08-21T08:21:31.650944",
     "exception": false,
     "start_time": "2020-08-21T08:21:30.920533",
     "status": "completed"
    },
    "tags": []
   },
   "outputs": [
    {
     "data": {
      "application/vnd.jupyter.widget-view+json": {
       "model_id": "9e1d038859a541e592fc2a687ca9193f",
       "version_major": 2,
       "version_minor": 0
      },
      "text/plain": [
       "HBox(children=(FloatProgress(value=0.0, description='Downloading', max=625.0, style=ProgressStyle(description_…"
      ]
     },
     "metadata": {},
     "output_type": "display_data"
    },
    {
     "name": "stdout",
     "output_type": "stream",
     "text": [
      "\n"
     ]
    },
    {
     "data": {
      "application/vnd.jupyter.widget-view+json": {
       "model_id": "14cd5b651fd248a2b2957ff67475974e",
       "version_major": 2,
       "version_minor": 0
      },
      "text/plain": [
       "HBox(children=(FloatProgress(value=0.0, description='Downloading', max=995526.0, style=ProgressStyle(descripti…"
      ]
     },
     "metadata": {},
     "output_type": "display_data"
    },
    {
     "name": "stdout",
     "output_type": "stream",
     "text": [
      "\n"
     ]
    }
   ],
   "source": [
    "# First load the real tokenizer\n",
    "tokenizer = AutoTokenizer.from_pretrained(MODEL)"
   ]
  },
  {
   "cell_type": "markdown",
   "execution_count": null,
   "metadata": {
    "papermill": {
     "duration": 0.006416,
     "end_time": "2020-08-21T08:21:31.664907",
     "exception": false,
     "start_time": "2020-08-21T08:21:31.658491",
     "status": "completed"
    },
    "tags": []
   },
   "source": [
    "## Load text data into memory"
   ]
  },
  {
   "cell_type": "code",
   "execution_count": 7,
   "metadata": {
    "execution": {
     "iopub.execute_input": "2020-08-21T08:21:31.700834Z",
     "iopub.status.busy": "2020-08-21T08:21:31.700225Z",
     "iopub.status.idle": "2020-08-21T08:21:32.276571Z",
     "shell.execute_reply": "2020-08-21T08:21:32.277123Z"
    },
    "papermill": {
     "duration": 0.606084,
     "end_time": "2020-08-21T08:21:32.277287",
     "exception": false,
     "start_time": "2020-08-21T08:21:31.671203",
     "status": "completed"
    },
    "tags": []
   },
   "outputs": [],
   "source": [
    "AUGMENT_DATA = True\n",
    "\n",
    "dbpedia_df = pd.read_csv(\"/kaggle/input/test-06366/dbpedia.csv\", sep=\"|\")\n",
    "faketest_dbpedia_df = dbpedia_df.sample(4400, random_state=42)\n",
    "\n",
    "for i in range(5):\n",
    "    dbpedia_df[\"type_{0}\".format(i+1)].fillna(value=\"NoneType\")\n",
    "    dbpedia_df[\"type_{0}\".format(i+1)] = dbpedia_df[\"type_{0}\".format(i+1)].astype(str)\n",
    "\n",
    "if AUGMENT_DATA:\n",
    "    common_de_df = dbpedia_df.copy()\n",
    "    common_de_df.question = dbpedia_df.question_de\n",
    "\n",
    "    common_fr_df = dbpedia_df.copy()\n",
    "    common_fr_df.question = dbpedia_df.question_fr\n",
    "\n",
    "    common_es_df = dbpedia_df.copy()\n",
    "    common_es_df.question = dbpedia_df.question_es\n",
    "\n",
    "    common_ru_df = dbpedia_df.copy()\n",
    "    common_ru_df.question = dbpedia_df.question_ru\n",
    "\n",
    "    common_df = dbpedia_df.append(common_de_df).append(common_fr_df).append(common_es_df).append(common_ru_df)\n",
    "    del common_de_df, common_fr_df, common_es_df, common_ru_df\n",
    "\n",
    "    dbpedia_df = common_df\n",
    "\n",
    "dbpedia_df.drop(['question_de', 'question_fr', 'question_es', 'question_ru'], axis=1, inplace=True)\n",
    "dbpedia_df.dropna(subset=['question'], inplace=True)    \n",
    "dbpedia_df = dbpedia_df[~dbpedia_df.id.isin(faketest_dbpedia_df.id.values)]\n",
    "\n",
    "X_db_train, X_db_test, y1_db_train, y1_db_test, y2_db_train, y2_db_test, y3_db_train, y3_db_test, y4_db_train, y4_db_test, y5_db_train, y5_db_test = train_test_split(dbpedia_df[dbpedia_df.category == \"resource\"].question.astype(str), \n",
    "                                                                dbpedia_df[dbpedia_df.category == \"resource\"].type_1,\n",
    "                                                                dbpedia_df[dbpedia_df.category == \"resource\"].type_2,\n",
    "                                                                dbpedia_df[dbpedia_df.category == \"resource\"].type_3,\n",
    "                                                                dbpedia_df[dbpedia_df.category == \"resource\"].type_4,\n",
    "                                                                dbpedia_df[dbpedia_df.category == \"resource\"].type_5,\n",
    "                                                                test_size=0.33, random_state=42)"
   ]
  },
  {
   "cell_type": "markdown",
   "execution_count": null,
   "metadata": {
    "papermill": {
     "duration": 0.009927,
     "end_time": "2020-08-21T08:21:32.300887",
     "exception": false,
     "start_time": "2020-08-21T08:21:32.290960",
     "status": "completed"
    },
    "tags": []
   },
   "source": [
    "## DBpedia Resource classifier"
   ]
  },
  {
   "cell_type": "code",
   "execution_count": 8,
   "metadata": {
    "execution": {
     "iopub.execute_input": "2020-08-21T08:21:32.323620Z",
     "iopub.status.busy": "2020-08-21T08:21:32.322575Z",
     "iopub.status.idle": "2020-08-21T08:21:32.325764Z",
     "shell.execute_reply": "2020-08-21T08:21:32.325199Z"
    },
    "papermill": {
     "duration": 0.015912,
     "end_time": "2020-08-21T08:21:32.325873",
     "exception": false,
     "start_time": "2020-08-21T08:21:32.309961",
     "status": "completed"
    },
    "tags": []
   },
   "outputs": [],
   "source": [
    "y_train = [y1_db_train, y2_db_train, y3_db_train, y4_db_train, y5_db_train]\n",
    "y_test = [y1_db_test, y2_db_test, y3_db_test, y4_db_test, y5_db_test]"
   ]
  },
  {
   "cell_type": "code",
   "execution_count": 9,
   "metadata": {
    "execution": {
     "iopub.execute_input": "2020-08-21T08:21:32.365738Z",
     "iopub.status.busy": "2020-08-21T08:21:32.364380Z",
     "iopub.status.idle": "2020-08-21T08:35:44.063521Z",
     "shell.execute_reply": "2020-08-21T08:35:44.065902Z"
    },
    "papermill": {
     "duration": 851.732814,
     "end_time": "2020-08-21T08:35:44.066149",
     "exception": false,
     "start_time": "2020-08-21T08:21:32.333335",
     "status": "completed"
    },
    "tags": []
   },
   "outputs": [
    {
     "data": {
      "application/vnd.jupyter.widget-view+json": {
       "model_id": "85d85c4b1d254d36a5595c4b1a2643f5",
       "version_major": 2,
       "version_minor": 0
      },
      "text/plain": [
       "HBox(children=(FloatProgress(value=0.0, description='Downloading', max=1083389348.0, style=ProgressStyle(descr…"
      ]
     },
     "metadata": {},
     "output_type": "display_data"
    },
    {
     "name": "stdout",
     "output_type": "stream",
     "text": [
      "\n",
      "Train for 1485 steps\n",
      "Epoch 1/2\n",
      "1485/1485 [==============================] - 351s 236ms/step - loss: 1.1970 - accuracy: 0.8307\n",
      "Epoch 2/2\n",
      "1485/1485 [==============================] - 335s 226ms/step - loss: 0.5241 - accuracy: 0.8854\n",
      "732/732 [==============================] - 61s 84ms/step\n",
      "F1: 0.8705704404965949\n",
      "CPU times: user 7min 44s, sys: 1min 17s, total: 9min 2s\n",
      "Wall time: 14min 9s\n"
     ]
    }
   ],
   "source": [
    "%%time\n",
    "#models_list = list()\n",
    "le_list = list()\n",
    "\n",
    "for i in range(4,5):\n",
    "    encoder_db = LabelEncoder()\n",
    "    encoder_db.fit(dbpedia_df[dbpedia_df.category == \"resource\"][\"type_{0}\".format(i+1)])\n",
    "    encoded_Y_db_train = encoder_db.transform(y_train[i])\n",
    "    encoded_Y_db_test = encoder_db.transform(y_test[i])\n",
    "    dummy_y_db_train = np_utils.to_categorical(encoded_Y_db_train) # convert integers to dummy variables (i.e. one hot encoded)\n",
    "    \n",
    "    np.save('encoder_type{0}.npy'.format(i+1), encoder_db.classes_)\n",
    "    \n",
    "    le_list.append(encoder_db)    \n",
    "    \n",
    "    x_db_train = regular_encode(X_db_train.values.astype(str), tokenizer, maxlen=MAX_LEN)\n",
    "    x_db_test = regular_encode(X_db_test.values.astype(str), tokenizer, maxlen=MAX_LEN)\n",
    "    \n",
    "    train_dataset_db = (\n",
    "        tf.data.Dataset\n",
    "        .from_tensor_slices((x_db_train, dummy_y_db_train))\n",
    "        .repeat()\n",
    "        .shuffle(2048)\n",
    "        .batch(BATCH_SIZE)\n",
    "        .prefetch(AUTO)\n",
    "    )\n",
    "\n",
    "    test_dataset_db = (\n",
    "        tf.data.Dataset\n",
    "        .from_tensor_slices(x_db_test)\n",
    "        .batch(BATCH_SIZE)\n",
    "    )\n",
    "    \n",
    "    with strategy.scope():\n",
    "        transformer_layer = TFAutoModel.from_pretrained(MODEL)\n",
    "        model = build_model(transformer_layer, max_len=MAX_LEN, num_of_classes=dbpedia_df[dbpedia_df.category == \"resource\"][\"type_{0}\".format(i+1)].nunique())\n",
    "        \n",
    "    n_steps = x_db_train.shape[0] // BATCH_SIZE\n",
    "    train_history = model.fit(\n",
    "        train_dataset_db,\n",
    "        steps_per_epoch=n_steps,\n",
    "        epochs=EPOCHS #,\n",
    "        #callbacks=[early_stopping]\n",
    "    )\n",
    "    \n",
    "    y_db_test_pred = np.argmax(model.predict(test_dataset_db, verbose=1), axis=1)\n",
    "    \n",
    "    #models_list.append(model)\n",
    "    \n",
    "    f1 = f1_score(encoded_Y_db_test, y_db_test_pred, average='weighted')\n",
    "    print('F1: {0}'.format(f1))\n",
    "    \n",
    "    model.save(\"model_{0}\".format(i+1))\n",
    "    del model\n",
    "    \n",
    "    gc.collect()"
   ]
  },
  {
   "cell_type": "code",
   "execution_count": null,
   "metadata": {
    "papermill": {
     "duration": 1.057422,
     "end_time": "2020-08-21T08:35:47.168792",
     "exception": false,
     "start_time": "2020-08-21T08:35:46.111370",
     "status": "completed"
    },
    "tags": []
   },
   "outputs": [],
   "source": []
  }
 ],
 "metadata": {
  "kernelspec": {
   "display_name": "Python 3",
   "language": "python",
   "name": "python3"
  },
  "language_info": {
   "codemirror_mode": {
    "name": "ipython",
    "version": 3
   },
   "file_extension": ".py",
   "mimetype": "text/x-python",
   "name": "python",
   "nbconvert_exporter": "python",
   "pygments_lexer": "ipython3",
   "version": "3.7.6"
  },
  "papermill": {
   "duration": 872.213297,
   "end_time": "2020-08-21T08:35:49.483696",
   "environment_variables": {},
   "exception": null,
   "input_path": "__notebook__.ipynb",
   "output_path": "__notebook__.ipynb",
   "parameters": {},
   "start_time": "2020-08-21T08:21:17.270399",
   "version": "2.1.0"
  },
  "widgets": {
   "application/vnd.jupyter.widget-state+json": {
    "state": {
     "14cd5b651fd248a2b2957ff67475974e": {
      "model_module": "@jupyter-widgets/controls",
      "model_module_version": "1.5.0",
      "model_name": "HBoxModel",
      "state": {
       "_dom_classes": [],
       "_model_module": "@jupyter-widgets/controls",
       "_model_module_version": "1.5.0",
       "_model_name": "HBoxModel",
       "_view_count": null,
       "_view_module": "@jupyter-widgets/controls",
       "_view_module_version": "1.5.0",
       "_view_name": "HBoxView",
       "box_style": "",
       "children": [
        "IPY_MODEL_9268f1b7471f4c1db928046b40e8aaf8",
        "IPY_MODEL_ba5fb580bbe24cf8bcfc7ab98aa0c7fb"
       ],
       "layout": "IPY_MODEL_ce7d1906a1ab472ca0688fba0c6530e9"
      }
     },
     "178b879b3acc427b8293bf16b3c580df": {
      "model_module": "@jupyter-widgets/controls",
      "model_module_version": "1.5.0",
      "model_name": "DescriptionStyleModel",
      "state": {
       "_model_module": "@jupyter-widgets/controls",
       "_model_module_version": "1.5.0",
       "_model_name": "DescriptionStyleModel",
       "_view_count": null,
       "_view_module": "@jupyter-widgets/base",
       "_view_module_version": "1.2.0",
       "_view_name": "StyleView",
       "description_width": ""
      }
     },
     "18833b2716034a9aadef6eed220341ea": {
      "model_module": "@jupyter-widgets/controls",
      "model_module_version": "1.5.0",
      "model_name": "ProgressStyleModel",
      "state": {
       "_model_module": "@jupyter-widgets/controls",
       "_model_module_version": "1.5.0",
       "_model_name": "ProgressStyleModel",
       "_view_count": null,
       "_view_module": "@jupyter-widgets/base",
       "_view_module_version": "1.2.0",
       "_view_name": "StyleView",
       "bar_color": null,
       "description_width": "initial"
      }
     },
     "2863d9b9226646338667af58244385b9": {
      "model_module": "@jupyter-widgets/controls",
      "model_module_version": "1.5.0",
      "model_name": "ProgressStyleModel",
      "state": {
       "_model_module": "@jupyter-widgets/controls",
       "_model_module_version": "1.5.0",
       "_model_name": "ProgressStyleModel",
       "_view_count": null,
       "_view_module": "@jupyter-widgets/base",
       "_view_module_version": "1.2.0",
       "_view_name": "StyleView",
       "bar_color": null,
       "description_width": "initial"
      }
     },
     "40916f46ef014db8a7a1f6c2df4e542c": {
      "model_module": "@jupyter-widgets/base",
      "model_module_version": "1.2.0",
      "model_name": "LayoutModel",
      "state": {
       "_model_module": "@jupyter-widgets/base",
       "_model_module_version": "1.2.0",
       "_model_name": "LayoutModel",
       "_view_count": null,
       "_view_module": "@jupyter-widgets/base",
       "_view_module_version": "1.2.0",
       "_view_name": "LayoutView",
       "align_content": null,
       "align_items": null,
       "align_self": null,
       "border": null,
       "bottom": null,
       "display": null,
       "flex": null,
       "flex_flow": null,
       "grid_area": null,
       "grid_auto_columns": null,
       "grid_auto_flow": null,
       "grid_auto_rows": null,
       "grid_column": null,
       "grid_gap": null,
       "grid_row": null,
       "grid_template_areas": null,
       "grid_template_columns": null,
       "grid_template_rows": null,
       "height": null,
       "justify_content": null,
       "justify_items": null,
       "left": null,
       "margin": null,
       "max_height": null,
       "max_width": null,
       "min_height": null,
       "min_width": null,
       "object_fit": null,
       "object_position": null,
       "order": null,
       "overflow": null,
       "overflow_x": null,
       "overflow_y": null,
       "padding": null,
       "right": null,
       "top": null,
       "visibility": null,
       "width": null
      }
     },
     "52121f1796ce4f1ca801ac75c2bdf888": {
      "model_module": "@jupyter-widgets/base",
      "model_module_version": "1.2.0",
      "model_name": "LayoutModel",
      "state": {
       "_model_module": "@jupyter-widgets/base",
       "_model_module_version": "1.2.0",
       "_model_name": "LayoutModel",
       "_view_count": null,
       "_view_module": "@jupyter-widgets/base",
       "_view_module_version": "1.2.0",
       "_view_name": "LayoutView",
       "align_content": null,
       "align_items": null,
       "align_self": null,
       "border": null,
       "bottom": null,
       "display": null,
       "flex": null,
       "flex_flow": null,
       "grid_area": null,
       "grid_auto_columns": null,
       "grid_auto_flow": null,
       "grid_auto_rows": null,
       "grid_column": null,
       "grid_gap": null,
       "grid_row": null,
       "grid_template_areas": null,
       "grid_template_columns": null,
       "grid_template_rows": null,
       "height": null,
       "justify_content": null,
       "justify_items": null,
       "left": null,
       "margin": null,
       "max_height": null,
       "max_width": null,
       "min_height": null,
       "min_width": null,
       "object_fit": null,
       "object_position": null,
       "order": null,
       "overflow": null,
       "overflow_x": null,
       "overflow_y": null,
       "padding": null,
       "right": null,
       "top": null,
       "visibility": null,
       "width": null
      }
     },
     "5990eee73f1041eba6e513ab2610a13a": {
      "model_module": "@jupyter-widgets/base",
      "model_module_version": "1.2.0",
      "model_name": "LayoutModel",
      "state": {
       "_model_module": "@jupyter-widgets/base",
       "_model_module_version": "1.2.0",
       "_model_name": "LayoutModel",
       "_view_count": null,
       "_view_module": "@jupyter-widgets/base",
       "_view_module_version": "1.2.0",
       "_view_name": "LayoutView",
       "align_content": null,
       "align_items": null,
       "align_self": null,
       "border": null,
       "bottom": null,
       "display": null,
       "flex": null,
       "flex_flow": null,
       "grid_area": null,
       "grid_auto_columns": null,
       "grid_auto_flow": null,
       "grid_auto_rows": null,
       "grid_column": null,
       "grid_gap": null,
       "grid_row": null,
       "grid_template_areas": null,
       "grid_template_columns": null,
       "grid_template_rows": null,
       "height": null,
       "justify_content": null,
       "justify_items": null,
       "left": null,
       "margin": null,
       "max_height": null,
       "max_width": null,
       "min_height": null,
       "min_width": null,
       "object_fit": null,
       "object_position": null,
       "order": null,
       "overflow": null,
       "overflow_x": null,
       "overflow_y": null,
       "padding": null,
       "right": null,
       "top": null,
       "visibility": null,
       "width": null
      }
     },
     "74064cbf15d7459199a3823032e44f75": {
      "model_module": "@jupyter-widgets/controls",
      "model_module_version": "1.5.0",
      "model_name": "HTMLModel",
      "state": {
       "_dom_classes": [],
       "_model_module": "@jupyter-widgets/controls",
       "_model_module_version": "1.5.0",
       "_model_name": "HTMLModel",
       "_view_count": null,
       "_view_module": "@jupyter-widgets/controls",
       "_view_module_version": "1.5.0",
       "_view_name": "HTMLView",
       "description": "",
       "description_tooltip": null,
       "layout": "IPY_MODEL_40916f46ef014db8a7a1f6c2df4e542c",
       "placeholder": "​",
       "style": "IPY_MODEL_178b879b3acc427b8293bf16b3c580df",
       "value": " 1.08G/1.08G [00:30&lt;00:00, 35.8MB/s]"
      }
     },
     "7a87573e35d74801bb80451242dc7e01": {
      "model_module": "@jupyter-widgets/base",
      "model_module_version": "1.2.0",
      "model_name": "LayoutModel",
      "state": {
       "_model_module": "@jupyter-widgets/base",
       "_model_module_version": "1.2.0",
       "_model_name": "LayoutModel",
       "_view_count": null,
       "_view_module": "@jupyter-widgets/base",
       "_view_module_version": "1.2.0",
       "_view_name": "LayoutView",
       "align_content": null,
       "align_items": null,
       "align_self": null,
       "border": null,
       "bottom": null,
       "display": null,
       "flex": null,
       "flex_flow": null,
       "grid_area": null,
       "grid_auto_columns": null,
       "grid_auto_flow": null,
       "grid_auto_rows": null,
       "grid_column": null,
       "grid_gap": null,
       "grid_row": null,
       "grid_template_areas": null,
       "grid_template_columns": null,
       "grid_template_rows": null,
       "height": null,
       "justify_content": null,
       "justify_items": null,
       "left": null,
       "margin": null,
       "max_height": null,
       "max_width": null,
       "min_height": null,
       "min_width": null,
       "object_fit": null,
       "object_position": null,
       "order": null,
       "overflow": null,
       "overflow_x": null,
       "overflow_y": null,
       "padding": null,
       "right": null,
       "top": null,
       "visibility": null,
       "width": null
      }
     },
     "7fe12e49702b42b3bbf17f54dc9f74f6": {
      "model_module": "@jupyter-widgets/controls",
      "model_module_version": "1.5.0",
      "model_name": "ProgressStyleModel",
      "state": {
       "_model_module": "@jupyter-widgets/controls",
       "_model_module_version": "1.5.0",
       "_model_name": "ProgressStyleModel",
       "_view_count": null,
       "_view_module": "@jupyter-widgets/base",
       "_view_module_version": "1.2.0",
       "_view_name": "StyleView",
       "bar_color": null,
       "description_width": "initial"
      }
     },
     "856385f0e92a4d128eef39a63243242b": {
      "model_module": "@jupyter-widgets/controls",
      "model_module_version": "1.5.0",
      "model_name": "DescriptionStyleModel",
      "state": {
       "_model_module": "@jupyter-widgets/controls",
       "_model_module_version": "1.5.0",
       "_model_name": "DescriptionStyleModel",
       "_view_count": null,
       "_view_module": "@jupyter-widgets/base",
       "_view_module_version": "1.2.0",
       "_view_name": "StyleView",
       "description_width": ""
      }
     },
     "85d85c4b1d254d36a5595c4b1a2643f5": {
      "model_module": "@jupyter-widgets/controls",
      "model_module_version": "1.5.0",
      "model_name": "HBoxModel",
      "state": {
       "_dom_classes": [],
       "_model_module": "@jupyter-widgets/controls",
       "_model_module_version": "1.5.0",
       "_model_name": "HBoxModel",
       "_view_count": null,
       "_view_module": "@jupyter-widgets/controls",
       "_view_module_version": "1.5.0",
       "_view_name": "HBoxView",
       "box_style": "",
       "children": [
        "IPY_MODEL_a7c29e9401eb43859841e17b96edd143",
        "IPY_MODEL_74064cbf15d7459199a3823032e44f75"
       ],
       "layout": "IPY_MODEL_5990eee73f1041eba6e513ab2610a13a"
      }
     },
     "8e855f51f8384568a777b089d7812c04": {
      "model_module": "@jupyter-widgets/controls",
      "model_module_version": "1.5.0",
      "model_name": "FloatProgressModel",
      "state": {
       "_dom_classes": [],
       "_model_module": "@jupyter-widgets/controls",
       "_model_module_version": "1.5.0",
       "_model_name": "FloatProgressModel",
       "_view_count": null,
       "_view_module": "@jupyter-widgets/controls",
       "_view_module_version": "1.5.0",
       "_view_name": "ProgressView",
       "bar_style": "success",
       "description": "Downloading: 100%",
       "description_tooltip": null,
       "layout": "IPY_MODEL_a72eb43f599a4c72afb9012336a3e767",
       "max": 625.0,
       "min": 0.0,
       "orientation": "horizontal",
       "style": "IPY_MODEL_2863d9b9226646338667af58244385b9",
       "value": 625.0
      }
     },
     "9268f1b7471f4c1db928046b40e8aaf8": {
      "model_module": "@jupyter-widgets/controls",
      "model_module_version": "1.5.0",
      "model_name": "FloatProgressModel",
      "state": {
       "_dom_classes": [],
       "_model_module": "@jupyter-widgets/controls",
       "_model_module_version": "1.5.0",
       "_model_name": "FloatProgressModel",
       "_view_count": null,
       "_view_module": "@jupyter-widgets/controls",
       "_view_module_version": "1.5.0",
       "_view_name": "ProgressView",
       "bar_style": "success",
       "description": "Downloading: 100%",
       "description_tooltip": null,
       "layout": "IPY_MODEL_7a87573e35d74801bb80451242dc7e01",
       "max": 995526.0,
       "min": 0.0,
       "orientation": "horizontal",
       "style": "IPY_MODEL_7fe12e49702b42b3bbf17f54dc9f74f6",
       "value": 995526.0
      }
     },
     "9e1d038859a541e592fc2a687ca9193f": {
      "model_module": "@jupyter-widgets/controls",
      "model_module_version": "1.5.0",
      "model_name": "HBoxModel",
      "state": {
       "_dom_classes": [],
       "_model_module": "@jupyter-widgets/controls",
       "_model_module_version": "1.5.0",
       "_model_name": "HBoxModel",
       "_view_count": null,
       "_view_module": "@jupyter-widgets/controls",
       "_view_module_version": "1.5.0",
       "_view_name": "HBoxView",
       "box_style": "",
       "children": [
        "IPY_MODEL_8e855f51f8384568a777b089d7812c04",
        "IPY_MODEL_b0a91becda7349208d26e5bbdd4ac6b0"
       ],
       "layout": "IPY_MODEL_e32f9824b97045bc8cc95d08c799dc6d"
      }
     },
     "a72eb43f599a4c72afb9012336a3e767": {
      "model_module": "@jupyter-widgets/base",
      "model_module_version": "1.2.0",
      "model_name": "LayoutModel",
      "state": {
       "_model_module": "@jupyter-widgets/base",
       "_model_module_version": "1.2.0",
       "_model_name": "LayoutModel",
       "_view_count": null,
       "_view_module": "@jupyter-widgets/base",
       "_view_module_version": "1.2.0",
       "_view_name": "LayoutView",
       "align_content": null,
       "align_items": null,
       "align_self": null,
       "border": null,
       "bottom": null,
       "display": null,
       "flex": null,
       "flex_flow": null,
       "grid_area": null,
       "grid_auto_columns": null,
       "grid_auto_flow": null,
       "grid_auto_rows": null,
       "grid_column": null,
       "grid_gap": null,
       "grid_row": null,
       "grid_template_areas": null,
       "grid_template_columns": null,
       "grid_template_rows": null,
       "height": null,
       "justify_content": null,
       "justify_items": null,
       "left": null,
       "margin": null,
       "max_height": null,
       "max_width": null,
       "min_height": null,
       "min_width": null,
       "object_fit": null,
       "object_position": null,
       "order": null,
       "overflow": null,
       "overflow_x": null,
       "overflow_y": null,
       "padding": null,
       "right": null,
       "top": null,
       "visibility": null,
       "width": null
      }
     },
     "a7c29e9401eb43859841e17b96edd143": {
      "model_module": "@jupyter-widgets/controls",
      "model_module_version": "1.5.0",
      "model_name": "FloatProgressModel",
      "state": {
       "_dom_classes": [],
       "_model_module": "@jupyter-widgets/controls",
       "_model_module_version": "1.5.0",
       "_model_name": "FloatProgressModel",
       "_view_count": null,
       "_view_module": "@jupyter-widgets/controls",
       "_view_module_version": "1.5.0",
       "_view_name": "ProgressView",
       "bar_style": "success",
       "description": "Downloading: 100%",
       "description_tooltip": null,
       "layout": "IPY_MODEL_52121f1796ce4f1ca801ac75c2bdf888",
       "max": 1083389348.0,
       "min": 0.0,
       "orientation": "horizontal",
       "style": "IPY_MODEL_18833b2716034a9aadef6eed220341ea",
       "value": 1083389348.0
      }
     },
     "b0a91becda7349208d26e5bbdd4ac6b0": {
      "model_module": "@jupyter-widgets/controls",
      "model_module_version": "1.5.0",
      "model_name": "HTMLModel",
      "state": {
       "_dom_classes": [],
       "_model_module": "@jupyter-widgets/controls",
       "_model_module_version": "1.5.0",
       "_model_name": "HTMLModel",
       "_view_count": null,
       "_view_module": "@jupyter-widgets/controls",
       "_view_module_version": "1.5.0",
       "_view_name": "HTMLView",
       "description": "",
       "description_tooltip": null,
       "layout": "IPY_MODEL_c284dbb6976d45a2bb1f9bbaaafef81e",
       "placeholder": "​",
       "style": "IPY_MODEL_ecaee35618494fe3acd6a9347eda054b",
       "value": " 625/625 [00:00&lt;00:00, 18.1kB/s]"
      }
     },
     "ba5fb580bbe24cf8bcfc7ab98aa0c7fb": {
      "model_module": "@jupyter-widgets/controls",
      "model_module_version": "1.5.0",
      "model_name": "HTMLModel",
      "state": {
       "_dom_classes": [],
       "_model_module": "@jupyter-widgets/controls",
       "_model_module_version": "1.5.0",
       "_model_name": "HTMLModel",
       "_view_count": null,
       "_view_module": "@jupyter-widgets/controls",
       "_view_module_version": "1.5.0",
       "_view_name": "HTMLView",
       "description": "",
       "description_tooltip": null,
       "layout": "IPY_MODEL_ea144843de8a42039b53936d9c94615d",
       "placeholder": "​",
       "style": "IPY_MODEL_856385f0e92a4d128eef39a63243242b",
       "value": " 996k/996k [00:00&lt;00:00, 4.89MB/s]"
      }
     },
     "c284dbb6976d45a2bb1f9bbaaafef81e": {
      "model_module": "@jupyter-widgets/base",
      "model_module_version": "1.2.0",
      "model_name": "LayoutModel",
      "state": {
       "_model_module": "@jupyter-widgets/base",
       "_model_module_version": "1.2.0",
       "_model_name": "LayoutModel",
       "_view_count": null,
       "_view_module": "@jupyter-widgets/base",
       "_view_module_version": "1.2.0",
       "_view_name": "LayoutView",
       "align_content": null,
       "align_items": null,
       "align_self": null,
       "border": null,
       "bottom": null,
       "display": null,
       "flex": null,
       "flex_flow": null,
       "grid_area": null,
       "grid_auto_columns": null,
       "grid_auto_flow": null,
       "grid_auto_rows": null,
       "grid_column": null,
       "grid_gap": null,
       "grid_row": null,
       "grid_template_areas": null,
       "grid_template_columns": null,
       "grid_template_rows": null,
       "height": null,
       "justify_content": null,
       "justify_items": null,
       "left": null,
       "margin": null,
       "max_height": null,
       "max_width": null,
       "min_height": null,
       "min_width": null,
       "object_fit": null,
       "object_position": null,
       "order": null,
       "overflow": null,
       "overflow_x": null,
       "overflow_y": null,
       "padding": null,
       "right": null,
       "top": null,
       "visibility": null,
       "width": null
      }
     },
     "ce7d1906a1ab472ca0688fba0c6530e9": {
      "model_module": "@jupyter-widgets/base",
      "model_module_version": "1.2.0",
      "model_name": "LayoutModel",
      "state": {
       "_model_module": "@jupyter-widgets/base",
       "_model_module_version": "1.2.0",
       "_model_name": "LayoutModel",
       "_view_count": null,
       "_view_module": "@jupyter-widgets/base",
       "_view_module_version": "1.2.0",
       "_view_name": "LayoutView",
       "align_content": null,
       "align_items": null,
       "align_self": null,
       "border": null,
       "bottom": null,
       "display": null,
       "flex": null,
       "flex_flow": null,
       "grid_area": null,
       "grid_auto_columns": null,
       "grid_auto_flow": null,
       "grid_auto_rows": null,
       "grid_column": null,
       "grid_gap": null,
       "grid_row": null,
       "grid_template_areas": null,
       "grid_template_columns": null,
       "grid_template_rows": null,
       "height": null,
       "justify_content": null,
       "justify_items": null,
       "left": null,
       "margin": null,
       "max_height": null,
       "max_width": null,
       "min_height": null,
       "min_width": null,
       "object_fit": null,
       "object_position": null,
       "order": null,
       "overflow": null,
       "overflow_x": null,
       "overflow_y": null,
       "padding": null,
       "right": null,
       "top": null,
       "visibility": null,
       "width": null
      }
     },
     "e32f9824b97045bc8cc95d08c799dc6d": {
      "model_module": "@jupyter-widgets/base",
      "model_module_version": "1.2.0",
      "model_name": "LayoutModel",
      "state": {
       "_model_module": "@jupyter-widgets/base",
       "_model_module_version": "1.2.0",
       "_model_name": "LayoutModel",
       "_view_count": null,
       "_view_module": "@jupyter-widgets/base",
       "_view_module_version": "1.2.0",
       "_view_name": "LayoutView",
       "align_content": null,
       "align_items": null,
       "align_self": null,
       "border": null,
       "bottom": null,
       "display": null,
       "flex": null,
       "flex_flow": null,
       "grid_area": null,
       "grid_auto_columns": null,
       "grid_auto_flow": null,
       "grid_auto_rows": null,
       "grid_column": null,
       "grid_gap": null,
       "grid_row": null,
       "grid_template_areas": null,
       "grid_template_columns": null,
       "grid_template_rows": null,
       "height": null,
       "justify_content": null,
       "justify_items": null,
       "left": null,
       "margin": null,
       "max_height": null,
       "max_width": null,
       "min_height": null,
       "min_width": null,
       "object_fit": null,
       "object_position": null,
       "order": null,
       "overflow": null,
       "overflow_x": null,
       "overflow_y": null,
       "padding": null,
       "right": null,
       "top": null,
       "visibility": null,
       "width": null
      }
     },
     "ea144843de8a42039b53936d9c94615d": {
      "model_module": "@jupyter-widgets/base",
      "model_module_version": "1.2.0",
      "model_name": "LayoutModel",
      "state": {
       "_model_module": "@jupyter-widgets/base",
       "_model_module_version": "1.2.0",
       "_model_name": "LayoutModel",
       "_view_count": null,
       "_view_module": "@jupyter-widgets/base",
       "_view_module_version": "1.2.0",
       "_view_name": "LayoutView",
       "align_content": null,
       "align_items": null,
       "align_self": null,
       "border": null,
       "bottom": null,
       "display": null,
       "flex": null,
       "flex_flow": null,
       "grid_area": null,
       "grid_auto_columns": null,
       "grid_auto_flow": null,
       "grid_auto_rows": null,
       "grid_column": null,
       "grid_gap": null,
       "grid_row": null,
       "grid_template_areas": null,
       "grid_template_columns": null,
       "grid_template_rows": null,
       "height": null,
       "justify_content": null,
       "justify_items": null,
       "left": null,
       "margin": null,
       "max_height": null,
       "max_width": null,
       "min_height": null,
       "min_width": null,
       "object_fit": null,
       "object_position": null,
       "order": null,
       "overflow": null,
       "overflow_x": null,
       "overflow_y": null,
       "padding": null,
       "right": null,
       "top": null,
       "visibility": null,
       "width": null
      }
     },
     "ecaee35618494fe3acd6a9347eda054b": {
      "model_module": "@jupyter-widgets/controls",
      "model_module_version": "1.5.0",
      "model_name": "DescriptionStyleModel",
      "state": {
       "_model_module": "@jupyter-widgets/controls",
       "_model_module_version": "1.5.0",
       "_model_name": "DescriptionStyleModel",
       "_view_count": null,
       "_view_module": "@jupyter-widgets/base",
       "_view_module_version": "1.2.0",
       "_view_name": "StyleView",
       "description_width": ""
      }
     }
    },
    "version_major": 2,
    "version_minor": 0
   }
  }
 },
 "nbformat": 4,
 "nbformat_minor": 4
}
