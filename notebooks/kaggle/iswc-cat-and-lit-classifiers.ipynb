{
 "cells": [
  {
   "cell_type": "code",
   "execution_count": 1,
   "metadata": {
    "_cell_guid": "b1076dfc-b9ad-4769-8c92-a6c4dae69d19",
    "_uuid": "8f2839f25d086af736a60e9eeb907d3b93b6e0e5",
    "execution": {
     "iopub.execute_input": "2020-08-18T08:31:49.038160Z",
     "iopub.status.busy": "2020-08-18T08:31:49.037365Z",
     "iopub.status.idle": "2020-08-18T08:31:57.374454Z",
     "shell.execute_reply": "2020-08-18T08:31:57.373332Z"
    },
    "papermill": {
     "duration": 8.35568,
     "end_time": "2020-08-18T08:31:57.374661",
     "exception": false,
     "start_time": "2020-08-18T08:31:49.018981",
     "status": "completed"
    },
    "tags": []
   },
   "outputs": [
    {
     "name": "stderr",
     "output_type": "stream",
     "text": [
      "Using TensorFlow backend.\n"
     ]
    }
   ],
   "source": [
    "import os\n",
    "\n",
    "import numpy as np\n",
    "from sklearn.preprocessing import LabelEncoder\n",
    "from keras.utils import np_utils\n",
    "import gc\n",
    "import pandas as pd\n",
    "import tensorflow as tf\n",
    "from tensorflow.keras.layers import Dense, Input\n",
    "from tensorflow.keras.optimizers import Adam\n",
    "from tensorflow.keras.models import Model\n",
    "from tensorflow.keras.callbacks import ModelCheckpoint\n",
    "from kaggle_datasets import KaggleDatasets\n",
    "import transformers\n",
    "from transformers import TFAutoModel, AutoTokenizer\n",
    "from tqdm.notebook import tqdm\n",
    "from sklearn.model_selection import train_test_split\n",
    "\n",
    "from sklearn.metrics import roc_auc_score, accuracy_score, f1_score\n",
    "from sklearn.metrics import confusion_matrix\n",
    "from tensorflow.keras.callbacks import Callback \n",
    "from tokenizers import Tokenizer, models, pre_tokenizers, decoders, processors"
   ]
  },
  {
   "cell_type": "markdown",
   "execution_count": null,
   "metadata": {
    "papermill": {
     "duration": 0.008448,
     "end_time": "2020-08-18T08:31:57.392715",
     "exception": false,
     "start_time": "2020-08-18T08:31:57.384267",
     "status": "completed"
    },
    "tags": []
   },
   "source": [
    "## Helper Functions"
   ]
  },
  {
   "cell_type": "code",
   "execution_count": 2,
   "metadata": {
    "_cell_guid": "79c7e3d0-c299-4dcb-8224-4455121ee9b0",
    "_uuid": "d629ff2d2480ee46fbb7e2d37f6b5fab8052498a",
    "execution": {
     "iopub.execute_input": "2020-08-18T08:31:57.431369Z",
     "iopub.status.busy": "2020-08-18T08:31:57.429411Z",
     "iopub.status.idle": "2020-08-18T08:31:57.432269Z",
     "shell.execute_reply": "2020-08-18T08:31:57.432831Z"
    },
    "papermill": {
     "duration": 0.0314,
     "end_time": "2020-08-18T08:31:57.432963",
     "exception": false,
     "start_time": "2020-08-18T08:31:57.401563",
     "status": "completed"
    },
    "tags": []
   },
   "outputs": [],
   "source": [
    "def fast_encode(texts, tokenizer, chunk_size=256, maxlen=512):\n",
    "    \"\"\"\n",
    "    https://www.kaggle.com/xhlulu/jigsaw-tpu-distilbert-with-huggingface-and-keras\n",
    "    \"\"\"\n",
    "    tokenizer.enable_truncation(max_length=maxlen)\n",
    "    tokenizer.enable_padding(max_length=maxlen)\n",
    "    all_ids = []\n",
    "    \n",
    "    for i in tqdm(range(0, len(texts), chunk_size)):\n",
    "        text_chunk = texts[i:i+chunk_size].tolist()\n",
    "        encs = tokenizer.encode_batch(text_chunk)\n",
    "        all_ids.extend([enc.ids for enc in encs])\n",
    "    \n",
    "    return np.array(all_ids)"
   ]
  },
  {
   "cell_type": "code",
   "execution_count": 3,
   "metadata": {
    "execution": {
     "iopub.execute_input": "2020-08-18T08:31:57.456495Z",
     "iopub.status.busy": "2020-08-18T08:31:57.455815Z",
     "iopub.status.idle": "2020-08-18T08:31:57.459452Z",
     "shell.execute_reply": "2020-08-18T08:31:57.458954Z"
    },
    "papermill": {
     "duration": 0.017704,
     "end_time": "2020-08-18T08:31:57.459553",
     "exception": false,
     "start_time": "2020-08-18T08:31:57.441849",
     "status": "completed"
    },
    "tags": []
   },
   "outputs": [],
   "source": [
    "def regular_encode(texts, tokenizer, maxlen=512):\n",
    "    enc_di = tokenizer.batch_encode_plus(\n",
    "        texts, \n",
    "        return_attention_masks=False, \n",
    "        return_token_type_ids=False,\n",
    "        pad_to_max_length=True,\n",
    "        max_length=maxlen\n",
    "    )\n",
    "    \n",
    "    return np.array(enc_di['input_ids'])"
   ]
  },
  {
   "cell_type": "code",
   "execution_count": 4,
   "metadata": {
    "execution": {
     "iopub.execute_input": "2020-08-18T08:31:57.483536Z",
     "iopub.status.busy": "2020-08-18T08:31:57.482916Z",
     "iopub.status.idle": "2020-08-18T08:31:57.485819Z",
     "shell.execute_reply": "2020-08-18T08:31:57.486291Z"
    },
    "papermill": {
     "duration": 0.018581,
     "end_time": "2020-08-18T08:31:57.486410",
     "exception": false,
     "start_time": "2020-08-18T08:31:57.467829",
     "status": "completed"
    },
    "tags": []
   },
   "outputs": [],
   "source": [
    "def build_model(transformer, max_len=512, hidden_dim=32, num_of_classes=3):\n",
    "    input_word_ids = Input(shape=(max_len,), dtype=tf.int32, name=\"input_word_ids\")\n",
    "    sequence_output = transformer(input_word_ids)[0]\n",
    "    cls_token = sequence_output[:, 0, :]\n",
    "    \n",
    "    out = Dense(num_of_classes, activation='sigmoid')(cls_token)\n",
    "    \n",
    "    model = Model(inputs=input_word_ids, outputs=out)\n",
    "    model.compile(Adam(lr=1e-5), loss='categorical_crossentropy', metrics=['accuracy'])\n",
    "    \n",
    "    return model"
   ]
  },
  {
   "cell_type": "markdown",
   "execution_count": null,
   "metadata": {
    "papermill": {
     "duration": 0.008159,
     "end_time": "2020-08-18T08:31:57.502855",
     "exception": false,
     "start_time": "2020-08-18T08:31:57.494696",
     "status": "completed"
    },
    "tags": []
   },
   "source": [
    "## TPU Configs"
   ]
  },
  {
   "cell_type": "code",
   "execution_count": 5,
   "metadata": {
    "execution": {
     "iopub.execute_input": "2020-08-18T08:31:57.530834Z",
     "iopub.status.busy": "2020-08-18T08:31:57.529460Z",
     "iopub.status.idle": "2020-08-18T08:31:57.533710Z",
     "shell.execute_reply": "2020-08-18T08:31:57.532811Z"
    },
    "papermill": {
     "duration": 0.022715,
     "end_time": "2020-08-18T08:31:57.533844",
     "exception": false,
     "start_time": "2020-08-18T08:31:57.511129",
     "status": "completed"
    },
    "tags": []
   },
   "outputs": [
    {
     "name": "stdout",
     "output_type": "stream",
     "text": [
      "REPLICAS:  1\n"
     ]
    }
   ],
   "source": [
    "# Detect hardware, return appropriate distribution strategy\n",
    "try:\n",
    "    # TPU detection. No parameters necessary if TPU_NAME environment variable is\n",
    "    # set: this is always the case on Kaggle.\n",
    "    tpu = tf.distribute.cluster_resolver.TPUClusterResolver()\n",
    "    print('Running on TPU ', tpu.master())\n",
    "except ValueError:\n",
    "    tpu = None\n",
    "\n",
    "if tpu:\n",
    "    tf.config.experimental_connect_to_cluster(tpu)\n",
    "    tf.tpu.experimental.initialize_tpu_system(tpu)\n",
    "    strategy = tf.distribute.experimental.TPUStrategy(tpu)\n",
    "else:\n",
    "    # Default distribution strategy in Tensorflow. Works on CPU and single GPU.\n",
    "    strategy = tf.distribute.get_strategy()\n",
    "\n",
    "print(\"REPLICAS: \", strategy.num_replicas_in_sync)"
   ]
  },
  {
   "cell_type": "code",
   "execution_count": 6,
   "metadata": {
    "execution": {
     "iopub.execute_input": "2020-08-18T08:31:57.556516Z",
     "iopub.status.busy": "2020-08-18T08:31:57.555873Z",
     "iopub.status.idle": "2020-08-18T08:31:57.559885Z",
     "shell.execute_reply": "2020-08-18T08:31:57.560345Z"
    },
    "papermill": {
     "duration": 0.017447,
     "end_time": "2020-08-18T08:31:57.560462",
     "exception": false,
     "start_time": "2020-08-18T08:31:57.543015",
     "status": "completed"
    },
    "tags": []
   },
   "outputs": [],
   "source": [
    "AUTO = tf.data.experimental.AUTOTUNE\n",
    "\n",
    "# Configuration\n",
    "EPOCHS = 2\n",
    "BATCH_SIZE = 16 * strategy.num_replicas_in_sync\n",
    "MAX_LEN = 96\n",
    "MODEL = 'bert-base-multilingual-cased'"
   ]
  },
  {
   "cell_type": "markdown",
   "execution_count": null,
   "metadata": {
    "papermill": {
     "duration": 0.008207,
     "end_time": "2020-08-18T08:31:57.577039",
     "exception": false,
     "start_time": "2020-08-18T08:31:57.568832",
     "status": "completed"
    },
    "tags": []
   },
   "source": [
    "## Create fast tokenizer"
   ]
  },
  {
   "cell_type": "code",
   "execution_count": 7,
   "metadata": {
    "execution": {
     "iopub.execute_input": "2020-08-18T08:31:57.598657Z",
     "iopub.status.busy": "2020-08-18T08:31:57.597950Z",
     "iopub.status.idle": "2020-08-18T08:32:02.777457Z",
     "shell.execute_reply": "2020-08-18T08:32:02.778255Z"
    },
    "papermill": {
     "duration": 5.193455,
     "end_time": "2020-08-18T08:32:02.778465",
     "exception": false,
     "start_time": "2020-08-18T08:31:57.585010",
     "status": "completed"
    },
    "tags": []
   },
   "outputs": [
    {
     "data": {
      "application/vnd.jupyter.widget-view+json": {
       "model_id": "db2dc312d5834ccebe11694f7d407fc2",
       "version_major": 2,
       "version_minor": 0
      },
      "text/plain": [
       "HBox(children=(FloatProgress(value=0.0, description='Downloading', max=625.0, style=ProgressStyle(description_…"
      ]
     },
     "metadata": {},
     "output_type": "display_data"
    },
    {
     "name": "stdout",
     "output_type": "stream",
     "text": [
      "\n"
     ]
    },
    {
     "data": {
      "application/vnd.jupyter.widget-view+json": {
       "model_id": "d3160d0d80724cab914d043f12294278",
       "version_major": 2,
       "version_minor": 0
      },
      "text/plain": [
       "HBox(children=(FloatProgress(value=0.0, description='Downloading', max=995526.0, style=ProgressStyle(descripti…"
      ]
     },
     "metadata": {},
     "output_type": "display_data"
    },
    {
     "name": "stdout",
     "output_type": "stream",
     "text": [
      "\n"
     ]
    }
   ],
   "source": [
    "# First load the real tokenizer\n",
    "tokenizer = AutoTokenizer.from_pretrained(MODEL)"
   ]
  },
  {
   "cell_type": "markdown",
   "execution_count": null,
   "metadata": {
    "papermill": {
     "duration": 0.009792,
     "end_time": "2020-08-18T08:32:02.799260",
     "exception": false,
     "start_time": "2020-08-18T08:32:02.789468",
     "status": "completed"
    },
    "tags": []
   },
   "source": [
    "## Load text data into memory"
   ]
  },
  {
   "cell_type": "code",
   "execution_count": 8,
   "metadata": {
    "execution": {
     "iopub.execute_input": "2020-08-18T08:32:02.834485Z",
     "iopub.status.busy": "2020-08-18T08:32:02.833590Z",
     "iopub.status.idle": "2020-08-18T08:32:03.045694Z",
     "shell.execute_reply": "2020-08-18T08:32:03.045069Z"
    },
    "papermill": {
     "duration": 0.23738,
     "end_time": "2020-08-18T08:32:03.045809",
     "exception": false,
     "start_time": "2020-08-18T08:32:02.808429",
     "status": "completed"
    },
    "tags": []
   },
   "outputs": [],
   "source": [
    "dbpedia_df = pd.read_csv(\"/kaggle/input/test-06366/dbpedia.csv\", sep=\"|\")\n",
    "dbpedia_df.type_1.fillna(value=\"NoneType\")\n",
    "dbpedia_df.type_1 = dbpedia_df.type_1.astype(str)\n",
    "\n",
    "wikidata_df = pd.read_csv(\"/kaggle/input/test-06366/wikidata.csv\", sep=\"|\")\n",
    "wikidata_df.type_1.fillna(value=\"NoneType\")\n",
    "wikidata_df.type_1 = wikidata_df.type_1.astype(str)\n",
    "\n",
    "common_df = dbpedia_df.append(wikidata_df)\n",
    "literal_df = common_df[common_df.category == \"literal\"]\n",
    "\n",
    "X_cat_train, X_cat_test, y_cat_train, y_cat_test = train_test_split(common_df.question.astype(str), common_df.category, test_size=0.33, random_state=42)\n",
    "X_lit_train, X_lit_test, y_lit_train, y_lit_test = train_test_split(literal_df.question.astype(str), literal_df.type_1, test_size=0.33, random_state=42)\n",
    "X_db_train, X_db_test, y_db_train, y_db_test = train_test_split(dbpedia_df[dbpedia_df.category == \"resource\"].question.astype(str), dbpedia_df[dbpedia_df.category == \"resource\"].type_1, test_size=0.33, random_state=42)\n",
    "X_wiki_train, X_wiki_test, y_wiki_train, y_wiki_test = train_test_split(wikidata_df[wikidata_df.category == \"resource\"].question.astype(str), wikidata_df[wikidata_df.category == \"resource\"].type_1, test_size=0.33, random_state=42)"
   ]
  },
  {
   "cell_type": "markdown",
   "execution_count": null,
   "metadata": {
    "papermill": {
     "duration": 0.008749,
     "end_time": "2020-08-18T08:32:03.064428",
     "exception": false,
     "start_time": "2020-08-18T08:32:03.055679",
     "status": "completed"
    },
    "tags": []
   },
   "source": [
    "## Category classifier"
   ]
  },
  {
   "cell_type": "code",
   "execution_count": 9,
   "metadata": {
    "execution": {
     "iopub.execute_input": "2020-08-18T08:32:03.086590Z",
     "iopub.status.busy": "2020-08-18T08:32:03.085677Z",
     "iopub.status.idle": "2020-08-18T08:32:03.106445Z",
     "shell.execute_reply": "2020-08-18T08:32:03.105864Z"
    },
    "papermill": {
     "duration": 0.032713,
     "end_time": "2020-08-18T08:32:03.106543",
     "exception": false,
     "start_time": "2020-08-18T08:32:03.073830",
     "status": "completed"
    },
    "tags": []
   },
   "outputs": [],
   "source": [
    "encoder_cat = LabelEncoder()\n",
    "encoder_cat.fit(common_df.category)\n",
    "encoded_Y_cat_train = encoder_cat.transform(y_cat_train)\n",
    "encoded_Y_cat_test = encoder_cat.transform(y_cat_test)\n",
    "dummy_y_cat_train = np_utils.to_categorical(encoded_Y_cat_train) # convert integers to dummy variables (i.e. one hot encoded)\n",
    "\n",
    "np.save('encoder_cat.npy', encoder_cat.classes_)"
   ]
  },
  {
   "cell_type": "code",
   "execution_count": 10,
   "metadata": {
    "execution": {
     "iopub.execute_input": "2020-08-18T08:32:03.208079Z",
     "iopub.status.busy": "2020-08-18T08:32:03.203206Z",
     "iopub.status.idle": "2020-08-18T08:32:19.469836Z",
     "shell.execute_reply": "2020-08-18T08:32:19.469089Z"
    },
    "papermill": {
     "duration": 16.354221,
     "end_time": "2020-08-18T08:32:19.469987",
     "exception": false,
     "start_time": "2020-08-18T08:32:03.115766",
     "status": "completed"
    },
    "tags": []
   },
   "outputs": [
    {
     "name": "stdout",
     "output_type": "stream",
     "text": [
      "CPU times: user 16.2 s, sys: 101 ms, total: 16.3 s\n",
      "Wall time: 16.3 s\n"
     ]
    }
   ],
   "source": [
    "%%time \n",
    "\n",
    "x_cat_train = regular_encode(X_cat_train.values.astype(str), tokenizer, maxlen=MAX_LEN)\n",
    "x_cat_test = regular_encode(X_cat_test.values.astype(str), tokenizer, maxlen=MAX_LEN)"
   ]
  },
  {
   "cell_type": "code",
   "execution_count": 11,
   "metadata": {
    "execution": {
     "iopub.execute_input": "2020-08-18T08:32:20.137396Z",
     "iopub.status.busy": "2020-08-18T08:32:20.135513Z",
     "iopub.status.idle": "2020-08-18T08:32:27.009924Z",
     "shell.execute_reply": "2020-08-18T08:32:27.009253Z"
    },
    "papermill": {
     "duration": 7.529031,
     "end_time": "2020-08-18T08:32:27.010047",
     "exception": false,
     "start_time": "2020-08-18T08:32:19.481016",
     "status": "completed"
    },
    "tags": []
   },
   "outputs": [],
   "source": [
    "train_dataset_cat = (\n",
    "    tf.data.Dataset\n",
    "    .from_tensor_slices((x_cat_train, dummy_y_cat_train))\n",
    "    .repeat()\n",
    "    .shuffle(2048)\n",
    "    .batch(BATCH_SIZE)\n",
    "    .prefetch(AUTO)\n",
    ")\n",
    "\n",
    "test_dataset_cat = (\n",
    "    tf.data.Dataset\n",
    "    .from_tensor_slices(x_cat_test)\n",
    "    .batch(BATCH_SIZE)\n",
    ")"
   ]
  },
  {
   "cell_type": "code",
   "execution_count": 12,
   "metadata": {
    "execution": {
     "iopub.execute_input": "2020-08-18T08:32:27.036009Z",
     "iopub.status.busy": "2020-08-18T08:32:27.035329Z",
     "iopub.status.idle": "2020-08-18T08:33:29.112097Z",
     "shell.execute_reply": "2020-08-18T08:33:29.112804Z"
    },
    "papermill": {
     "duration": 62.093417,
     "end_time": "2020-08-18T08:33:29.112998",
     "exception": false,
     "start_time": "2020-08-18T08:32:27.019581",
     "status": "completed"
    },
    "tags": []
   },
   "outputs": [
    {
     "data": {
      "application/vnd.jupyter.widget-view+json": {
       "model_id": "17996fb39b1349f78cff0b7eb480b7d3",
       "version_major": 2,
       "version_minor": 0
      },
      "text/plain": [
       "HBox(children=(FloatProgress(value=0.0, description='Downloading', max=1083389348.0, style=ProgressStyle(descr…"
      ]
     },
     "metadata": {},
     "output_type": "display_data"
    },
    {
     "name": "stdout",
     "output_type": "stream",
     "text": [
      "\n",
      "CPU times: user 35.8 s, sys: 4.78 s, total: 40.6 s\n",
      "Wall time: 1min 2s\n"
     ]
    }
   ],
   "source": [
    "%%time\n",
    "with strategy.scope():\n",
    "    transformer_layer = TFAutoModel.from_pretrained(MODEL)\n",
    "    model_cat = build_model(transformer_layer, max_len=MAX_LEN, num_of_classes=common_df.category.nunique())"
   ]
  },
  {
   "cell_type": "code",
   "execution_count": 13,
   "metadata": {
    "execution": {
     "iopub.execute_input": "2020-08-18T08:33:29.139098Z",
     "iopub.status.busy": "2020-08-18T08:33:29.138212Z",
     "iopub.status.idle": "2020-08-18T08:33:29.140495Z",
     "shell.execute_reply": "2020-08-18T08:33:29.140992Z"
    },
    "papermill": {
     "duration": 0.01784,
     "end_time": "2020-08-18T08:33:29.141142",
     "exception": false,
     "start_time": "2020-08-18T08:33:29.123302",
     "status": "completed"
    },
    "tags": []
   },
   "outputs": [],
   "source": [
    "early_stopping = tf.keras.callbacks.EarlyStopping(\n",
    "    monitor='val_loss', \n",
    "    verbose=1,\n",
    "    patience=1,\n",
    "    mode='min',\n",
    "    restore_best_weights=True)"
   ]
  },
  {
   "cell_type": "code",
   "execution_count": 14,
   "metadata": {
    "execution": {
     "iopub.execute_input": "2020-08-18T08:33:29.168111Z",
     "iopub.status.busy": "2020-08-18T08:33:29.167170Z",
     "iopub.status.idle": "2020-08-18T08:45:50.026481Z",
     "shell.execute_reply": "2020-08-18T08:45:50.025411Z"
    },
    "papermill": {
     "duration": 740.875785,
     "end_time": "2020-08-18T08:45:50.026647",
     "exception": false,
     "start_time": "2020-08-18T08:33:29.150862",
     "status": "completed"
    },
    "tags": []
   },
   "outputs": [
    {
     "name": "stdout",
     "output_type": "stream",
     "text": [
      "Train for 1500 steps\n",
      "Epoch 1/2\n",
      "1500/1500 [==============================] - 360s 240ms/step - loss: 0.2452 - accuracy: 0.9128\n",
      "Epoch 2/2\n",
      "1500/1500 [==============================] - 343s 229ms/step - loss: 0.1188 - accuracy: 0.9613\n"
     ]
    }
   ],
   "source": [
    "n_steps = x_cat_train.shape[0] // BATCH_SIZE\n",
    "train_history = model_cat.fit(\n",
    "    train_dataset_cat,\n",
    "    steps_per_epoch=n_steps,\n",
    "    epochs=EPOCHS,\n",
    "    callbacks=[early_stopping]\n",
    ")\n",
    "\n",
    "model_cat.save(\"model_cat\")"
   ]
  },
  {
   "cell_type": "code",
   "execution_count": 15,
   "metadata": {
    "execution": {
     "iopub.execute_input": "2020-08-18T08:45:56.955531Z",
     "iopub.status.busy": "2020-08-18T08:45:56.954583Z",
     "iopub.status.idle": "2020-08-18T08:47:02.243809Z",
     "shell.execute_reply": "2020-08-18T08:47:02.244835Z"
    },
    "papermill": {
     "duration": 65.596914,
     "end_time": "2020-08-18T08:47:02.245011",
     "exception": false,
     "start_time": "2020-08-18T08:45:56.648097",
     "status": "completed"
    },
    "tags": []
   },
   "outputs": [
    {
     "name": "stdout",
     "output_type": "stream",
     "text": [
      "739/739 [==============================] - 65s 88ms/step\n"
     ]
    }
   ],
   "source": [
    "y_cat_test_pred = np.argmax(model_cat.predict(test_dataset_cat, verbose=1), axis=1)\n",
    "del model_cat"
   ]
  },
  {
   "cell_type": "code",
   "execution_count": 16,
   "metadata": {
    "execution": {
     "iopub.execute_input": "2020-08-18T08:47:02.699415Z",
     "iopub.status.busy": "2020-08-18T08:47:02.698625Z",
     "iopub.status.idle": "2020-08-18T08:47:02.705962Z",
     "shell.execute_reply": "2020-08-18T08:47:02.705420Z"
    },
    "papermill": {
     "duration": 0.232842,
     "end_time": "2020-08-18T08:47:02.706080",
     "exception": false,
     "start_time": "2020-08-18T08:47:02.473238",
     "status": "completed"
    },
    "tags": []
   },
   "outputs": [
    {
     "name": "stdout",
     "output_type": "stream",
     "text": [
      "Accuracy: 0.9650651328032481\n"
     ]
    }
   ],
   "source": [
    "acc = accuracy_score(encoded_Y_cat_test, y_cat_test_pred)\n",
    "print('Accuracy: {0}'.format(acc))"
   ]
  },
  {
   "cell_type": "markdown",
   "execution_count": null,
   "metadata": {
    "papermill": {
     "duration": 0.222262,
     "end_time": "2020-08-18T08:47:03.151171",
     "exception": false,
     "start_time": "2020-08-18T08:47:02.928909",
     "status": "completed"
    },
    "tags": []
   },
   "source": [
    "## Literal classifier"
   ]
  },
  {
   "cell_type": "code",
   "execution_count": 17,
   "metadata": {
    "execution": {
     "iopub.execute_input": "2020-08-18T08:47:03.669498Z",
     "iopub.status.busy": "2020-08-18T08:47:03.668491Z",
     "iopub.status.idle": "2020-08-18T08:47:03.673930Z",
     "shell.execute_reply": "2020-08-18T08:47:03.673392Z"
    },
    "papermill": {
     "duration": 0.248657,
     "end_time": "2020-08-18T08:47:03.674036",
     "exception": false,
     "start_time": "2020-08-18T08:47:03.425379",
     "status": "completed"
    },
    "tags": []
   },
   "outputs": [],
   "source": [
    "encoder_lit = LabelEncoder()\n",
    "encoder_lit.fit(literal_df.type_1)\n",
    "encoded_Y_lit_train = encoder_lit.transform(y_lit_train)\n",
    "encoded_Y_lit_test = encoder_lit.transform(y_lit_test)\n",
    "dummy_y_lit_train = np_utils.to_categorical(encoded_Y_lit_train) # convert integers to dummy variables (i.e. one hot encoded)\n",
    "\n",
    "np.save('encoder_lit.npy', encoder_lit.classes_)"
   ]
  },
  {
   "cell_type": "code",
   "execution_count": 18,
   "metadata": {
    "execution": {
     "iopub.execute_input": "2020-08-18T08:47:04.133664Z",
     "iopub.status.busy": "2020-08-18T08:47:04.132438Z",
     "iopub.status.idle": "2020-08-18T08:47:08.089259Z",
     "shell.execute_reply": "2020-08-18T08:47:08.090157Z"
    },
    "papermill": {
     "duration": 4.186386,
     "end_time": "2020-08-18T08:47:08.090320",
     "exception": false,
     "start_time": "2020-08-18T08:47:03.903934",
     "status": "completed"
    },
    "tags": []
   },
   "outputs": [
    {
     "name": "stdout",
     "output_type": "stream",
     "text": [
      "CPU times: user 3.94 s, sys: 0 ns, total: 3.94 s\n",
      "Wall time: 3.95 s\n"
     ]
    }
   ],
   "source": [
    "%%time \n",
    "\n",
    "x_lit_train = regular_encode(X_lit_train.values.astype(str), tokenizer, maxlen=MAX_LEN)\n",
    "x_lit_test = regular_encode(X_lit_test.values.astype(str), tokenizer, maxlen=MAX_LEN)"
   ]
  },
  {
   "cell_type": "code",
   "execution_count": 19,
   "metadata": {
    "execution": {
     "iopub.execute_input": "2020-08-18T08:47:08.624947Z",
     "iopub.status.busy": "2020-08-18T08:47:08.623920Z",
     "iopub.status.idle": "2020-08-18T08:47:08.627728Z",
     "shell.execute_reply": "2020-08-18T08:47:08.629843Z"
    },
    "papermill": {
     "duration": 0.309497,
     "end_time": "2020-08-18T08:47:08.630033",
     "exception": false,
     "start_time": "2020-08-18T08:47:08.320536",
     "status": "completed"
    },
    "tags": []
   },
   "outputs": [],
   "source": [
    "train_dataset_lit = (\n",
    "    tf.data.Dataset\n",
    "    .from_tensor_slices((x_lit_train, dummy_y_lit_train))\n",
    "    .repeat()\n",
    "    .shuffle(2048)\n",
    "    .batch(BATCH_SIZE)\n",
    "    .prefetch(AUTO)\n",
    ")\n",
    "\n",
    "test_dataset_lit = (\n",
    "    tf.data.Dataset\n",
    "    .from_tensor_slices(x_lit_test)\n",
    "    .batch(BATCH_SIZE)\n",
    ")"
   ]
  },
  {
   "cell_type": "code",
   "execution_count": 20,
   "metadata": {
    "execution": {
     "iopub.execute_input": "2020-08-18T08:47:09.293122Z",
     "iopub.status.busy": "2020-08-18T08:47:09.292428Z",
     "iopub.status.idle": "2020-08-18T08:47:15.723883Z",
     "shell.execute_reply": "2020-08-18T08:47:15.724929Z"
    },
    "papermill": {
     "duration": 6.747568,
     "end_time": "2020-08-18T08:47:15.725113",
     "exception": false,
     "start_time": "2020-08-18T08:47:08.977545",
     "status": "completed"
    },
    "tags": []
   },
   "outputs": [
    {
     "name": "stdout",
     "output_type": "stream",
     "text": [
      "CPU times: user 3.77 s, sys: 903 ms, total: 4.67 s\n",
      "Wall time: 6.43 s\n"
     ]
    }
   ],
   "source": [
    "%%time\n",
    "with strategy.scope():\n",
    "    transformer_layer = TFAutoModel.from_pretrained(MODEL)\n",
    "    model_lit = build_model(transformer_layer, max_len=MAX_LEN, num_of_classes=literal_df.type_1.nunique())"
   ]
  },
  {
   "cell_type": "code",
   "execution_count": 21,
   "metadata": {
    "execution": {
     "iopub.execute_input": "2020-08-18T08:47:16.186890Z",
     "iopub.status.busy": "2020-08-18T08:47:16.186002Z",
     "iopub.status.idle": "2020-08-18T08:51:21.910437Z",
     "shell.execute_reply": "2020-08-18T08:51:21.909224Z"
    },
    "papermill": {
     "duration": 245.956353,
     "end_time": "2020-08-18T08:51:21.910575",
     "exception": false,
     "start_time": "2020-08-18T08:47:15.954222",
     "status": "completed"
    },
    "tags": []
   },
   "outputs": [
    {
     "name": "stdout",
     "output_type": "stream",
     "text": [
      "Train for 402 steps\n",
      "Epoch 1/2\n",
      "402/402 [==============================] - 108s 269ms/step - loss: 0.3077 - accuracy: 0.8699\n",
      "Epoch 2/2\n",
      "402/402 [==============================] - 91s 228ms/step - loss: 0.0952 - accuracy: 0.9700\n"
     ]
    }
   ],
   "source": [
    "n_steps = x_lit_train.shape[0] // BATCH_SIZE\n",
    "train_history = model_lit.fit(\n",
    "    train_dataset_lit,\n",
    "    steps_per_epoch=n_steps,\n",
    "    epochs=EPOCHS,\n",
    "    callbacks=[early_stopping]\n",
    ")\n",
    "\n",
    "model_lit.save(\"model_lit\")"
   ]
  },
  {
   "cell_type": "code",
   "execution_count": 22,
   "metadata": {
    "execution": {
     "iopub.execute_input": "2020-08-18T08:51:22.519117Z",
     "iopub.status.busy": "2020-08-18T08:51:22.518179Z",
     "iopub.status.idle": "2020-08-18T08:51:42.552261Z",
     "shell.execute_reply": "2020-08-18T08:51:42.552794Z"
    },
    "papermill": {
     "duration": 20.364589,
     "end_time": "2020-08-18T08:51:42.552965",
     "exception": false,
     "start_time": "2020-08-18T08:51:22.188376",
     "status": "completed"
    },
    "tags": []
   },
   "outputs": [
    {
     "name": "stdout",
     "output_type": "stream",
     "text": [
      "199/199 [==============================] - 20s 101ms/step\n"
     ]
    }
   ],
   "source": [
    "y_lit_test_pred = np.argmax(model_lit.predict(test_dataset_lit, verbose=1), axis=1)\n",
    "del model_lit"
   ]
  },
  {
   "cell_type": "code",
   "execution_count": 23,
   "metadata": {
    "execution": {
     "iopub.execute_input": "2020-08-18T08:51:43.305179Z",
     "iopub.status.busy": "2020-08-18T08:51:43.304267Z",
     "iopub.status.idle": "2020-08-18T08:51:43.310730Z",
     "shell.execute_reply": "2020-08-18T08:51:43.311393Z"
    },
    "papermill": {
     "duration": 0.43824,
     "end_time": "2020-08-18T08:51:43.311571",
     "exception": false,
     "start_time": "2020-08-18T08:51:42.873331",
     "status": "completed"
    },
    "tags": []
   },
   "outputs": [
    {
     "name": "stdout",
     "output_type": "stream",
     "text": [
      "Accuracy: 0.9691241335853812\n"
     ]
    }
   ],
   "source": [
    "acc = accuracy_score(encoded_Y_lit_test, y_lit_test_pred)\n",
    "print('Accuracy: {0}'.format(acc))"
   ]
  },
  {
   "cell_type": "code",
   "execution_count": null,
   "metadata": {
    "papermill": {
     "duration": 0.379848,
     "end_time": "2020-08-18T08:51:44.053756",
     "exception": false,
     "start_time": "2020-08-18T08:51:43.673908",
     "status": "completed"
    },
    "tags": []
   },
   "outputs": [],
   "source": []
  }
 ],
 "metadata": {
  "kernelspec": {
   "display_name": "Python 3",
   "language": "python",
   "name": "python3"
  },
  "language_info": {
   "codemirror_mode": {
    "name": "ipython",
    "version": 3
   },
   "file_extension": ".py",
   "mimetype": "text/x-python",
   "name": "python",
   "nbconvert_exporter": "python",
   "pygments_lexer": "ipython3",
   "version": "3.7.6"
  },
  "papermill": {
   "duration": 1201.289453,
   "end_time": "2020-08-18T08:51:46.009404",
   "environment_variables": {},
   "exception": null,
   "input_path": "__notebook__.ipynb",
   "output_path": "__notebook__.ipynb",
   "parameters": {},
   "start_time": "2020-08-18T08:31:44.719951",
   "version": "2.1.0"
  },
  "widgets": {
   "application/vnd.jupyter.widget-state+json": {
    "state": {
     "02889a2ad8bb4fb8b33a90a58cd5020d": {
      "model_module": "@jupyter-widgets/base",
      "model_module_version": "1.2.0",
      "model_name": "LayoutModel",
      "state": {
       "_model_module": "@jupyter-widgets/base",
       "_model_module_version": "1.2.0",
       "_model_name": "LayoutModel",
       "_view_count": null,
       "_view_module": "@jupyter-widgets/base",
       "_view_module_version": "1.2.0",
       "_view_name": "LayoutView",
       "align_content": null,
       "align_items": null,
       "align_self": null,
       "border": null,
       "bottom": null,
       "display": null,
       "flex": null,
       "flex_flow": null,
       "grid_area": null,
       "grid_auto_columns": null,
       "grid_auto_flow": null,
       "grid_auto_rows": null,
       "grid_column": null,
       "grid_gap": null,
       "grid_row": null,
       "grid_template_areas": null,
       "grid_template_columns": null,
       "grid_template_rows": null,
       "height": null,
       "justify_content": null,
       "justify_items": null,
       "left": null,
       "margin": null,
       "max_height": null,
       "max_width": null,
       "min_height": null,
       "min_width": null,
       "object_fit": null,
       "object_position": null,
       "order": null,
       "overflow": null,
       "overflow_x": null,
       "overflow_y": null,
       "padding": null,
       "right": null,
       "top": null,
       "visibility": null,
       "width": null
      }
     },
     "13404f2df1544be3aaeb86e74c857e66": {
      "model_module": "@jupyter-widgets/controls",
      "model_module_version": "1.5.0",
      "model_name": "HTMLModel",
      "state": {
       "_dom_classes": [],
       "_model_module": "@jupyter-widgets/controls",
       "_model_module_version": "1.5.0",
       "_model_name": "HTMLModel",
       "_view_count": null,
       "_view_module": "@jupyter-widgets/controls",
       "_view_module_version": "1.5.0",
       "_view_name": "HTMLView",
       "description": "",
       "description_tooltip": null,
       "layout": "IPY_MODEL_02889a2ad8bb4fb8b33a90a58cd5020d",
       "placeholder": "​",
       "style": "IPY_MODEL_28b8ab9b06964060903521d4256faafc",
       "value": " 1.08G/1.08G [00:52&lt;00:00, 20.8MB/s]"
      }
     },
     "17996fb39b1349f78cff0b7eb480b7d3": {
      "model_module": "@jupyter-widgets/controls",
      "model_module_version": "1.5.0",
      "model_name": "HBoxModel",
      "state": {
       "_dom_classes": [],
       "_model_module": "@jupyter-widgets/controls",
       "_model_module_version": "1.5.0",
       "_model_name": "HBoxModel",
       "_view_count": null,
       "_view_module": "@jupyter-widgets/controls",
       "_view_module_version": "1.5.0",
       "_view_name": "HBoxView",
       "box_style": "",
       "children": [
        "IPY_MODEL_c7f400200f364532a7da0b067755e21e",
        "IPY_MODEL_13404f2df1544be3aaeb86e74c857e66"
       ],
       "layout": "IPY_MODEL_9a50267e0dff475f82b6e7a19368bf2c"
      }
     },
     "17a9cfff936f4cfb9e8ba20c36fa55cc": {
      "model_module": "@jupyter-widgets/controls",
      "model_module_version": "1.5.0",
      "model_name": "FloatProgressModel",
      "state": {
       "_dom_classes": [],
       "_model_module": "@jupyter-widgets/controls",
       "_model_module_version": "1.5.0",
       "_model_name": "FloatProgressModel",
       "_view_count": null,
       "_view_module": "@jupyter-widgets/controls",
       "_view_module_version": "1.5.0",
       "_view_name": "ProgressView",
       "bar_style": "success",
       "description": "Downloading: 100%",
       "description_tooltip": null,
       "layout": "IPY_MODEL_5106706893484f7da90a23fe06860b13",
       "max": 995526.0,
       "min": 0.0,
       "orientation": "horizontal",
       "style": "IPY_MODEL_4250c3ddf2934034a9b94b72ca5864f4",
       "value": 995526.0
      }
     },
     "22d11ba1f2b94c0f855b2bbc3ae751d7": {
      "model_module": "@jupyter-widgets/controls",
      "model_module_version": "1.5.0",
      "model_name": "DescriptionStyleModel",
      "state": {
       "_model_module": "@jupyter-widgets/controls",
       "_model_module_version": "1.5.0",
       "_model_name": "DescriptionStyleModel",
       "_view_count": null,
       "_view_module": "@jupyter-widgets/base",
       "_view_module_version": "1.2.0",
       "_view_name": "StyleView",
       "description_width": ""
      }
     },
     "240189082087441288acec7ada5d452e": {
      "model_module": "@jupyter-widgets/controls",
      "model_module_version": "1.5.0",
      "model_name": "HTMLModel",
      "state": {
       "_dom_classes": [],
       "_model_module": "@jupyter-widgets/controls",
       "_model_module_version": "1.5.0",
       "_model_name": "HTMLModel",
       "_view_count": null,
       "_view_module": "@jupyter-widgets/controls",
       "_view_module_version": "1.5.0",
       "_view_name": "HTMLView",
       "description": "",
       "description_tooltip": null,
       "layout": "IPY_MODEL_cc6dcd6d5dcd4b4ca1126eaeab063fc7",
       "placeholder": "​",
       "style": "IPY_MODEL_22d11ba1f2b94c0f855b2bbc3ae751d7",
       "value": " 996k/996k [00:01&lt;00:00, 809kB/s]"
      }
     },
     "25637a26becf489ea34db4f16fad2b69": {
      "model_module": "@jupyter-widgets/controls",
      "model_module_version": "1.5.0",
      "model_name": "DescriptionStyleModel",
      "state": {
       "_model_module": "@jupyter-widgets/controls",
       "_model_module_version": "1.5.0",
       "_model_name": "DescriptionStyleModel",
       "_view_count": null,
       "_view_module": "@jupyter-widgets/base",
       "_view_module_version": "1.2.0",
       "_view_name": "StyleView",
       "description_width": ""
      }
     },
     "2732dd7fbbbc4a078cd75dea5eeb5d1a": {
      "model_module": "@jupyter-widgets/base",
      "model_module_version": "1.2.0",
      "model_name": "LayoutModel",
      "state": {
       "_model_module": "@jupyter-widgets/base",
       "_model_module_version": "1.2.0",
       "_model_name": "LayoutModel",
       "_view_count": null,
       "_view_module": "@jupyter-widgets/base",
       "_view_module_version": "1.2.0",
       "_view_name": "LayoutView",
       "align_content": null,
       "align_items": null,
       "align_self": null,
       "border": null,
       "bottom": null,
       "display": null,
       "flex": null,
       "flex_flow": null,
       "grid_area": null,
       "grid_auto_columns": null,
       "grid_auto_flow": null,
       "grid_auto_rows": null,
       "grid_column": null,
       "grid_gap": null,
       "grid_row": null,
       "grid_template_areas": null,
       "grid_template_columns": null,
       "grid_template_rows": null,
       "height": null,
       "justify_content": null,
       "justify_items": null,
       "left": null,
       "margin": null,
       "max_height": null,
       "max_width": null,
       "min_height": null,
       "min_width": null,
       "object_fit": null,
       "object_position": null,
       "order": null,
       "overflow": null,
       "overflow_x": null,
       "overflow_y": null,
       "padding": null,
       "right": null,
       "top": null,
       "visibility": null,
       "width": null
      }
     },
     "2776474260fe48fe910ff3e2f6132f01": {
      "model_module": "@jupyter-widgets/controls",
      "model_module_version": "1.5.0",
      "model_name": "ProgressStyleModel",
      "state": {
       "_model_module": "@jupyter-widgets/controls",
       "_model_module_version": "1.5.0",
       "_model_name": "ProgressStyleModel",
       "_view_count": null,
       "_view_module": "@jupyter-widgets/base",
       "_view_module_version": "1.2.0",
       "_view_name": "StyleView",
       "bar_color": null,
       "description_width": "initial"
      }
     },
     "28b8ab9b06964060903521d4256faafc": {
      "model_module": "@jupyter-widgets/controls",
      "model_module_version": "1.5.0",
      "model_name": "DescriptionStyleModel",
      "state": {
       "_model_module": "@jupyter-widgets/controls",
       "_model_module_version": "1.5.0",
       "_model_name": "DescriptionStyleModel",
       "_view_count": null,
       "_view_module": "@jupyter-widgets/base",
       "_view_module_version": "1.2.0",
       "_view_name": "StyleView",
       "description_width": ""
      }
     },
     "3f74a5a8b3dd46189514996950ccd171": {
      "model_module": "@jupyter-widgets/base",
      "model_module_version": "1.2.0",
      "model_name": "LayoutModel",
      "state": {
       "_model_module": "@jupyter-widgets/base",
       "_model_module_version": "1.2.0",
       "_model_name": "LayoutModel",
       "_view_count": null,
       "_view_module": "@jupyter-widgets/base",
       "_view_module_version": "1.2.0",
       "_view_name": "LayoutView",
       "align_content": null,
       "align_items": null,
       "align_self": null,
       "border": null,
       "bottom": null,
       "display": null,
       "flex": null,
       "flex_flow": null,
       "grid_area": null,
       "grid_auto_columns": null,
       "grid_auto_flow": null,
       "grid_auto_rows": null,
       "grid_column": null,
       "grid_gap": null,
       "grid_row": null,
       "grid_template_areas": null,
       "grid_template_columns": null,
       "grid_template_rows": null,
       "height": null,
       "justify_content": null,
       "justify_items": null,
       "left": null,
       "margin": null,
       "max_height": null,
       "max_width": null,
       "min_height": null,
       "min_width": null,
       "object_fit": null,
       "object_position": null,
       "order": null,
       "overflow": null,
       "overflow_x": null,
       "overflow_y": null,
       "padding": null,
       "right": null,
       "top": null,
       "visibility": null,
       "width": null
      }
     },
     "4250c3ddf2934034a9b94b72ca5864f4": {
      "model_module": "@jupyter-widgets/controls",
      "model_module_version": "1.5.0",
      "model_name": "ProgressStyleModel",
      "state": {
       "_model_module": "@jupyter-widgets/controls",
       "_model_module_version": "1.5.0",
       "_model_name": "ProgressStyleModel",
       "_view_count": null,
       "_view_module": "@jupyter-widgets/base",
       "_view_module_version": "1.2.0",
       "_view_name": "StyleView",
       "bar_color": null,
       "description_width": "initial"
      }
     },
     "5106706893484f7da90a23fe06860b13": {
      "model_module": "@jupyter-widgets/base",
      "model_module_version": "1.2.0",
      "model_name": "LayoutModel",
      "state": {
       "_model_module": "@jupyter-widgets/base",
       "_model_module_version": "1.2.0",
       "_model_name": "LayoutModel",
       "_view_count": null,
       "_view_module": "@jupyter-widgets/base",
       "_view_module_version": "1.2.0",
       "_view_name": "LayoutView",
       "align_content": null,
       "align_items": null,
       "align_self": null,
       "border": null,
       "bottom": null,
       "display": null,
       "flex": null,
       "flex_flow": null,
       "grid_area": null,
       "grid_auto_columns": null,
       "grid_auto_flow": null,
       "grid_auto_rows": null,
       "grid_column": null,
       "grid_gap": null,
       "grid_row": null,
       "grid_template_areas": null,
       "grid_template_columns": null,
       "grid_template_rows": null,
       "height": null,
       "justify_content": null,
       "justify_items": null,
       "left": null,
       "margin": null,
       "max_height": null,
       "max_width": null,
       "min_height": null,
       "min_width": null,
       "object_fit": null,
       "object_position": null,
       "order": null,
       "overflow": null,
       "overflow_x": null,
       "overflow_y": null,
       "padding": null,
       "right": null,
       "top": null,
       "visibility": null,
       "width": null
      }
     },
     "5f670fb9b6e54b089441201756465f7f": {
      "model_module": "@jupyter-widgets/base",
      "model_module_version": "1.2.0",
      "model_name": "LayoutModel",
      "state": {
       "_model_module": "@jupyter-widgets/base",
       "_model_module_version": "1.2.0",
       "_model_name": "LayoutModel",
       "_view_count": null,
       "_view_module": "@jupyter-widgets/base",
       "_view_module_version": "1.2.0",
       "_view_name": "LayoutView",
       "align_content": null,
       "align_items": null,
       "align_self": null,
       "border": null,
       "bottom": null,
       "display": null,
       "flex": null,
       "flex_flow": null,
       "grid_area": null,
       "grid_auto_columns": null,
       "grid_auto_flow": null,
       "grid_auto_rows": null,
       "grid_column": null,
       "grid_gap": null,
       "grid_row": null,
       "grid_template_areas": null,
       "grid_template_columns": null,
       "grid_template_rows": null,
       "height": null,
       "justify_content": null,
       "justify_items": null,
       "left": null,
       "margin": null,
       "max_height": null,
       "max_width": null,
       "min_height": null,
       "min_width": null,
       "object_fit": null,
       "object_position": null,
       "order": null,
       "overflow": null,
       "overflow_x": null,
       "overflow_y": null,
       "padding": null,
       "right": null,
       "top": null,
       "visibility": null,
       "width": null
      }
     },
     "746e0cd142e044edb33c067dde47f971": {
      "model_module": "@jupyter-widgets/controls",
      "model_module_version": "1.5.0",
      "model_name": "FloatProgressModel",
      "state": {
       "_dom_classes": [],
       "_model_module": "@jupyter-widgets/controls",
       "_model_module_version": "1.5.0",
       "_model_name": "FloatProgressModel",
       "_view_count": null,
       "_view_module": "@jupyter-widgets/controls",
       "_view_module_version": "1.5.0",
       "_view_name": "ProgressView",
       "bar_style": "success",
       "description": "Downloading: 100%",
       "description_tooltip": null,
       "layout": "IPY_MODEL_5f670fb9b6e54b089441201756465f7f",
       "max": 625.0,
       "min": 0.0,
       "orientation": "horizontal",
       "style": "IPY_MODEL_b28862a883c3423cafc2dc0ac0b43fa7",
       "value": 625.0
      }
     },
     "800f87f5097a42de999e1c55b6c23a86": {
      "model_module": "@jupyter-widgets/base",
      "model_module_version": "1.2.0",
      "model_name": "LayoutModel",
      "state": {
       "_model_module": "@jupyter-widgets/base",
       "_model_module_version": "1.2.0",
       "_model_name": "LayoutModel",
       "_view_count": null,
       "_view_module": "@jupyter-widgets/base",
       "_view_module_version": "1.2.0",
       "_view_name": "LayoutView",
       "align_content": null,
       "align_items": null,
       "align_self": null,
       "border": null,
       "bottom": null,
       "display": null,
       "flex": null,
       "flex_flow": null,
       "grid_area": null,
       "grid_auto_columns": null,
       "grid_auto_flow": null,
       "grid_auto_rows": null,
       "grid_column": null,
       "grid_gap": null,
       "grid_row": null,
       "grid_template_areas": null,
       "grid_template_columns": null,
       "grid_template_rows": null,
       "height": null,
       "justify_content": null,
       "justify_items": null,
       "left": null,
       "margin": null,
       "max_height": null,
       "max_width": null,
       "min_height": null,
       "min_width": null,
       "object_fit": null,
       "object_position": null,
       "order": null,
       "overflow": null,
       "overflow_x": null,
       "overflow_y": null,
       "padding": null,
       "right": null,
       "top": null,
       "visibility": null,
       "width": null
      }
     },
     "9a50267e0dff475f82b6e7a19368bf2c": {
      "model_module": "@jupyter-widgets/base",
      "model_module_version": "1.2.0",
      "model_name": "LayoutModel",
      "state": {
       "_model_module": "@jupyter-widgets/base",
       "_model_module_version": "1.2.0",
       "_model_name": "LayoutModel",
       "_view_count": null,
       "_view_module": "@jupyter-widgets/base",
       "_view_module_version": "1.2.0",
       "_view_name": "LayoutView",
       "align_content": null,
       "align_items": null,
       "align_self": null,
       "border": null,
       "bottom": null,
       "display": null,
       "flex": null,
       "flex_flow": null,
       "grid_area": null,
       "grid_auto_columns": null,
       "grid_auto_flow": null,
       "grid_auto_rows": null,
       "grid_column": null,
       "grid_gap": null,
       "grid_row": null,
       "grid_template_areas": null,
       "grid_template_columns": null,
       "grid_template_rows": null,
       "height": null,
       "justify_content": null,
       "justify_items": null,
       "left": null,
       "margin": null,
       "max_height": null,
       "max_width": null,
       "min_height": null,
       "min_width": null,
       "object_fit": null,
       "object_position": null,
       "order": null,
       "overflow": null,
       "overflow_x": null,
       "overflow_y": null,
       "padding": null,
       "right": null,
       "top": null,
       "visibility": null,
       "width": null
      }
     },
     "b28862a883c3423cafc2dc0ac0b43fa7": {
      "model_module": "@jupyter-widgets/controls",
      "model_module_version": "1.5.0",
      "model_name": "ProgressStyleModel",
      "state": {
       "_model_module": "@jupyter-widgets/controls",
       "_model_module_version": "1.5.0",
       "_model_name": "ProgressStyleModel",
       "_view_count": null,
       "_view_module": "@jupyter-widgets/base",
       "_view_module_version": "1.2.0",
       "_view_name": "StyleView",
       "bar_color": null,
       "description_width": "initial"
      }
     },
     "c7f400200f364532a7da0b067755e21e": {
      "model_module": "@jupyter-widgets/controls",
      "model_module_version": "1.5.0",
      "model_name": "FloatProgressModel",
      "state": {
       "_dom_classes": [],
       "_model_module": "@jupyter-widgets/controls",
       "_model_module_version": "1.5.0",
       "_model_name": "FloatProgressModel",
       "_view_count": null,
       "_view_module": "@jupyter-widgets/controls",
       "_view_module_version": "1.5.0",
       "_view_name": "ProgressView",
       "bar_style": "success",
       "description": "Downloading: 100%",
       "description_tooltip": null,
       "layout": "IPY_MODEL_800f87f5097a42de999e1c55b6c23a86",
       "max": 1083389348.0,
       "min": 0.0,
       "orientation": "horizontal",
       "style": "IPY_MODEL_2776474260fe48fe910ff3e2f6132f01",
       "value": 1083389348.0
      }
     },
     "c997fba56ac84070a647842dade7161d": {
      "model_module": "@jupyter-widgets/base",
      "model_module_version": "1.2.0",
      "model_name": "LayoutModel",
      "state": {
       "_model_module": "@jupyter-widgets/base",
       "_model_module_version": "1.2.0",
       "_model_name": "LayoutModel",
       "_view_count": null,
       "_view_module": "@jupyter-widgets/base",
       "_view_module_version": "1.2.0",
       "_view_name": "LayoutView",
       "align_content": null,
       "align_items": null,
       "align_self": null,
       "border": null,
       "bottom": null,
       "display": null,
       "flex": null,
       "flex_flow": null,
       "grid_area": null,
       "grid_auto_columns": null,
       "grid_auto_flow": null,
       "grid_auto_rows": null,
       "grid_column": null,
       "grid_gap": null,
       "grid_row": null,
       "grid_template_areas": null,
       "grid_template_columns": null,
       "grid_template_rows": null,
       "height": null,
       "justify_content": null,
       "justify_items": null,
       "left": null,
       "margin": null,
       "max_height": null,
       "max_width": null,
       "min_height": null,
       "min_width": null,
       "object_fit": null,
       "object_position": null,
       "order": null,
       "overflow": null,
       "overflow_x": null,
       "overflow_y": null,
       "padding": null,
       "right": null,
       "top": null,
       "visibility": null,
       "width": null
      }
     },
     "cc6dcd6d5dcd4b4ca1126eaeab063fc7": {
      "model_module": "@jupyter-widgets/base",
      "model_module_version": "1.2.0",
      "model_name": "LayoutModel",
      "state": {
       "_model_module": "@jupyter-widgets/base",
       "_model_module_version": "1.2.0",
       "_model_name": "LayoutModel",
       "_view_count": null,
       "_view_module": "@jupyter-widgets/base",
       "_view_module_version": "1.2.0",
       "_view_name": "LayoutView",
       "align_content": null,
       "align_items": null,
       "align_self": null,
       "border": null,
       "bottom": null,
       "display": null,
       "flex": null,
       "flex_flow": null,
       "grid_area": null,
       "grid_auto_columns": null,
       "grid_auto_flow": null,
       "grid_auto_rows": null,
       "grid_column": null,
       "grid_gap": null,
       "grid_row": null,
       "grid_template_areas": null,
       "grid_template_columns": null,
       "grid_template_rows": null,
       "height": null,
       "justify_content": null,
       "justify_items": null,
       "left": null,
       "margin": null,
       "max_height": null,
       "max_width": null,
       "min_height": null,
       "min_width": null,
       "object_fit": null,
       "object_position": null,
       "order": null,
       "overflow": null,
       "overflow_x": null,
       "overflow_y": null,
       "padding": null,
       "right": null,
       "top": null,
       "visibility": null,
       "width": null
      }
     },
     "d3160d0d80724cab914d043f12294278": {
      "model_module": "@jupyter-widgets/controls",
      "model_module_version": "1.5.0",
      "model_name": "HBoxModel",
      "state": {
       "_dom_classes": [],
       "_model_module": "@jupyter-widgets/controls",
       "_model_module_version": "1.5.0",
       "_model_name": "HBoxModel",
       "_view_count": null,
       "_view_module": "@jupyter-widgets/controls",
       "_view_module_version": "1.5.0",
       "_view_name": "HBoxView",
       "box_style": "",
       "children": [
        "IPY_MODEL_17a9cfff936f4cfb9e8ba20c36fa55cc",
        "IPY_MODEL_240189082087441288acec7ada5d452e"
       ],
       "layout": "IPY_MODEL_c997fba56ac84070a647842dade7161d"
      }
     },
     "db2dc312d5834ccebe11694f7d407fc2": {
      "model_module": "@jupyter-widgets/controls",
      "model_module_version": "1.5.0",
      "model_name": "HBoxModel",
      "state": {
       "_dom_classes": [],
       "_model_module": "@jupyter-widgets/controls",
       "_model_module_version": "1.5.0",
       "_model_name": "HBoxModel",
       "_view_count": null,
       "_view_module": "@jupyter-widgets/controls",
       "_view_module_version": "1.5.0",
       "_view_name": "HBoxView",
       "box_style": "",
       "children": [
        "IPY_MODEL_746e0cd142e044edb33c067dde47f971",
        "IPY_MODEL_e69d1e3d29cf428d8c2263ab00da3b00"
       ],
       "layout": "IPY_MODEL_3f74a5a8b3dd46189514996950ccd171"
      }
     },
     "e69d1e3d29cf428d8c2263ab00da3b00": {
      "model_module": "@jupyter-widgets/controls",
      "model_module_version": "1.5.0",
      "model_name": "HTMLModel",
      "state": {
       "_dom_classes": [],
       "_model_module": "@jupyter-widgets/controls",
       "_model_module_version": "1.5.0",
       "_model_name": "HTMLModel",
       "_view_count": null,
       "_view_module": "@jupyter-widgets/controls",
       "_view_module_version": "1.5.0",
       "_view_name": "HTMLView",
       "description": "",
       "description_tooltip": null,
       "layout": "IPY_MODEL_2732dd7fbbbc4a078cd75dea5eeb5d1a",
       "placeholder": "​",
       "style": "IPY_MODEL_25637a26becf489ea34db4f16fad2b69",
       "value": " 625/625 [00:00&lt;00:00, 17.3kB/s]"
      }
     }
    },
    "version_major": 2,
    "version_minor": 0
   }
  }
 },
 "nbformat": 4,
 "nbformat_minor": 4
}
