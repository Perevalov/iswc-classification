{
 "cells": [
  {
   "cell_type": "code",
   "execution_count": 1,
   "metadata": {
    "_cell_guid": "b1076dfc-b9ad-4769-8c92-a6c4dae69d19",
    "_uuid": "8f2839f25d086af736a60e9eeb907d3b93b6e0e5",
    "execution": {
     "iopub.execute_input": "2020-08-20T21:12:04.123678Z",
     "iopub.status.busy": "2020-08-20T21:12:04.122770Z",
     "iopub.status.idle": "2020-08-20T21:12:12.567967Z",
     "shell.execute_reply": "2020-08-20T21:12:12.567338Z"
    },
    "papermill": {
     "duration": 8.480273,
     "end_time": "2020-08-20T21:12:12.568106",
     "exception": false,
     "start_time": "2020-08-20T21:12:04.087833",
     "status": "completed"
    },
    "tags": []
   },
   "outputs": [
    {
     "name": "stderr",
     "output_type": "stream",
     "text": [
      "Using TensorFlow backend.\n"
     ]
    }
   ],
   "source": [
    "import os\n",
    "\n",
    "import numpy as np\n",
    "from sklearn.preprocessing import LabelEncoder\n",
    "from keras.utils import np_utils\n",
    "import gc\n",
    "import pandas as pd\n",
    "import tensorflow as tf\n",
    "from tensorflow.keras.layers import Dense, Input\n",
    "from tensorflow.keras.optimizers import Adam\n",
    "from tensorflow.keras.models import Model\n",
    "from tensorflow.keras.callbacks import ModelCheckpoint\n",
    "from kaggle_datasets import KaggleDatasets\n",
    "import transformers\n",
    "from transformers import TFAutoModel, AutoTokenizer\n",
    "from tqdm.notebook import tqdm\n",
    "from sklearn.model_selection import train_test_split\n",
    "\n",
    "from sklearn.metrics import roc_auc_score, accuracy_score, f1_score\n",
    "from sklearn.metrics import confusion_matrix\n",
    "from tensorflow.keras.callbacks import Callback \n",
    "from tokenizers import Tokenizer, models, pre_tokenizers, decoders, processors"
   ]
  },
  {
   "cell_type": "markdown",
   "execution_count": null,
   "metadata": {
    "papermill": {
     "duration": 0.007774,
     "end_time": "2020-08-20T21:12:12.584735",
     "exception": false,
     "start_time": "2020-08-20T21:12:12.576961",
     "status": "completed"
    },
    "tags": []
   },
   "source": [
    "## Helper Functions"
   ]
  },
  {
   "cell_type": "code",
   "execution_count": 2,
   "metadata": {
    "execution": {
     "iopub.execute_input": "2020-08-20T21:12:12.613259Z",
     "iopub.status.busy": "2020-08-20T21:12:12.612416Z",
     "iopub.status.idle": "2020-08-20T21:12:12.615639Z",
     "shell.execute_reply": "2020-08-20T21:12:12.615118Z"
    },
    "papermill": {
     "duration": 0.023291,
     "end_time": "2020-08-20T21:12:12.615748",
     "exception": false,
     "start_time": "2020-08-20T21:12:12.592457",
     "status": "completed"
    },
    "tags": []
   },
   "outputs": [],
   "source": [
    "def regular_encode(texts, tokenizer, maxlen=512):\n",
    "    enc_di = tokenizer.batch_encode_plus(\n",
    "        texts, \n",
    "        return_attention_masks=False, \n",
    "        return_token_type_ids=False,\n",
    "        pad_to_max_length=True,\n",
    "        max_length=maxlen\n",
    "    )\n",
    "    \n",
    "    return np.array(enc_di['input_ids'])"
   ]
  },
  {
   "cell_type": "code",
   "execution_count": 3,
   "metadata": {
    "execution": {
     "iopub.execute_input": "2020-08-20T21:12:12.639443Z",
     "iopub.status.busy": "2020-08-20T21:12:12.638580Z",
     "iopub.status.idle": "2020-08-20T21:12:12.640338Z",
     "shell.execute_reply": "2020-08-20T21:12:12.640894Z"
    },
    "papermill": {
     "duration": 0.017438,
     "end_time": "2020-08-20T21:12:12.641010",
     "exception": false,
     "start_time": "2020-08-20T21:12:12.623572",
     "status": "completed"
    },
    "tags": []
   },
   "outputs": [],
   "source": [
    "def build_model(transformer, max_len=512, hidden_dim=32, num_of_classes=3):\n",
    "    input_word_ids = Input(shape=(max_len,), dtype=tf.int32, name=\"input_word_ids\")\n",
    "    sequence_output = transformer(input_word_ids)[0]\n",
    "    cls_token = sequence_output[:, 0, :]\n",
    "    \n",
    "    out = Dense(num_of_classes, activation='sigmoid')(cls_token)\n",
    "    \n",
    "    model = Model(inputs=input_word_ids, outputs=out)\n",
    "    model.compile(Adam(lr=1e-5), loss='categorical_crossentropy', metrics=['accuracy'])\n",
    "    \n",
    "    return model"
   ]
  },
  {
   "cell_type": "markdown",
   "execution_count": null,
   "metadata": {
    "papermill": {
     "duration": 0.009187,
     "end_time": "2020-08-20T21:12:12.657856",
     "exception": false,
     "start_time": "2020-08-20T21:12:12.648669",
     "status": "completed"
    },
    "tags": []
   },
   "source": [
    "## TPU Configs"
   ]
  },
  {
   "cell_type": "code",
   "execution_count": 4,
   "metadata": {
    "execution": {
     "iopub.execute_input": "2020-08-20T21:12:12.682374Z",
     "iopub.status.busy": "2020-08-20T21:12:12.681505Z",
     "iopub.status.idle": "2020-08-20T21:12:12.685706Z",
     "shell.execute_reply": "2020-08-20T21:12:12.686194Z"
    },
    "papermill": {
     "duration": 0.020679,
     "end_time": "2020-08-20T21:12:12.686333",
     "exception": false,
     "start_time": "2020-08-20T21:12:12.665654",
     "status": "completed"
    },
    "tags": []
   },
   "outputs": [
    {
     "name": "stdout",
     "output_type": "stream",
     "text": [
      "REPLICAS:  1\n"
     ]
    }
   ],
   "source": [
    "# Detect hardware, return appropriate distribution strategy\n",
    "try:\n",
    "    # TPU detection. No parameters necessary if TPU_NAME environment variable is\n",
    "    # set: this is always the case on Kaggle.\n",
    "    tpu = tf.distribute.cluster_resolver.TPUClusterResolver()\n",
    "    print('Running on TPU ', tpu.master())\n",
    "except ValueError:\n",
    "    tpu = None\n",
    "\n",
    "if tpu:\n",
    "    tf.config.experimental_connect_to_cluster(tpu)\n",
    "    tf.tpu.experimental.initialize_tpu_system(tpu)\n",
    "    strategy = tf.distribute.experimental.TPUStrategy(tpu)\n",
    "else:\n",
    "    # Default distribution strategy in Tensorflow. Works on CPU and single GPU.\n",
    "    strategy = tf.distribute.get_strategy()\n",
    "\n",
    "print(\"REPLICAS: \", strategy.num_replicas_in_sync)"
   ]
  },
  {
   "cell_type": "code",
   "execution_count": 5,
   "metadata": {
    "execution": {
     "iopub.execute_input": "2020-08-20T21:12:12.708283Z",
     "iopub.status.busy": "2020-08-20T21:12:12.707637Z",
     "iopub.status.idle": "2020-08-20T21:12:12.711410Z",
     "shell.execute_reply": "2020-08-20T21:12:12.710922Z"
    },
    "papermill": {
     "duration": 0.017082,
     "end_time": "2020-08-20T21:12:12.711507",
     "exception": false,
     "start_time": "2020-08-20T21:12:12.694425",
     "status": "completed"
    },
    "tags": []
   },
   "outputs": [],
   "source": [
    "AUTO = tf.data.experimental.AUTOTUNE\n",
    "\n",
    "# Configuration\n",
    "EPOCHS = 2\n",
    "BATCH_SIZE = 16 * strategy.num_replicas_in_sync\n",
    "MAX_LEN = 96\n",
    "MODEL = 'bert-base-multilingual-cased'"
   ]
  },
  {
   "cell_type": "markdown",
   "execution_count": null,
   "metadata": {
    "papermill": {
     "duration": 0.007952,
     "end_time": "2020-08-20T21:12:12.727578",
     "exception": false,
     "start_time": "2020-08-20T21:12:12.719626",
     "status": "completed"
    },
    "tags": []
   },
   "source": [
    "## Create fast tokenizer"
   ]
  },
  {
   "cell_type": "code",
   "execution_count": 6,
   "metadata": {
    "execution": {
     "iopub.execute_input": "2020-08-20T21:12:12.748631Z",
     "iopub.status.busy": "2020-08-20T21:12:12.747983Z",
     "iopub.status.idle": "2020-08-20T21:12:14.810153Z",
     "shell.execute_reply": "2020-08-20T21:12:14.810649Z"
    },
    "papermill": {
     "duration": 2.075209,
     "end_time": "2020-08-20T21:12:14.810787",
     "exception": false,
     "start_time": "2020-08-20T21:12:12.735578",
     "status": "completed"
    },
    "tags": []
   },
   "outputs": [
    {
     "data": {
      "application/vnd.jupyter.widget-view+json": {
       "model_id": "be68affc719c4a5996ad05e3d7727b51",
       "version_major": 2,
       "version_minor": 0
      },
      "text/plain": [
       "HBox(children=(FloatProgress(value=0.0, description='Downloading', max=625.0, style=ProgressStyle(description_…"
      ]
     },
     "metadata": {},
     "output_type": "display_data"
    },
    {
     "name": "stdout",
     "output_type": "stream",
     "text": [
      "\n"
     ]
    },
    {
     "data": {
      "application/vnd.jupyter.widget-view+json": {
       "model_id": "e90b4966448b42948f8cc8bb42c92fd2",
       "version_major": 2,
       "version_minor": 0
      },
      "text/plain": [
       "HBox(children=(FloatProgress(value=0.0, description='Downloading', max=995526.0, style=ProgressStyle(descripti…"
      ]
     },
     "metadata": {},
     "output_type": "display_data"
    },
    {
     "name": "stdout",
     "output_type": "stream",
     "text": [
      "\n"
     ]
    }
   ],
   "source": [
    "# First load the real tokenizer\n",
    "tokenizer = AutoTokenizer.from_pretrained(MODEL)"
   ]
  },
  {
   "cell_type": "markdown",
   "execution_count": null,
   "metadata": {
    "papermill": {
     "duration": 0.00823,
     "end_time": "2020-08-20T21:12:14.827958",
     "exception": false,
     "start_time": "2020-08-20T21:12:14.819728",
     "status": "completed"
    },
    "tags": []
   },
   "source": [
    "## Load text data into memory"
   ]
  },
  {
   "cell_type": "code",
   "execution_count": 7,
   "metadata": {
    "execution": {
     "iopub.execute_input": "2020-08-20T21:12:14.849033Z",
     "iopub.status.busy": "2020-08-20T21:12:14.848291Z",
     "iopub.status.idle": "2020-08-20T21:12:14.851417Z",
     "shell.execute_reply": "2020-08-20T21:12:14.850935Z"
    },
    "papermill": {
     "duration": 0.015235,
     "end_time": "2020-08-20T21:12:14.851514",
     "exception": false,
     "start_time": "2020-08-20T21:12:14.836279",
     "status": "completed"
    },
    "tags": []
   },
   "outputs": [],
   "source": [
    "AUGMENT_DATA = True"
   ]
  },
  {
   "cell_type": "code",
   "execution_count": 8,
   "metadata": {
    "execution": {
     "iopub.execute_input": "2020-08-20T21:12:14.884644Z",
     "iopub.status.busy": "2020-08-20T21:12:14.884052Z",
     "iopub.status.idle": "2020-08-20T21:12:15.397096Z",
     "shell.execute_reply": "2020-08-20T21:12:15.396459Z"
    },
    "papermill": {
     "duration": 0.537248,
     "end_time": "2020-08-20T21:12:15.397219",
     "exception": false,
     "start_time": "2020-08-20T21:12:14.859971",
     "status": "completed"
    },
    "tags": []
   },
   "outputs": [],
   "source": [
    "dbpedia_df = pd.read_csv(\"/kaggle/input/test-06366/dbpedia.csv\", sep=\"|\")\n",
    "faketest_dbpedia_df = dbpedia_df.sample(4400, random_state=42) # Test set from organizers has ca. 4400 examples\n",
    "\n",
    "wikidata_df = pd.read_csv(\"/kaggle/input/test-06366/wikidata.csv\", sep=\"|\")\n",
    "\n",
    "common_df = dbpedia_df.append(wikidata_df)\n",
    "\n",
    "if AUGMENT_DATA:\n",
    "    common_de_df = dbpedia_df.copy()\n",
    "    common_de_df.question = dbpedia_df.question_de\n",
    "\n",
    "    common_fr_df = dbpedia_df.copy()\n",
    "    common_fr_df.question = dbpedia_df.question_fr\n",
    "\n",
    "    common_es_df = dbpedia_df.copy()\n",
    "    common_es_df.question = dbpedia_df.question_es\n",
    "\n",
    "    common_ru_df = dbpedia_df.copy()\n",
    "    common_ru_df.question = dbpedia_df.question_ru\n",
    "\n",
    "    common_df = common_df.append(common_de_df).append(common_fr_df).append(common_es_df).append(common_ru_df)\n",
    "    del common_de_df, common_fr_df, common_es_df, common_ru_df, dbpedia_df\n",
    "\n",
    "common_df.drop(['question_de', 'question_fr', 'question_es', 'question_ru'], axis=1, inplace=True)    \n",
    "common_df.dropna(subset=['question'], inplace=True)    \n",
    "common_df = common_df[~common_df.id.isin(faketest_dbpedia_df.id.values)]\n",
    "\n",
    "literal_df = common_df[common_df.category == \"literal\"]\n",
    "\n",
    "X_cat_train, X_cat_test, y_cat_train, y_cat_test = train_test_split(common_df.question.astype(str), common_df.category, test_size=0.33, random_state=42)\n",
    "X_lit_train, X_lit_test, y_lit_train, y_lit_test = train_test_split(literal_df.question.astype(str), literal_df.type_1, test_size=0.33, random_state=42)"
   ]
  },
  {
   "cell_type": "code",
   "execution_count": 9,
   "metadata": {
    "execution": {
     "iopub.execute_input": "2020-08-20T21:12:15.423215Z",
     "iopub.status.busy": "2020-08-20T21:12:15.421849Z",
     "iopub.status.idle": "2020-08-20T21:12:15.425348Z",
     "shell.execute_reply": "2020-08-20T21:12:15.425854Z"
    },
    "papermill": {
     "duration": 0.018864,
     "end_time": "2020-08-20T21:12:15.426004",
     "exception": false,
     "start_time": "2020-08-20T21:12:15.407140",
     "status": "completed"
    },
    "tags": []
   },
   "outputs": [
    {
     "data": {
      "text/plain": [
       "(83288, 10)"
      ]
     },
     "execution_count": 9,
     "metadata": {},
     "output_type": "execute_result"
    }
   ],
   "source": [
    "common_df.shape"
   ]
  },
  {
   "cell_type": "markdown",
   "execution_count": null,
   "metadata": {
    "papermill": {
     "duration": 0.009936,
     "end_time": "2020-08-20T21:12:15.445387",
     "exception": false,
     "start_time": "2020-08-20T21:12:15.435451",
     "status": "completed"
    },
    "tags": []
   },
   "source": [
    "## Category classifier"
   ]
  },
  {
   "cell_type": "code",
   "execution_count": 10,
   "metadata": {
    "execution": {
     "iopub.execute_input": "2020-08-20T21:12:15.491041Z",
     "iopub.status.busy": "2020-08-20T21:12:15.478175Z",
     "iopub.status.idle": "2020-08-20T21:12:15.504413Z",
     "shell.execute_reply": "2020-08-20T21:12:15.503867Z"
    },
    "papermill": {
     "duration": 0.049986,
     "end_time": "2020-08-20T21:12:15.504515",
     "exception": false,
     "start_time": "2020-08-20T21:12:15.454529",
     "status": "completed"
    },
    "tags": []
   },
   "outputs": [],
   "source": [
    "encoder_cat = LabelEncoder()\n",
    "encoder_cat.fit(common_df.category)\n",
    "encoded_Y_cat_train = encoder_cat.transform(y_cat_train)\n",
    "encoded_Y_cat_test = encoder_cat.transform(y_cat_test)\n",
    "dummy_y_cat_train = np_utils.to_categorical(encoded_Y_cat_train) # convert integers to dummy variables (i.e. one hot encoded)\n",
    "\n",
    "np.save('encoder_cat.npy', encoder_cat.classes_)"
   ]
  },
  {
   "cell_type": "code",
   "execution_count": 11,
   "metadata": {
    "execution": {
     "iopub.execute_input": "2020-08-20T21:12:15.709184Z",
     "iopub.status.busy": "2020-08-20T21:12:15.683710Z",
     "iopub.status.idle": "2020-08-20T21:12:53.800783Z",
     "shell.execute_reply": "2020-08-20T21:12:53.801583Z"
    },
    "papermill": {
     "duration": 38.288693,
     "end_time": "2020-08-20T21:12:53.801818",
     "exception": false,
     "start_time": "2020-08-20T21:12:15.513125",
     "status": "completed"
    },
    "tags": []
   },
   "outputs": [
    {
     "name": "stdout",
     "output_type": "stream",
     "text": [
      "CPU times: user 37.9 s, sys: 263 ms, total: 38.1 s\n",
      "Wall time: 38.3 s\n"
     ]
    }
   ],
   "source": [
    "%%time \n",
    "\n",
    "x_cat_train = regular_encode(X_cat_train.values.astype(str), tokenizer, maxlen=MAX_LEN)\n",
    "x_cat_test = regular_encode(X_cat_test.values.astype(str), tokenizer, maxlen=MAX_LEN)"
   ]
  },
  {
   "cell_type": "code",
   "execution_count": 12,
   "metadata": {
    "execution": {
     "iopub.execute_input": "2020-08-20T21:12:54.540288Z",
     "iopub.status.busy": "2020-08-20T21:12:54.539573Z",
     "iopub.status.idle": "2020-08-20T21:13:01.197872Z",
     "shell.execute_reply": "2020-08-20T21:13:01.197031Z"
    },
    "papermill": {
     "duration": 7.386635,
     "end_time": "2020-08-20T21:13:01.198025",
     "exception": false,
     "start_time": "2020-08-20T21:12:53.811390",
     "status": "completed"
    },
    "tags": []
   },
   "outputs": [],
   "source": [
    "train_dataset_cat = (\n",
    "    tf.data.Dataset\n",
    "    .from_tensor_slices((x_cat_train, dummy_y_cat_train))\n",
    "    .repeat()\n",
    "    .shuffle(2048)\n",
    "    .batch(BATCH_SIZE)\n",
    "    .prefetch(AUTO)\n",
    ")\n",
    "\n",
    "test_dataset_cat = (\n",
    "    tf.data.Dataset\n",
    "    .from_tensor_slices(x_cat_test)\n",
    "    .batch(BATCH_SIZE)\n",
    ")"
   ]
  },
  {
   "cell_type": "code",
   "execution_count": 13,
   "metadata": {
    "execution": {
     "iopub.execute_input": "2020-08-20T21:13:01.223739Z",
     "iopub.status.busy": "2020-08-20T21:13:01.223066Z",
     "iopub.status.idle": "2020-08-20T21:14:13.487843Z",
     "shell.execute_reply": "2020-08-20T21:14:13.486648Z"
    },
    "papermill": {
     "duration": 72.280799,
     "end_time": "2020-08-20T21:14:13.488020",
     "exception": false,
     "start_time": "2020-08-20T21:13:01.207221",
     "status": "completed"
    },
    "tags": []
   },
   "outputs": [
    {
     "data": {
      "application/vnd.jupyter.widget-view+json": {
       "model_id": "8c2e15f3a96840348ac350015c0f327b",
       "version_major": 2,
       "version_minor": 0
      },
      "text/plain": [
       "HBox(children=(FloatProgress(value=0.0, description='Downloading', max=1083389348.0, style=ProgressStyle(descr…"
      ]
     },
     "metadata": {},
     "output_type": "display_data"
    },
    {
     "name": "stdout",
     "output_type": "stream",
     "text": [
      "\n",
      "CPU times: user 34.8 s, sys: 4.54 s, total: 39.4 s\n",
      "Wall time: 1min 12s\n"
     ]
    }
   ],
   "source": [
    "%%time\n",
    "with strategy.scope():\n",
    "    transformer_layer = TFAutoModel.from_pretrained(MODEL)\n",
    "    model_cat = build_model(transformer_layer, max_len=MAX_LEN, num_of_classes=common_df.category.nunique())"
   ]
  },
  {
   "cell_type": "code",
   "execution_count": 14,
   "metadata": {
    "execution": {
     "iopub.execute_input": "2020-08-20T21:14:13.512208Z",
     "iopub.status.busy": "2020-08-20T21:14:13.511418Z",
     "iopub.status.idle": "2020-08-20T21:14:13.515603Z",
     "shell.execute_reply": "2020-08-20T21:14:13.515127Z"
    },
    "papermill": {
     "duration": 0.017748,
     "end_time": "2020-08-20T21:14:13.515699",
     "exception": false,
     "start_time": "2020-08-20T21:14:13.497951",
     "status": "completed"
    },
    "tags": []
   },
   "outputs": [],
   "source": [
    "early_stopping = tf.keras.callbacks.EarlyStopping(\n",
    "    monitor='val_loss', \n",
    "    verbose=1,\n",
    "    patience=1,\n",
    "    mode='min',\n",
    "    restore_best_weights=True)"
   ]
  },
  {
   "cell_type": "code",
   "execution_count": 15,
   "metadata": {
    "execution": {
     "iopub.execute_input": "2020-08-20T21:14:13.541872Z",
     "iopub.status.busy": "2020-08-20T21:14:13.540878Z",
     "iopub.status.idle": "2020-08-20T21:41:36.020238Z",
     "shell.execute_reply": "2020-08-20T21:41:36.020929Z"
    },
    "papermill": {
     "duration": 1642.496332,
     "end_time": "2020-08-20T21:41:36.021160",
     "exception": false,
     "start_time": "2020-08-20T21:14:13.524828",
     "status": "completed"
    },
    "tags": []
   },
   "outputs": [
    {
     "name": "stdout",
     "output_type": "stream",
     "text": [
      "Train for 3487 steps\n",
      "Epoch 1/2\n",
      "3487/3487 [==============================] - 810s 232ms/step - loss: 0.2001 - accuracy: 0.9284\n",
      "Epoch 2/2\n",
      "3487/3487 [==============================] - 796s 228ms/step - loss: 0.0946 - accuracy: 0.9694\n"
     ]
    }
   ],
   "source": [
    "n_steps = x_cat_train.shape[0] // BATCH_SIZE\n",
    "train_history = model_cat.fit(\n",
    "    train_dataset_cat,\n",
    "    steps_per_epoch=n_steps,\n",
    "    epochs=EPOCHS,\n",
    "    callbacks=[early_stopping]\n",
    ")\n",
    "\n",
    "model_cat.save(\"model_cat\")"
   ]
  },
  {
   "cell_type": "code",
   "execution_count": 16,
   "metadata": {
    "execution": {
     "iopub.execute_input": "2020-08-20T21:41:45.305330Z",
     "iopub.status.busy": "2020-08-20T21:41:45.304384Z",
     "iopub.status.idle": "2020-08-20T21:44:10.895848Z",
     "shell.execute_reply": "2020-08-20T21:44:10.896601Z"
    },
    "papermill": {
     "duration": 146.077568,
     "end_time": "2020-08-20T21:44:10.896841",
     "exception": false,
     "start_time": "2020-08-20T21:41:44.819273",
     "status": "completed"
    },
    "tags": []
   },
   "outputs": [
    {
     "name": "stdout",
     "output_type": "stream",
     "text": [
      "1718/1718 [==============================] - 146s 85ms/step\n"
     ]
    }
   ],
   "source": [
    "y_cat_test_pred = np.argmax(model_cat.predict(test_dataset_cat, verbose=1), axis=1)\n",
    "del model_cat"
   ]
  },
  {
   "cell_type": "code",
   "execution_count": 17,
   "metadata": {
    "execution": {
     "iopub.execute_input": "2020-08-20T21:44:11.976840Z",
     "iopub.status.busy": "2020-08-20T21:44:11.975725Z",
     "iopub.status.idle": "2020-08-20T21:44:11.991069Z",
     "shell.execute_reply": "2020-08-20T21:44:11.991728Z"
    },
    "papermill": {
     "duration": 0.58647,
     "end_time": "2020-08-20T21:44:11.991926",
     "exception": false,
     "start_time": "2020-08-20T21:44:11.405456",
     "status": "completed"
    },
    "tags": []
   },
   "outputs": [
    {
     "name": "stdout",
     "output_type": "stream",
     "text": [
      "Accuracy: 0.9702030124426981\n",
      "!!!TEST set is also multilingual now!!!\n"
     ]
    }
   ],
   "source": [
    "acc = accuracy_score(encoded_Y_cat_test, y_cat_test_pred)\n",
    "print('Accuracy: {0}'.format(acc))\n",
    "print('!!!TEST set is also multilingual now!!!')"
   ]
  },
  {
   "cell_type": "markdown",
   "execution_count": null,
   "metadata": {
    "papermill": {
     "duration": 0.49039,
     "end_time": "2020-08-20T21:44:13.095483",
     "exception": false,
     "start_time": "2020-08-20T21:44:12.605093",
     "status": "completed"
    },
    "tags": []
   },
   "source": [
    "## Literal classifier"
   ]
  },
  {
   "cell_type": "code",
   "execution_count": 18,
   "metadata": {
    "execution": {
     "iopub.execute_input": "2020-08-20T21:44:14.333972Z",
     "iopub.status.busy": "2020-08-20T21:44:14.332965Z",
     "iopub.status.idle": "2020-08-20T21:44:14.337006Z",
     "shell.execute_reply": "2020-08-20T21:44:14.336409Z"
    },
    "papermill": {
     "duration": 0.520667,
     "end_time": "2020-08-20T21:44:14.337129",
     "exception": false,
     "start_time": "2020-08-20T21:44:13.816462",
     "status": "completed"
    },
    "tags": []
   },
   "outputs": [],
   "source": [
    "encoder_lit = LabelEncoder()\n",
    "encoder_lit.fit(literal_df.type_1)\n",
    "encoded_Y_lit_train = encoder_lit.transform(y_lit_train)\n",
    "encoded_Y_lit_test = encoder_lit.transform(y_lit_test)\n",
    "dummy_y_lit_train = np_utils.to_categorical(encoded_Y_lit_train) # convert integers to dummy variables (i.e. one hot encoded)\n",
    "\n",
    "np.save('encoder_lit.npy', encoder_lit.classes_)"
   ]
  },
  {
   "cell_type": "code",
   "execution_count": 19,
   "metadata": {
    "execution": {
     "iopub.execute_input": "2020-08-20T21:44:15.372696Z",
     "iopub.status.busy": "2020-08-20T21:44:15.371295Z",
     "iopub.status.idle": "2020-08-20T21:44:25.783121Z",
     "shell.execute_reply": "2020-08-20T21:44:25.783896Z"
    },
    "papermill": {
     "duration": 10.956244,
     "end_time": "2020-08-20T21:44:25.784070",
     "exception": false,
     "start_time": "2020-08-20T21:44:14.827826",
     "status": "completed"
    },
    "tags": []
   },
   "outputs": [
    {
     "name": "stdout",
     "output_type": "stream",
     "text": [
      "CPU times: user 10.4 s, sys: 0 ns, total: 10.4 s\n",
      "Wall time: 10.4 s\n"
     ]
    }
   ],
   "source": [
    "%%time \n",
    "\n",
    "x_lit_train = regular_encode(X_lit_train.values.astype(str), tokenizer, maxlen=MAX_LEN)\n",
    "x_lit_test = regular_encode(X_lit_test.values.astype(str), tokenizer, maxlen=MAX_LEN)"
   ]
  },
  {
   "cell_type": "code",
   "execution_count": 20,
   "metadata": {
    "execution": {
     "iopub.execute_input": "2020-08-20T21:44:26.798029Z",
     "iopub.status.busy": "2020-08-20T21:44:26.797368Z",
     "iopub.status.idle": "2020-08-20T21:44:26.803629Z",
     "shell.execute_reply": "2020-08-20T21:44:26.803161Z"
    },
    "papermill": {
     "duration": 0.533713,
     "end_time": "2020-08-20T21:44:26.803764",
     "exception": false,
     "start_time": "2020-08-20T21:44:26.270051",
     "status": "completed"
    },
    "tags": []
   },
   "outputs": [],
   "source": [
    "train_dataset_lit = (\n",
    "    tf.data.Dataset\n",
    "    .from_tensor_slices((x_lit_train, dummy_y_lit_train))\n",
    "    .repeat()\n",
    "    .shuffle(2048)\n",
    "    .batch(BATCH_SIZE)\n",
    "    .prefetch(AUTO)\n",
    ")\n",
    "\n",
    "test_dataset_lit = (\n",
    "    tf.data.Dataset\n",
    "    .from_tensor_slices(x_lit_test)\n",
    "    .batch(BATCH_SIZE)\n",
    ")"
   ]
  },
  {
   "cell_type": "code",
   "execution_count": 21,
   "metadata": {
    "execution": {
     "iopub.execute_input": "2020-08-20T21:44:27.781000Z",
     "iopub.status.busy": "2020-08-20T21:44:27.780280Z",
     "iopub.status.idle": "2020-08-20T21:44:32.634422Z",
     "shell.execute_reply": "2020-08-20T21:44:32.634907Z"
    },
    "papermill": {
     "duration": 5.346428,
     "end_time": "2020-08-20T21:44:32.635053",
     "exception": false,
     "start_time": "2020-08-20T21:44:27.288625",
     "status": "completed"
    },
    "tags": []
   },
   "outputs": [
    {
     "name": "stdout",
     "output_type": "stream",
     "text": [
      "CPU times: user 3.53 s, sys: 857 ms, total: 4.39 s\n",
      "Wall time: 4.85 s\n"
     ]
    }
   ],
   "source": [
    "%%time\n",
    "with strategy.scope():\n",
    "    transformer_layer = TFAutoModel.from_pretrained(MODEL)\n",
    "    model_lit = build_model(transformer_layer, max_len=MAX_LEN, num_of_classes=literal_df.type_1.nunique())"
   ]
  },
  {
   "cell_type": "code",
   "execution_count": 22,
   "metadata": {
    "execution": {
     "iopub.execute_input": "2020-08-20T21:44:33.657450Z",
     "iopub.status.busy": "2020-08-20T21:44:33.656590Z",
     "iopub.status.idle": "2020-08-20T21:53:06.611226Z",
     "shell.execute_reply": "2020-08-20T21:53:06.610582Z"
    },
    "papermill": {
     "duration": 513.451118,
     "end_time": "2020-08-20T21:53:06.611362",
     "exception": false,
     "start_time": "2020-08-20T21:44:33.160244",
     "status": "completed"
    },
    "tags": []
   },
   "outputs": [
    {
     "name": "stdout",
     "output_type": "stream",
     "text": [
      "Train for 1006 steps\n",
      "Epoch 1/2\n",
      "1006/1006 [==============================] - 246s 245ms/step - loss: 0.2423 - accuracy: 0.8982\n",
      "Epoch 2/2\n",
      "1006/1006 [==============================] - 231s 229ms/step - loss: 0.0766 - accuracy: 0.9747\n"
     ]
    }
   ],
   "source": [
    "n_steps = x_lit_train.shape[0] // BATCH_SIZE\n",
    "train_history = model_lit.fit(\n",
    "    train_dataset_lit,\n",
    "    steps_per_epoch=n_steps,\n",
    "    epochs=EPOCHS,\n",
    "    callbacks=[early_stopping]\n",
    ")\n",
    "\n",
    "model_lit.save(\"model_lit\")"
   ]
  },
  {
   "cell_type": "code",
   "execution_count": 23,
   "metadata": {
    "execution": {
     "iopub.execute_input": "2020-08-20T21:53:12.978110Z",
     "iopub.status.busy": "2020-08-20T21:53:12.977106Z",
     "iopub.status.idle": "2020-08-20T21:53:57.153552Z",
     "shell.execute_reply": "2020-08-20T21:53:57.153019Z"
    },
    "papermill": {
     "duration": 45.375555,
     "end_time": "2020-08-20T21:53:57.153656",
     "exception": false,
     "start_time": "2020-08-20T21:53:11.778101",
     "status": "completed"
    },
    "tags": []
   },
   "outputs": [
    {
     "name": "stdout",
     "output_type": "stream",
     "text": [
      "496/496 [==============================] - 44s 89ms/step\n"
     ]
    }
   ],
   "source": [
    "y_lit_test_pred = np.argmax(model_lit.predict(test_dataset_lit, verbose=1), axis=1)\n",
    "del model_lit"
   ]
  },
  {
   "cell_type": "code",
   "execution_count": 24,
   "metadata": {
    "execution": {
     "iopub.execute_input": "2020-08-20T21:53:58.690530Z",
     "iopub.status.busy": "2020-08-20T21:53:58.689544Z",
     "iopub.status.idle": "2020-08-20T21:53:58.696796Z",
     "shell.execute_reply": "2020-08-20T21:53:58.697527Z"
    },
    "papermill": {
     "duration": 0.917683,
     "end_time": "2020-08-20T21:53:58.697715",
     "exception": false,
     "start_time": "2020-08-20T21:53:57.780032",
     "status": "completed"
    },
    "tags": []
   },
   "outputs": [
    {
     "name": "stdout",
     "output_type": "stream",
     "text": [
      "Accuracy: 0.9682219419924338\n",
      "!!!TEST set is also multilingual now!!!\n"
     ]
    }
   ],
   "source": [
    "acc = accuracy_score(encoded_Y_lit_test, y_lit_test_pred)\n",
    "print('Accuracy: {0}'.format(acc))\n",
    "print('!!!TEST set is also multilingual now!!!')"
   ]
  }
 ],
 "metadata": {
  "kernelspec": {
   "display_name": "Python 3",
   "language": "python",
   "name": "python3"
  },
  "language_info": {
   "codemirror_mode": {
    "name": "ipython",
    "version": 3
   },
   "file_extension": ".py",
   "mimetype": "text/x-python",
   "name": "python",
   "nbconvert_exporter": "python",
   "pygments_lexer": "ipython3",
   "version": "3.7.6"
  },
  "papermill": {
   "duration": 2520.934311,
   "end_time": "2020-08-20T21:54:00.569921",
   "environment_variables": {},
   "exception": null,
   "input_path": "__notebook__.ipynb",
   "output_path": "__notebook__.ipynb",
   "parameters": {},
   "start_time": "2020-08-20T21:11:59.635610",
   "version": "2.1.0"
  },
  "widgets": {
   "application/vnd.jupyter.widget-state+json": {
    "state": {
     "046dad5d02774aeea7fba65306003672": {
      "model_module": "@jupyter-widgets/controls",
      "model_module_version": "1.5.0",
      "model_name": "HTMLModel",
      "state": {
       "_dom_classes": [],
       "_model_module": "@jupyter-widgets/controls",
       "_model_module_version": "1.5.0",
       "_model_name": "HTMLModel",
       "_view_count": null,
       "_view_module": "@jupyter-widgets/controls",
       "_view_module_version": "1.5.0",
       "_view_name": "HTMLView",
       "description": "",
       "description_tooltip": null,
       "layout": "IPY_MODEL_359be3eb699445fa97c62ed6890c1792",
       "placeholder": "​",
       "style": "IPY_MODEL_3c1b63a6aa144e6f80166594fa8571b9",
       "value": " 996k/996k [00:00&lt;00:00, 1.98MB/s]"
      }
     },
     "16b846aea2ab40b888e598880c88cf87": {
      "model_module": "@jupyter-widgets/controls",
      "model_module_version": "1.5.0",
      "model_name": "FloatProgressModel",
      "state": {
       "_dom_classes": [],
       "_model_module": "@jupyter-widgets/controls",
       "_model_module_version": "1.5.0",
       "_model_name": "FloatProgressModel",
       "_view_count": null,
       "_view_module": "@jupyter-widgets/controls",
       "_view_module_version": "1.5.0",
       "_view_name": "ProgressView",
       "bar_style": "success",
       "description": "Downloading: 100%",
       "description_tooltip": null,
       "layout": "IPY_MODEL_e303a51febd849b2871bc66a24276643",
       "max": 1083389348.0,
       "min": 0.0,
       "orientation": "horizontal",
       "style": "IPY_MODEL_cc0e8250d5874c25baa82d6d94b6702b",
       "value": 1083389348.0
      }
     },
     "29c76bfa58ba449f87ee80abb0219c80": {
      "model_module": "@jupyter-widgets/controls",
      "model_module_version": "1.5.0",
      "model_name": "FloatProgressModel",
      "state": {
       "_dom_classes": [],
       "_model_module": "@jupyter-widgets/controls",
       "_model_module_version": "1.5.0",
       "_model_name": "FloatProgressModel",
       "_view_count": null,
       "_view_module": "@jupyter-widgets/controls",
       "_view_module_version": "1.5.0",
       "_view_name": "ProgressView",
       "bar_style": "success",
       "description": "Downloading: 100%",
       "description_tooltip": null,
       "layout": "IPY_MODEL_758877d958e04e829b23b3be190c810c",
       "max": 625.0,
       "min": 0.0,
       "orientation": "horizontal",
       "style": "IPY_MODEL_3484483012ad4575ba3ad04e9ae7a235",
       "value": 625.0
      }
     },
     "33eeb617e32743e08894a7e4ef265549": {
      "model_module": "@jupyter-widgets/base",
      "model_module_version": "1.2.0",
      "model_name": "LayoutModel",
      "state": {
       "_model_module": "@jupyter-widgets/base",
       "_model_module_version": "1.2.0",
       "_model_name": "LayoutModel",
       "_view_count": null,
       "_view_module": "@jupyter-widgets/base",
       "_view_module_version": "1.2.0",
       "_view_name": "LayoutView",
       "align_content": null,
       "align_items": null,
       "align_self": null,
       "border": null,
       "bottom": null,
       "display": null,
       "flex": null,
       "flex_flow": null,
       "grid_area": null,
       "grid_auto_columns": null,
       "grid_auto_flow": null,
       "grid_auto_rows": null,
       "grid_column": null,
       "grid_gap": null,
       "grid_row": null,
       "grid_template_areas": null,
       "grid_template_columns": null,
       "grid_template_rows": null,
       "height": null,
       "justify_content": null,
       "justify_items": null,
       "left": null,
       "margin": null,
       "max_height": null,
       "max_width": null,
       "min_height": null,
       "min_width": null,
       "object_fit": null,
       "object_position": null,
       "order": null,
       "overflow": null,
       "overflow_x": null,
       "overflow_y": null,
       "padding": null,
       "right": null,
       "top": null,
       "visibility": null,
       "width": null
      }
     },
     "3484483012ad4575ba3ad04e9ae7a235": {
      "model_module": "@jupyter-widgets/controls",
      "model_module_version": "1.5.0",
      "model_name": "ProgressStyleModel",
      "state": {
       "_model_module": "@jupyter-widgets/controls",
       "_model_module_version": "1.5.0",
       "_model_name": "ProgressStyleModel",
       "_view_count": null,
       "_view_module": "@jupyter-widgets/base",
       "_view_module_version": "1.2.0",
       "_view_name": "StyleView",
       "bar_color": null,
       "description_width": "initial"
      }
     },
     "359be3eb699445fa97c62ed6890c1792": {
      "model_module": "@jupyter-widgets/base",
      "model_module_version": "1.2.0",
      "model_name": "LayoutModel",
      "state": {
       "_model_module": "@jupyter-widgets/base",
       "_model_module_version": "1.2.0",
       "_model_name": "LayoutModel",
       "_view_count": null,
       "_view_module": "@jupyter-widgets/base",
       "_view_module_version": "1.2.0",
       "_view_name": "LayoutView",
       "align_content": null,
       "align_items": null,
       "align_self": null,
       "border": null,
       "bottom": null,
       "display": null,
       "flex": null,
       "flex_flow": null,
       "grid_area": null,
       "grid_auto_columns": null,
       "grid_auto_flow": null,
       "grid_auto_rows": null,
       "grid_column": null,
       "grid_gap": null,
       "grid_row": null,
       "grid_template_areas": null,
       "grid_template_columns": null,
       "grid_template_rows": null,
       "height": null,
       "justify_content": null,
       "justify_items": null,
       "left": null,
       "margin": null,
       "max_height": null,
       "max_width": null,
       "min_height": null,
       "min_width": null,
       "object_fit": null,
       "object_position": null,
       "order": null,
       "overflow": null,
       "overflow_x": null,
       "overflow_y": null,
       "padding": null,
       "right": null,
       "top": null,
       "visibility": null,
       "width": null
      }
     },
     "3c1b63a6aa144e6f80166594fa8571b9": {
      "model_module": "@jupyter-widgets/controls",
      "model_module_version": "1.5.0",
      "model_name": "DescriptionStyleModel",
      "state": {
       "_model_module": "@jupyter-widgets/controls",
       "_model_module_version": "1.5.0",
       "_model_name": "DescriptionStyleModel",
       "_view_count": null,
       "_view_module": "@jupyter-widgets/base",
       "_view_module_version": "1.2.0",
       "_view_name": "StyleView",
       "description_width": ""
      }
     },
     "44e28d3f5f6b4d218e760a3ce0ce8b43": {
      "model_module": "@jupyter-widgets/controls",
      "model_module_version": "1.5.0",
      "model_name": "DescriptionStyleModel",
      "state": {
       "_model_module": "@jupyter-widgets/controls",
       "_model_module_version": "1.5.0",
       "_model_name": "DescriptionStyleModel",
       "_view_count": null,
       "_view_module": "@jupyter-widgets/base",
       "_view_module_version": "1.2.0",
       "_view_name": "StyleView",
       "description_width": ""
      }
     },
     "5ff9503a55774113b4b2b876dd7a0a87": {
      "model_module": "@jupyter-widgets/base",
      "model_module_version": "1.2.0",
      "model_name": "LayoutModel",
      "state": {
       "_model_module": "@jupyter-widgets/base",
       "_model_module_version": "1.2.0",
       "_model_name": "LayoutModel",
       "_view_count": null,
       "_view_module": "@jupyter-widgets/base",
       "_view_module_version": "1.2.0",
       "_view_name": "LayoutView",
       "align_content": null,
       "align_items": null,
       "align_self": null,
       "border": null,
       "bottom": null,
       "display": null,
       "flex": null,
       "flex_flow": null,
       "grid_area": null,
       "grid_auto_columns": null,
       "grid_auto_flow": null,
       "grid_auto_rows": null,
       "grid_column": null,
       "grid_gap": null,
       "grid_row": null,
       "grid_template_areas": null,
       "grid_template_columns": null,
       "grid_template_rows": null,
       "height": null,
       "justify_content": null,
       "justify_items": null,
       "left": null,
       "margin": null,
       "max_height": null,
       "max_width": null,
       "min_height": null,
       "min_width": null,
       "object_fit": null,
       "object_position": null,
       "order": null,
       "overflow": null,
       "overflow_x": null,
       "overflow_y": null,
       "padding": null,
       "right": null,
       "top": null,
       "visibility": null,
       "width": null
      }
     },
     "758877d958e04e829b23b3be190c810c": {
      "model_module": "@jupyter-widgets/base",
      "model_module_version": "1.2.0",
      "model_name": "LayoutModel",
      "state": {
       "_model_module": "@jupyter-widgets/base",
       "_model_module_version": "1.2.0",
       "_model_name": "LayoutModel",
       "_view_count": null,
       "_view_module": "@jupyter-widgets/base",
       "_view_module_version": "1.2.0",
       "_view_name": "LayoutView",
       "align_content": null,
       "align_items": null,
       "align_self": null,
       "border": null,
       "bottom": null,
       "display": null,
       "flex": null,
       "flex_flow": null,
       "grid_area": null,
       "grid_auto_columns": null,
       "grid_auto_flow": null,
       "grid_auto_rows": null,
       "grid_column": null,
       "grid_gap": null,
       "grid_row": null,
       "grid_template_areas": null,
       "grid_template_columns": null,
       "grid_template_rows": null,
       "height": null,
       "justify_content": null,
       "justify_items": null,
       "left": null,
       "margin": null,
       "max_height": null,
       "max_width": null,
       "min_height": null,
       "min_width": null,
       "object_fit": null,
       "object_position": null,
       "order": null,
       "overflow": null,
       "overflow_x": null,
       "overflow_y": null,
       "padding": null,
       "right": null,
       "top": null,
       "visibility": null,
       "width": null
      }
     },
     "7bccc16df0bd451ca5ea3a829228bc72": {
      "model_module": "@jupyter-widgets/base",
      "model_module_version": "1.2.0",
      "model_name": "LayoutModel",
      "state": {
       "_model_module": "@jupyter-widgets/base",
       "_model_module_version": "1.2.0",
       "_model_name": "LayoutModel",
       "_view_count": null,
       "_view_module": "@jupyter-widgets/base",
       "_view_module_version": "1.2.0",
       "_view_name": "LayoutView",
       "align_content": null,
       "align_items": null,
       "align_self": null,
       "border": null,
       "bottom": null,
       "display": null,
       "flex": null,
       "flex_flow": null,
       "grid_area": null,
       "grid_auto_columns": null,
       "grid_auto_flow": null,
       "grid_auto_rows": null,
       "grid_column": null,
       "grid_gap": null,
       "grid_row": null,
       "grid_template_areas": null,
       "grid_template_columns": null,
       "grid_template_rows": null,
       "height": null,
       "justify_content": null,
       "justify_items": null,
       "left": null,
       "margin": null,
       "max_height": null,
       "max_width": null,
       "min_height": null,
       "min_width": null,
       "object_fit": null,
       "object_position": null,
       "order": null,
       "overflow": null,
       "overflow_x": null,
       "overflow_y": null,
       "padding": null,
       "right": null,
       "top": null,
       "visibility": null,
       "width": null
      }
     },
     "8c2e15f3a96840348ac350015c0f327b": {
      "model_module": "@jupyter-widgets/controls",
      "model_module_version": "1.5.0",
      "model_name": "HBoxModel",
      "state": {
       "_dom_classes": [],
       "_model_module": "@jupyter-widgets/controls",
       "_model_module_version": "1.5.0",
       "_model_name": "HBoxModel",
       "_view_count": null,
       "_view_module": "@jupyter-widgets/controls",
       "_view_module_version": "1.5.0",
       "_view_name": "HBoxView",
       "box_style": "",
       "children": [
        "IPY_MODEL_16b846aea2ab40b888e598880c88cf87",
        "IPY_MODEL_eba744c83d7840b1acb8c8c79928d8d1"
       ],
       "layout": "IPY_MODEL_33eeb617e32743e08894a7e4ef265549"
      }
     },
     "a0f23ad69ccf42589439ac759fb4b932": {
      "model_module": "@jupyter-widgets/controls",
      "model_module_version": "1.5.0",
      "model_name": "HTMLModel",
      "state": {
       "_dom_classes": [],
       "_model_module": "@jupyter-widgets/controls",
       "_model_module_version": "1.5.0",
       "_model_name": "HTMLModel",
       "_view_count": null,
       "_view_module": "@jupyter-widgets/controls",
       "_view_module_version": "1.5.0",
       "_view_name": "HTMLView",
       "description": "",
       "description_tooltip": null,
       "layout": "IPY_MODEL_7bccc16df0bd451ca5ea3a829228bc72",
       "placeholder": "​",
       "style": "IPY_MODEL_44e28d3f5f6b4d218e760a3ce0ce8b43",
       "value": " 625/625 [00:00&lt;00:00, 18.2kB/s]"
      }
     },
     "ac0a869543be4b1a976a142d04110a4e": {
      "model_module": "@jupyter-widgets/base",
      "model_module_version": "1.2.0",
      "model_name": "LayoutModel",
      "state": {
       "_model_module": "@jupyter-widgets/base",
       "_model_module_version": "1.2.0",
       "_model_name": "LayoutModel",
       "_view_count": null,
       "_view_module": "@jupyter-widgets/base",
       "_view_module_version": "1.2.0",
       "_view_name": "LayoutView",
       "align_content": null,
       "align_items": null,
       "align_self": null,
       "border": null,
       "bottom": null,
       "display": null,
       "flex": null,
       "flex_flow": null,
       "grid_area": null,
       "grid_auto_columns": null,
       "grid_auto_flow": null,
       "grid_auto_rows": null,
       "grid_column": null,
       "grid_gap": null,
       "grid_row": null,
       "grid_template_areas": null,
       "grid_template_columns": null,
       "grid_template_rows": null,
       "height": null,
       "justify_content": null,
       "justify_items": null,
       "left": null,
       "margin": null,
       "max_height": null,
       "max_width": null,
       "min_height": null,
       "min_width": null,
       "object_fit": null,
       "object_position": null,
       "order": null,
       "overflow": null,
       "overflow_x": null,
       "overflow_y": null,
       "padding": null,
       "right": null,
       "top": null,
       "visibility": null,
       "width": null
      }
     },
     "be68affc719c4a5996ad05e3d7727b51": {
      "model_module": "@jupyter-widgets/controls",
      "model_module_version": "1.5.0",
      "model_name": "HBoxModel",
      "state": {
       "_dom_classes": [],
       "_model_module": "@jupyter-widgets/controls",
       "_model_module_version": "1.5.0",
       "_model_name": "HBoxModel",
       "_view_count": null,
       "_view_module": "@jupyter-widgets/controls",
       "_view_module_version": "1.5.0",
       "_view_name": "HBoxView",
       "box_style": "",
       "children": [
        "IPY_MODEL_29c76bfa58ba449f87ee80abb0219c80",
        "IPY_MODEL_a0f23ad69ccf42589439ac759fb4b932"
       ],
       "layout": "IPY_MODEL_ac0a869543be4b1a976a142d04110a4e"
      }
     },
     "cc0e8250d5874c25baa82d6d94b6702b": {
      "model_module": "@jupyter-widgets/controls",
      "model_module_version": "1.5.0",
      "model_name": "ProgressStyleModel",
      "state": {
       "_model_module": "@jupyter-widgets/controls",
       "_model_module_version": "1.5.0",
       "_model_name": "ProgressStyleModel",
       "_view_count": null,
       "_view_module": "@jupyter-widgets/base",
       "_view_module_version": "1.2.0",
       "_view_name": "StyleView",
       "bar_color": null,
       "description_width": "initial"
      }
     },
     "d0ffbfe000824546ab97757af2455e03": {
      "model_module": "@jupyter-widgets/controls",
      "model_module_version": "1.5.0",
      "model_name": "DescriptionStyleModel",
      "state": {
       "_model_module": "@jupyter-widgets/controls",
       "_model_module_version": "1.5.0",
       "_model_name": "DescriptionStyleModel",
       "_view_count": null,
       "_view_module": "@jupyter-widgets/base",
       "_view_module_version": "1.2.0",
       "_view_name": "StyleView",
       "description_width": ""
      }
     },
     "e303a51febd849b2871bc66a24276643": {
      "model_module": "@jupyter-widgets/base",
      "model_module_version": "1.2.0",
      "model_name": "LayoutModel",
      "state": {
       "_model_module": "@jupyter-widgets/base",
       "_model_module_version": "1.2.0",
       "_model_name": "LayoutModel",
       "_view_count": null,
       "_view_module": "@jupyter-widgets/base",
       "_view_module_version": "1.2.0",
       "_view_name": "LayoutView",
       "align_content": null,
       "align_items": null,
       "align_self": null,
       "border": null,
       "bottom": null,
       "display": null,
       "flex": null,
       "flex_flow": null,
       "grid_area": null,
       "grid_auto_columns": null,
       "grid_auto_flow": null,
       "grid_auto_rows": null,
       "grid_column": null,
       "grid_gap": null,
       "grid_row": null,
       "grid_template_areas": null,
       "grid_template_columns": null,
       "grid_template_rows": null,
       "height": null,
       "justify_content": null,
       "justify_items": null,
       "left": null,
       "margin": null,
       "max_height": null,
       "max_width": null,
       "min_height": null,
       "min_width": null,
       "object_fit": null,
       "object_position": null,
       "order": null,
       "overflow": null,
       "overflow_x": null,
       "overflow_y": null,
       "padding": null,
       "right": null,
       "top": null,
       "visibility": null,
       "width": null
      }
     },
     "e90b4966448b42948f8cc8bb42c92fd2": {
      "model_module": "@jupyter-widgets/controls",
      "model_module_version": "1.5.0",
      "model_name": "HBoxModel",
      "state": {
       "_dom_classes": [],
       "_model_module": "@jupyter-widgets/controls",
       "_model_module_version": "1.5.0",
       "_model_name": "HBoxModel",
       "_view_count": null,
       "_view_module": "@jupyter-widgets/controls",
       "_view_module_version": "1.5.0",
       "_view_name": "HBoxView",
       "box_style": "",
       "children": [
        "IPY_MODEL_fb83927f5dc94bbd9fe8baacaef56e2e",
        "IPY_MODEL_046dad5d02774aeea7fba65306003672"
       ],
       "layout": "IPY_MODEL_f891dcdc622a4d1394cff41cde38ca71"
      }
     },
     "eba744c83d7840b1acb8c8c79928d8d1": {
      "model_module": "@jupyter-widgets/controls",
      "model_module_version": "1.5.0",
      "model_name": "HTMLModel",
      "state": {
       "_dom_classes": [],
       "_model_module": "@jupyter-widgets/controls",
       "_model_module_version": "1.5.0",
       "_model_name": "HTMLModel",
       "_view_count": null,
       "_view_module": "@jupyter-widgets/controls",
       "_view_module_version": "1.5.0",
       "_view_name": "HTMLView",
       "description": "",
       "description_tooltip": null,
       "layout": "IPY_MODEL_ff6cf3fadf7e48d79bc886b0c875a9db",
       "placeholder": "​",
       "style": "IPY_MODEL_d0ffbfe000824546ab97757af2455e03",
       "value": " 1.08G/1.08G [01:04&lt;00:00, 16.9MB/s]"
      }
     },
     "f891dcdc622a4d1394cff41cde38ca71": {
      "model_module": "@jupyter-widgets/base",
      "model_module_version": "1.2.0",
      "model_name": "LayoutModel",
      "state": {
       "_model_module": "@jupyter-widgets/base",
       "_model_module_version": "1.2.0",
       "_model_name": "LayoutModel",
       "_view_count": null,
       "_view_module": "@jupyter-widgets/base",
       "_view_module_version": "1.2.0",
       "_view_name": "LayoutView",
       "align_content": null,
       "align_items": null,
       "align_self": null,
       "border": null,
       "bottom": null,
       "display": null,
       "flex": null,
       "flex_flow": null,
       "grid_area": null,
       "grid_auto_columns": null,
       "grid_auto_flow": null,
       "grid_auto_rows": null,
       "grid_column": null,
       "grid_gap": null,
       "grid_row": null,
       "grid_template_areas": null,
       "grid_template_columns": null,
       "grid_template_rows": null,
       "height": null,
       "justify_content": null,
       "justify_items": null,
       "left": null,
       "margin": null,
       "max_height": null,
       "max_width": null,
       "min_height": null,
       "min_width": null,
       "object_fit": null,
       "object_position": null,
       "order": null,
       "overflow": null,
       "overflow_x": null,
       "overflow_y": null,
       "padding": null,
       "right": null,
       "top": null,
       "visibility": null,
       "width": null
      }
     },
     "fb83927f5dc94bbd9fe8baacaef56e2e": {
      "model_module": "@jupyter-widgets/controls",
      "model_module_version": "1.5.0",
      "model_name": "FloatProgressModel",
      "state": {
       "_dom_classes": [],
       "_model_module": "@jupyter-widgets/controls",
       "_model_module_version": "1.5.0",
       "_model_name": "FloatProgressModel",
       "_view_count": null,
       "_view_module": "@jupyter-widgets/controls",
       "_view_module_version": "1.5.0",
       "_view_name": "ProgressView",
       "bar_style": "success",
       "description": "Downloading: 100%",
       "description_tooltip": null,
       "layout": "IPY_MODEL_5ff9503a55774113b4b2b876dd7a0a87",
       "max": 995526.0,
       "min": 0.0,
       "orientation": "horizontal",
       "style": "IPY_MODEL_fd808cd6bbcc49278282617b9b72f89f",
       "value": 995526.0
      }
     },
     "fd808cd6bbcc49278282617b9b72f89f": {
      "model_module": "@jupyter-widgets/controls",
      "model_module_version": "1.5.0",
      "model_name": "ProgressStyleModel",
      "state": {
       "_model_module": "@jupyter-widgets/controls",
       "_model_module_version": "1.5.0",
       "_model_name": "ProgressStyleModel",
       "_view_count": null,
       "_view_module": "@jupyter-widgets/base",
       "_view_module_version": "1.2.0",
       "_view_name": "StyleView",
       "bar_color": null,
       "description_width": "initial"
      }
     },
     "ff6cf3fadf7e48d79bc886b0c875a9db": {
      "model_module": "@jupyter-widgets/base",
      "model_module_version": "1.2.0",
      "model_name": "LayoutModel",
      "state": {
       "_model_module": "@jupyter-widgets/base",
       "_model_module_version": "1.2.0",
       "_model_name": "LayoutModel",
       "_view_count": null,
       "_view_module": "@jupyter-widgets/base",
       "_view_module_version": "1.2.0",
       "_view_name": "LayoutView",
       "align_content": null,
       "align_items": null,
       "align_self": null,
       "border": null,
       "bottom": null,
       "display": null,
       "flex": null,
       "flex_flow": null,
       "grid_area": null,
       "grid_auto_columns": null,
       "grid_auto_flow": null,
       "grid_auto_rows": null,
       "grid_column": null,
       "grid_gap": null,
       "grid_row": null,
       "grid_template_areas": null,
       "grid_template_columns": null,
       "grid_template_rows": null,
       "height": null,
       "justify_content": null,
       "justify_items": null,
       "left": null,
       "margin": null,
       "max_height": null,
       "max_width": null,
       "min_height": null,
       "min_width": null,
       "object_fit": null,
       "object_position": null,
       "order": null,
       "overflow": null,
       "overflow_x": null,
       "overflow_y": null,
       "padding": null,
       "right": null,
       "top": null,
       "visibility": null,
       "width": null
      }
     }
    },
    "version_major": 2,
    "version_minor": 0
   }
  }
 },
 "nbformat": 4,
 "nbformat_minor": 4
}
