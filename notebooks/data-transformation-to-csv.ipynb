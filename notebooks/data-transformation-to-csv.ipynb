{
 "cells": [
  {
   "cell_type": "code",
   "execution_count": 11,
   "metadata": {},
   "outputs": [],
   "source": [
    "import pandas as pd\n",
    "import json\n",
    "import gc"
   ]
  },
  {
   "cell_type": "markdown",
   "metadata": {},
   "source": [
    "#### If the category is \"resource\", answer types are ontology classes from either the DBpedia ontology or the Wikidata ontology. If category is \"literal\", answer types are either \"number\", \"date\", or \"string\". \"boolean\" answer type. If the category is \"boolean\", answer type is always \"boolean\"."
   ]
  },
  {
   "cell_type": "code",
   "execution_count": 7,
   "metadata": {},
   "outputs": [],
   "source": [
    "dbpedia_json = None\n",
    "wikidata_json = None\n",
    "\n",
    "with open('../datasets/DBpedia/smarttask_dbpedia_train.json') as json_file:\n",
    "    dbpedia_json = json.load(json_file)\n",
    "    \n",
    "with open('../datasets/Wikidata/lcquad2_anstype_wikidata_train.json') as json_file:\n",
    "    wikidata_json = json.load(json_file)"
   ]
  },
  {
   "cell_type": "code",
   "execution_count": 8,
   "metadata": {},
   "outputs": [
    {
     "data": {
      "text/plain": [
       "{'id': 'dbpedia_1177',\n",
       " 'question': 'Was Jacqueline Kennedy Onassis a follower of Melkite Greek Catholic Church?',\n",
       " 'category': 'boolean',\n",
       " 'type': ['boolean']}"
      ]
     },
     "execution_count": 8,
     "metadata": {},
     "output_type": "execute_result"
    }
   ],
   "source": [
    "dbpedia_json[0]"
   ]
  },
  {
   "cell_type": "code",
   "execution_count": 9,
   "metadata": {},
   "outputs": [
    {
     "data": {
      "text/plain": [
       "{'id': 19719,\n",
       " 'question': 'What periodical literature does Delta Air Lines use as a moutpiece?',\n",
       " 'category': 'resource',\n",
       " 'type': ['publication',\n",
       "  'recurring',\n",
       "  'intellectual work',\n",
       "  'text',\n",
       "  'communication medium',\n",
       "  'serial']}"
      ]
     },
     "execution_count": 9,
     "metadata": {},
     "output_type": "execute_result"
    }
   ],
   "source": [
    "wikidata_json[0]"
   ]
  },
  {
   "cell_type": "code",
   "execution_count": 24,
   "metadata": {},
   "outputs": [
    {
     "data": {
      "text/plain": [
       "0"
      ]
     },
     "execution_count": 24,
     "metadata": {},
     "output_type": "execute_result"
    }
   ],
   "source": [
    "def make_dataframe(ds_json):\n",
    "    ds_dict = { \"id\": list(), \"question\": list(), \"category\": list(), \n",
    "               \"type_1\": list(), \"type_2\": list(), \"type_3\": list(), \"type_4\": list(), \"type_5\": list()}\n",
    "    \n",
    "    for item in ds_json:\n",
    "        id_ = item['id']\n",
    "        question = item['question']\n",
    "        category = item['category']\n",
    "\n",
    "        if len(item['type']) > 4:\n",
    "            type_1 = item['type'][0]\n",
    "            type_2 = item['type'][1]\n",
    "            type_3 = item['type'][2]\n",
    "            type_4 = item['type'][3]\n",
    "            type_5 = item['type'][4]\n",
    "        elif len(item['type']) > 3:\n",
    "            type_1 = item['type'][0]\n",
    "            type_2 = item['type'][1]\n",
    "            type_3 = item['type'][2]\n",
    "            type_4 = item['type'][3]\n",
    "            type_5 = \"n/a\"\n",
    "        elif len(item['type']) > 2:\n",
    "            type_1 = item['type'][0]\n",
    "            type_2 = item['type'][1]\n",
    "            type_3 = item['type'][2]\n",
    "            type_4 = \"n/a\"\n",
    "            type_5 = \"n/a\"\n",
    "        elif len(item['type']) > 1:\n",
    "            type_1 = item['type'][0]\n",
    "            type_2 = item['type'][1]\n",
    "            type_3 = \"n/a\"\n",
    "            type_4 = \"n/a\"\n",
    "            type_5 = \"n/a\"\n",
    "        elif len(item['type']) > 0:\n",
    "            type_1 = item['type'][0]\n",
    "            type_2 = \"n/a\"\n",
    "            type_3 = \"n/a\"\n",
    "            type_4 = \"n/a\"\n",
    "            type_5 = \"n/a\"\n",
    "        else:\n",
    "            type_1 = \"n/a\"\n",
    "            type_2 = \"n/a\"\n",
    "            type_3 = \"n/a\"\n",
    "            type_4 = \"n/a\"\n",
    "            type_5 = \"n/a\"\n",
    "            \n",
    "        ds_dict['id'].append(id_)\n",
    "        ds_dict['question'].append(question)\n",
    "        ds_dict['category'].append(category)\n",
    "        ds_dict['type_1'].append(type_1)\n",
    "        ds_dict['type_2'].append(type_2)\n",
    "        ds_dict['type_3'].append(type_3)\n",
    "        ds_dict['type_4'].append(type_4)\n",
    "        ds_dict['type_5'].append(type_5)\n",
    "    \n",
    "    return pd.DataFrame.from_dict(ds_dict)\n",
    "\n",
    "dbpedia_df = make_dataframe(dbpedia_json)\n",
    "wikidata_df = make_dataframe(wikidata_json)\n",
    "    \n",
    "gc.collect()"
   ]
  },
  {
   "cell_type": "code",
   "execution_count": 25,
   "metadata": {},
   "outputs": [
    {
     "data": {
      "text/html": [
       "<div>\n",
       "<style scoped>\n",
       "    .dataframe tbody tr th:only-of-type {\n",
       "        vertical-align: middle;\n",
       "    }\n",
       "\n",
       "    .dataframe tbody tr th {\n",
       "        vertical-align: top;\n",
       "    }\n",
       "\n",
       "    .dataframe thead th {\n",
       "        text-align: right;\n",
       "    }\n",
       "</style>\n",
       "<table border=\"1\" class=\"dataframe\">\n",
       "  <thead>\n",
       "    <tr style=\"text-align: right;\">\n",
       "      <th></th>\n",
       "      <th>id</th>\n",
       "      <th>question</th>\n",
       "      <th>category</th>\n",
       "      <th>type_1</th>\n",
       "      <th>type_2</th>\n",
       "      <th>type_3</th>\n",
       "      <th>type_4</th>\n",
       "      <th>type_5</th>\n",
       "    </tr>\n",
       "  </thead>\n",
       "  <tbody>\n",
       "    <tr>\n",
       "      <th>0</th>\n",
       "      <td>dbpedia_1177</td>\n",
       "      <td>Was Jacqueline Kennedy Onassis a follower of M...</td>\n",
       "      <td>boolean</td>\n",
       "      <td>boolean</td>\n",
       "      <td>n/a</td>\n",
       "      <td>n/a</td>\n",
       "      <td>n/a</td>\n",
       "      <td>n/a</td>\n",
       "    </tr>\n",
       "    <tr>\n",
       "      <th>1</th>\n",
       "      <td>dbpedia_14427</td>\n",
       "      <td>What is the name of the opera based on Twelfth...</td>\n",
       "      <td>resource</td>\n",
       "      <td>dbo:Opera</td>\n",
       "      <td>dbo:MusicalWork</td>\n",
       "      <td>dbo:Work</td>\n",
       "      <td>n/a</td>\n",
       "      <td>n/a</td>\n",
       "    </tr>\n",
       "    <tr>\n",
       "      <th>2</th>\n",
       "      <td>dbpedia_16615</td>\n",
       "      <td>When did Lena Horne receive the Grammy Award f...</td>\n",
       "      <td>literal</td>\n",
       "      <td>date</td>\n",
       "      <td>n/a</td>\n",
       "      <td>n/a</td>\n",
       "      <td>n/a</td>\n",
       "      <td>n/a</td>\n",
       "    </tr>\n",
       "    <tr>\n",
       "      <th>3</th>\n",
       "      <td>dbpedia_23480</td>\n",
       "      <td>Do Prince Harry and Prince William have the sa...</td>\n",
       "      <td>boolean</td>\n",
       "      <td>boolean</td>\n",
       "      <td>n/a</td>\n",
       "      <td>n/a</td>\n",
       "      <td>n/a</td>\n",
       "      <td>n/a</td>\n",
       "    </tr>\n",
       "    <tr>\n",
       "      <th>4</th>\n",
       "      <td>dbpedia_3681</td>\n",
       "      <td>What is the subsidiary company working for Leo...</td>\n",
       "      <td>resource</td>\n",
       "      <td>dbo:EducationalInstitution</td>\n",
       "      <td>dbo:Organisation</td>\n",
       "      <td>dbo:Agent</td>\n",
       "      <td>n/a</td>\n",
       "      <td>n/a</td>\n",
       "    </tr>\n",
       "  </tbody>\n",
       "</table>\n",
       "</div>"
      ],
      "text/plain": [
       "              id                                           question  category  \\\n",
       "0   dbpedia_1177  Was Jacqueline Kennedy Onassis a follower of M...   boolean   \n",
       "1  dbpedia_14427  What is the name of the opera based on Twelfth...  resource   \n",
       "2  dbpedia_16615  When did Lena Horne receive the Grammy Award f...   literal   \n",
       "3  dbpedia_23480  Do Prince Harry and Prince William have the sa...   boolean   \n",
       "4   dbpedia_3681  What is the subsidiary company working for Leo...  resource   \n",
       "\n",
       "                       type_1            type_2     type_3 type_4 type_5  \n",
       "0                     boolean               n/a        n/a    n/a    n/a  \n",
       "1                   dbo:Opera   dbo:MusicalWork   dbo:Work    n/a    n/a  \n",
       "2                        date               n/a        n/a    n/a    n/a  \n",
       "3                     boolean               n/a        n/a    n/a    n/a  \n",
       "4  dbo:EducationalInstitution  dbo:Organisation  dbo:Agent    n/a    n/a  "
      ]
     },
     "execution_count": 25,
     "metadata": {},
     "output_type": "execute_result"
    }
   ],
   "source": [
    "dbpedia_df.head()"
   ]
  },
  {
   "cell_type": "code",
   "execution_count": 26,
   "metadata": {},
   "outputs": [
    {
     "data": {
      "text/html": [
       "<div>\n",
       "<style scoped>\n",
       "    .dataframe tbody tr th:only-of-type {\n",
       "        vertical-align: middle;\n",
       "    }\n",
       "\n",
       "    .dataframe tbody tr th {\n",
       "        vertical-align: top;\n",
       "    }\n",
       "\n",
       "    .dataframe thead th {\n",
       "        text-align: right;\n",
       "    }\n",
       "</style>\n",
       "<table border=\"1\" class=\"dataframe\">\n",
       "  <thead>\n",
       "    <tr style=\"text-align: right;\">\n",
       "      <th></th>\n",
       "      <th>id</th>\n",
       "      <th>question</th>\n",
       "      <th>category</th>\n",
       "      <th>type_1</th>\n",
       "      <th>type_2</th>\n",
       "      <th>type_3</th>\n",
       "      <th>type_4</th>\n",
       "      <th>type_5</th>\n",
       "    </tr>\n",
       "  </thead>\n",
       "  <tbody>\n",
       "    <tr>\n",
       "      <th>0</th>\n",
       "      <td>19719</td>\n",
       "      <td>What periodical literature does Delta Air Line...</td>\n",
       "      <td>resource</td>\n",
       "      <td>publication</td>\n",
       "      <td>recurring</td>\n",
       "      <td>intellectual work</td>\n",
       "      <td>text</td>\n",
       "      <td>communication medium</td>\n",
       "    </tr>\n",
       "    <tr>\n",
       "      <th>1</th>\n",
       "      <td>15554</td>\n",
       "      <td>Who is the child of Ranavalona I's husband?</td>\n",
       "      <td>resource</td>\n",
       "      <td>person</td>\n",
       "      <td>omnivore</td>\n",
       "      <td>natural person</td>\n",
       "      <td>n/a</td>\n",
       "      <td>n/a</td>\n",
       "    </tr>\n",
       "    <tr>\n",
       "      <th>2</th>\n",
       "      <td>974</td>\n",
       "      <td>Is it true Jeff_Bridges occupation Lane Chandl...</td>\n",
       "      <td>boolean</td>\n",
       "      <td>boolean</td>\n",
       "      <td>n/a</td>\n",
       "      <td>n/a</td>\n",
       "      <td>n/a</td>\n",
       "      <td>n/a</td>\n",
       "    </tr>\n",
       "    <tr>\n",
       "      <th>3</th>\n",
       "      <td>27610</td>\n",
       "      <td>Which is the operating income for Qantas?</td>\n",
       "      <td>literal</td>\n",
       "      <td>number</td>\n",
       "      <td>n/a</td>\n",
       "      <td>n/a</td>\n",
       "      <td>n/a</td>\n",
       "      <td>n/a</td>\n",
       "    </tr>\n",
       "    <tr>\n",
       "      <th>4</th>\n",
       "      <td>24488</td>\n",
       "      <td>which cola starts with the letter p</td>\n",
       "      <td>resource</td>\n",
       "      <td>soft drink</td>\n",
       "      <td>trademark</td>\n",
       "      <td>carbonated beverage</td>\n",
       "      <td>non-alcoholic beverage</td>\n",
       "      <td>symbol</td>\n",
       "    </tr>\n",
       "  </tbody>\n",
       "</table>\n",
       "</div>"
      ],
      "text/plain": [
       "      id                                           question  category  \\\n",
       "0  19719  What periodical literature does Delta Air Line...  resource   \n",
       "1  15554        Who is the child of Ranavalona I's husband?  resource   \n",
       "2    974  Is it true Jeff_Bridges occupation Lane Chandl...   boolean   \n",
       "3  27610          Which is the operating income for Qantas?   literal   \n",
       "4  24488                which cola starts with the letter p  resource   \n",
       "\n",
       "        type_1     type_2               type_3                  type_4  \\\n",
       "0  publication  recurring    intellectual work                    text   \n",
       "1       person   omnivore       natural person                     n/a   \n",
       "2      boolean        n/a                  n/a                     n/a   \n",
       "3       number        n/a                  n/a                     n/a   \n",
       "4   soft drink  trademark  carbonated beverage  non-alcoholic beverage   \n",
       "\n",
       "                 type_5  \n",
       "0  communication medium  \n",
       "1                   n/a  \n",
       "2                   n/a  \n",
       "3                   n/a  \n",
       "4                symbol  "
      ]
     },
     "execution_count": 26,
     "metadata": {},
     "output_type": "execute_result"
    }
   ],
   "source": [
    "wikidata_df.head()"
   ]
  },
  {
   "cell_type": "code",
   "execution_count": 27,
   "metadata": {},
   "outputs": [
    {
     "data": {
      "text/plain": [
       "resource    9584\n",
       "literal     5188\n",
       "boolean     2799\n",
       "Name: category, dtype: int64"
      ]
     },
     "execution_count": 27,
     "metadata": {},
     "output_type": "execute_result"
    }
   ],
   "source": [
    "dbpedia_df.category.value_counts()"
   ]
  },
  {
   "cell_type": "code",
   "execution_count": 28,
   "metadata": {},
   "outputs": [
    {
     "data": {
      "text/plain": [
       "resource    11683\n",
       "literal      4429\n",
       "boolean      2139\n",
       "Name: category, dtype: int64"
      ]
     },
     "execution_count": 28,
     "metadata": {},
     "output_type": "execute_result"
    }
   ],
   "source": [
    "wikidata_df.category.value_counts()"
   ]
  },
  {
   "cell_type": "code",
   "execution_count": 30,
   "metadata": {},
   "outputs": [
    {
     "data": {
      "text/plain": [
       "boolean                  2799\n",
       "dbo:Person               2087\n",
       "string                   2068\n",
       "number                   1634\n",
       "date                     1486\n",
       "                         ... \n",
       "dbo:Mollusca                1\n",
       "dbo:WorldHeritageSite       1\n",
       "dbo:MountainPass            1\n",
       "dbo:Gymnast                 1\n",
       "dbo:Sea                     1\n",
       "Name: type_1, Length: 271, dtype: int64"
      ]
     },
     "execution_count": 30,
     "metadata": {},
     "output_type": "execute_result"
    }
   ],
   "source": [
    "dbpedia_df.type_1.value_counts()"
   ]
  },
  {
   "cell_type": "code",
   "execution_count": 31,
   "metadata": {},
   "outputs": [
    {
     "data": {
      "text/plain": [
       "boolean                 2139\n",
       "string                  2086\n",
       "date                    1301\n",
       "number                  1044\n",
       "person                   731\n",
       "                        ... \n",
       "room                       1\n",
       "monumental sculpture       1\n",
       "poetics                    1\n",
       "error                      1\n",
       "white dwarf                1\n",
       "Name: type_1, Length: 1682, dtype: int64"
      ]
     },
     "execution_count": 31,
     "metadata": {},
     "output_type": "execute_result"
    }
   ],
   "source": [
    "wikidata_df.type_1.value_counts()"
   ]
  },
  {
   "cell_type": "code",
   "execution_count": 32,
   "metadata": {},
   "outputs": [],
   "source": [
    "#dbpedia_df.to_csv(\"../datasets/dbpedia.csv\", sep=\"|\", index=False)\n",
    "#wikidata_df.to_csv(\"../datasets/wikidata.csv\", sep=\"|\", index=False)"
   ]
  },
  {
   "cell_type": "code",
   "execution_count": 35,
   "metadata": {},
   "outputs": [
    {
     "data": {
      "text/plain": [
       "dbo:Person               2087\n",
       "dbo:Country               716\n",
       "dbo:City                  672\n",
       "dbo:Company               371\n",
       "dbo:Award                 339\n",
       "                         ... \n",
       "dbo:Holiday                 1\n",
       "dbo:AdultActor              1\n",
       "dbo:Monument                1\n",
       "dbo:Anime                   1\n",
       "dbo:WorldHeritageSite       1\n",
       "Name: type_1, Length: 267, dtype: int64"
      ]
     },
     "execution_count": 35,
     "metadata": {},
     "output_type": "execute_result"
    }
   ],
   "source": [
    "dbpedia_df[dbpedia_df.category == \"resource\"].type_1.value_counts()"
   ]
  },
  {
   "cell_type": "code",
   "execution_count": 36,
   "metadata": {},
   "outputs": [
    {
     "data": {
      "text/plain": [
       "person                     731\n",
       "omnivore                   651\n",
       "natural person             466\n",
       "city/town                  263\n",
       "state                      247\n",
       "                          ... \n",
       "record label                 1\n",
       "federal holiday              1\n",
       "textile                      1\n",
       "active galactic nucleus      1\n",
       "white dwarf                  1\n",
       "Name: type_1, Length: 1679, dtype: int64"
      ]
     },
     "execution_count": 36,
     "metadata": {},
     "output_type": "execute_result"
    }
   ],
   "source": [
    "wikidata_df[wikidata_df.category == \"resource\"].type_1.value_counts()"
   ]
  },
  {
   "cell_type": "code",
   "execution_count": 42,
   "metadata": {},
   "outputs": [
    {
     "data": {
      "text/plain": [
       "string    2068\n",
       "number    1634\n",
       "date      1486\n",
       "Name: type_1, dtype: int64"
      ]
     },
     "execution_count": 42,
     "metadata": {},
     "output_type": "execute_result"
    }
   ],
   "source": [
    "dbpedia_df[dbpedia_df.category == \"literal\"].type_1.value_counts()"
   ]
  },
  {
   "cell_type": "code",
   "execution_count": 41,
   "metadata": {},
   "outputs": [
    {
     "data": {
      "text/plain": [
       "string    2086\n",
       "date      1301\n",
       "number    1042\n",
       "Name: type_1, dtype: int64"
      ]
     },
     "execution_count": 41,
     "metadata": {},
     "output_type": "execute_result"
    }
   ],
   "source": [
    "wikidata_df[wikidata_df.category == \"literal\"].type_1.value_counts()"
   ]
  },
  {
   "cell_type": "code",
   "execution_count": null,
   "metadata": {},
   "outputs": [],
   "source": []
  }
 ],
 "metadata": {
  "kernelspec": {
   "display_name": "Python 3",
   "language": "python",
   "name": "python3"
  },
  "language_info": {
   "codemirror_mode": {
    "name": "ipython",
    "version": 3
   },
   "file_extension": ".py",
   "mimetype": "text/x-python",
   "name": "python",
   "nbconvert_exporter": "python",
   "pygments_lexer": "ipython3",
   "version": "3.6.4"
  }
 },
 "nbformat": 4,
 "nbformat_minor": 2
}
