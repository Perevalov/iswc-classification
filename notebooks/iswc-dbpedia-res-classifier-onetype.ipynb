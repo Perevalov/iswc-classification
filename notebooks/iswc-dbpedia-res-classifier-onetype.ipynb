{
 "cells": [
  {
   "cell_type": "code",
   "execution_count": 1,
   "metadata": {
    "execution": {
     "iopub.execute_input": "2021-06-23T16:06:30.584159Z",
     "iopub.status.busy": "2021-06-23T16:06:30.583155Z",
     "iopub.status.idle": "2021-06-23T16:06:53.959055Z",
     "shell.execute_reply": "2021-06-23T16:06:53.957942Z"
    },
    "papermill": {
     "duration": 23.399911,
     "end_time": "2021-06-23T16:06:53.959201",
     "exception": false,
     "start_time": "2021-06-23T16:06:30.559290",
     "status": "completed"
    },
    "tags": []
   },
   "outputs": [
    {
     "name": "stdout",
     "output_type": "stream",
     "text": [
      "Collecting mlflow\r\n",
      "  Downloading mlflow-1.18.0-py3-none-any.whl (14.2 MB)\r\n",
      "\u001b[K     |████████████████████████████████| 14.2 MB 8.7 MB/s \r\n",
      "\u001b[?25hRequirement already satisfied: entrypoints in /opt/conda/lib/python3.7/site-packages (from mlflow) (0.3)\r\n",
      "Requirement already satisfied: pandas in /opt/conda/lib/python3.7/site-packages (from mlflow) (1.0.3)\r\n",
      "Collecting gunicorn; platform_system != \"Windows\"\r\n",
      "  Downloading gunicorn-20.1.0-py3-none-any.whl (79 kB)\r\n",
      "\u001b[K     |████████████████████████████████| 79 kB 4.8 MB/s \r\n",
      "\u001b[?25hRequirement already satisfied: Flask in /opt/conda/lib/python3.7/site-packages (from mlflow) (1.1.2)\r\n",
      "Requirement already satisfied: sqlparse>=0.3.1 in /opt/conda/lib/python3.7/site-packages (from mlflow) (0.3.1)\r\n",
      "Requirement already satisfied: cloudpickle in /opt/conda/lib/python3.7/site-packages (from mlflow) (1.3.0)\r\n",
      "Requirement already satisfied: docker>=4.0.0 in /opt/conda/lib/python3.7/site-packages (from mlflow) (4.2.0)\r\n",
      "Requirement already satisfied: numpy in /opt/conda/lib/python3.7/site-packages (from mlflow) (1.18.1)\r\n",
      "Requirement already satisfied: click>=7.0 in /opt/conda/lib/python3.7/site-packages (from mlflow) (7.1.1)\r\n",
      "Collecting databricks-cli>=0.8.7\r\n",
      "  Downloading databricks-cli-0.14.3.tar.gz (54 kB)\r\n",
      "\u001b[K     |████████████████████████████████| 54 kB 2.0 MB/s \r\n",
      "\u001b[?25hRequirement already satisfied: protobuf>=3.7.0 in /opt/conda/lib/python3.7/site-packages (from mlflow) (3.11.4)\r\n",
      "Requirement already satisfied: pyyaml>=5.1 in /opt/conda/lib/python3.7/site-packages (from mlflow) (5.3.1)\r\n",
      "Collecting alembic<=1.4.1\r\n",
      "  Downloading alembic-1.4.1.tar.gz (1.1 MB)\r\n",
      "\u001b[K     |████████████████████████████████| 1.1 MB 17.3 MB/s \r\n",
      "\u001b[?25hRequirement already satisfied: gitpython>=2.1.0 in /opt/conda/lib/python3.7/site-packages (from mlflow) (3.1.1)\r\n",
      "Collecting querystring-parser\r\n",
      "  Downloading querystring_parser-1.2.4-py2.py3-none-any.whl (7.9 kB)\r\n",
      "Requirement already satisfied: packaging in /opt/conda/lib/python3.7/site-packages (from mlflow) (20.1)\r\n",
      "Requirement already satisfied: pytz in /opt/conda/lib/python3.7/site-packages (from mlflow) (2019.3)\r\n",
      "Collecting prometheus-flask-exporter\r\n",
      "  Downloading prometheus_flask_exporter-0.18.2.tar.gz (22 kB)\r\n",
      "Requirement already satisfied: requests>=2.17.3 in /opt/conda/lib/python3.7/site-packages (from mlflow) (2.23.0)\r\n",
      "Requirement already satisfied: sqlalchemy in /opt/conda/lib/python3.7/site-packages (from mlflow) (1.3.16)\r\n",
      "Requirement already satisfied: python-dateutil>=2.6.1 in /opt/conda/lib/python3.7/site-packages (from pandas->mlflow) (2.8.1)\r\n",
      "Requirement already satisfied: setuptools>=3.0 in /opt/conda/lib/python3.7/site-packages (from gunicorn; platform_system != \"Windows\"->mlflow) (46.1.3.post20200325)\r\n",
      "Requirement already satisfied: itsdangerous>=0.24 in /opt/conda/lib/python3.7/site-packages (from Flask->mlflow) (1.1.0)\r\n",
      "Requirement already satisfied: Jinja2>=2.10.1 in /opt/conda/lib/python3.7/site-packages (from Flask->mlflow) (2.11.2)\r\n",
      "Requirement already satisfied: Werkzeug>=0.15 in /opt/conda/lib/python3.7/site-packages (from Flask->mlflow) (1.0.1)\r\n",
      "Requirement already satisfied: six>=1.4.0 in /opt/conda/lib/python3.7/site-packages (from docker>=4.0.0->mlflow) (1.14.0)\r\n",
      "Requirement already satisfied: websocket-client>=0.32.0 in /opt/conda/lib/python3.7/site-packages (from docker>=4.0.0->mlflow) (0.57.0)\r\n",
      "Requirement already satisfied: tabulate>=0.7.7 in /opt/conda/lib/python3.7/site-packages (from databricks-cli>=0.8.7->mlflow) (0.8.7)\r\n",
      "Requirement already satisfied: Mako in /opt/conda/lib/python3.7/site-packages (from alembic<=1.4.1->mlflow) (1.1.2)\r\n",
      "Requirement already satisfied: python-editor>=0.3 in /opt/conda/lib/python3.7/site-packages (from alembic<=1.4.1->mlflow) (1.0.4)\r\n",
      "Requirement already satisfied: gitdb<5,>=4.0.1 in /opt/conda/lib/python3.7/site-packages (from gitpython>=2.1.0->mlflow) (4.0.4)\r\n",
      "Requirement already satisfied: pyparsing>=2.0.2 in /opt/conda/lib/python3.7/site-packages (from packaging->mlflow) (2.4.7)\r\n",
      "Requirement already satisfied: prometheus_client in /opt/conda/lib/python3.7/site-packages (from prometheus-flask-exporter->mlflow) (0.7.1)\r\n",
      "Requirement already satisfied: chardet<4,>=3.0.2 in /opt/conda/lib/python3.7/site-packages (from requests>=2.17.3->mlflow) (3.0.4)\r\n",
      "Requirement already satisfied: urllib3!=1.25.0,!=1.25.1,<1.26,>=1.21.1 in /opt/conda/lib/python3.7/site-packages (from requests>=2.17.3->mlflow) (1.24.3)\r\n",
      "Requirement already satisfied: certifi>=2017.4.17 in /opt/conda/lib/python3.7/site-packages (from requests>=2.17.3->mlflow) (2020.4.5.1)\r\n",
      "Requirement already satisfied: idna<3,>=2.5 in /opt/conda/lib/python3.7/site-packages (from requests>=2.17.3->mlflow) (2.9)\r\n",
      "Requirement already satisfied: MarkupSafe>=0.23 in /opt/conda/lib/python3.7/site-packages (from Jinja2>=2.10.1->Flask->mlflow) (1.1.1)\r\n",
      "Requirement already satisfied: smmap<4,>=3.0.1 in /opt/conda/lib/python3.7/site-packages (from gitdb<5,>=4.0.1->gitpython>=2.1.0->mlflow) (3.0.2)\r\n",
      "Building wheels for collected packages: databricks-cli, alembic, prometheus-flask-exporter\r\n",
      "  Building wheel for databricks-cli (setup.py) ... \u001b[?25l-\b \b\\\b \b|\b \bdone\r\n",
      "\u001b[?25h  Created wheel for databricks-cli: filename=databricks_cli-0.14.3-py3-none-any.whl size=100555 sha256=3307f23a0498d6119ff330ad966fdafaa24d5466f2f7f3a4d7f346662d9fc418\r\n",
      "  Stored in directory: /root/.cache/pip/wheels/3b/60/14/6930445b08959fbdf4e3029bac7e1f2cccb2e94df8afa00b29\r\n",
      "  Building wheel for alembic (setup.py) ... \u001b[?25l-\b \b\\\b \b|\b \bdone\r\n",
      "\u001b[?25h  Created wheel for alembic: filename=alembic-1.4.1-py2.py3-none-any.whl size=158154 sha256=33e01bb9b7fd2fae0e1693a6f6f33e0d71d72f25f501c5882d1e770194281e0e\r\n",
      "  Stored in directory: /root/.cache/pip/wheels/be/5d/0a/9e13f53f4f5dfb67cd8d245bb7cdffe12f135846f491a283e3\r\n",
      "  Building wheel for prometheus-flask-exporter (setup.py) ... \u001b[?25l-\b \b\\\b \bdone\r\n",
      "\u001b[?25h  Created wheel for prometheus-flask-exporter: filename=prometheus_flask_exporter-0.18.2-py3-none-any.whl size=17398 sha256=0d30014529937ae4813739c7fe13047aa9aca89c9d70e5073fcaf1e070096965\r\n",
      "  Stored in directory: /root/.cache/pip/wheels/6a/1e/1c/c765920cb92b2f0343d2dd8b481a407cee2823f9b4bbd2e52a\r\n",
      "Successfully built databricks-cli alembic prometheus-flask-exporter\r\n",
      "Installing collected packages: gunicorn, databricks-cli, alembic, querystring-parser, prometheus-flask-exporter, mlflow\r\n",
      "  Attempting uninstall: alembic\r\n",
      "    Found existing installation: alembic 1.4.2\r\n",
      "    Uninstalling alembic-1.4.2:\r\n",
      "      Successfully uninstalled alembic-1.4.2\r\n",
      "Successfully installed alembic-1.4.1 databricks-cli-0.14.3 gunicorn-20.1.0 mlflow-1.18.0 prometheus-flask-exporter-0.18.2 querystring-parser-1.2.4\r\n",
      "\u001b[33mWARNING: You are using pip version 20.1; however, version 21.1.2 is available.\r\n",
      "You should consider upgrading via the '/opt/conda/bin/python3.7 -m pip install --upgrade pip' command.\u001b[0m\r\n"
     ]
    }
   ],
   "source": [
    "!pip install mlflow"
   ]
  },
  {
   "cell_type": "code",
   "execution_count": 2,
   "metadata": {
    "_cell_guid": "b1076dfc-b9ad-4769-8c92-a6c4dae69d19",
    "_uuid": "8f2839f25d086af736a60e9eeb907d3b93b6e0e5",
    "execution": {
     "iopub.execute_input": "2021-06-23T16:06:54.074033Z",
     "iopub.status.busy": "2021-06-23T16:06:54.072972Z",
     "iopub.status.idle": "2021-06-23T16:07:03.266598Z",
     "shell.execute_reply": "2021-06-23T16:07:03.265946Z",
     "shell.execute_reply.started": "2021-06-23T15:05:47.935191Z"
    },
    "papermill": {
     "duration": 9.255265,
     "end_time": "2021-06-23T16:07:03.266725",
     "exception": false,
     "start_time": "2021-06-23T16:06:54.011460",
     "status": "completed"
    },
    "tags": []
   },
   "outputs": [
    {
     "name": "stderr",
     "output_type": "stream",
     "text": [
      "Using TensorFlow backend.\n"
     ]
    }
   ],
   "source": [
    "import os\n",
    "\n",
    "import numpy as np\n",
    "from sklearn.preprocessing import LabelEncoder\n",
    "from keras.utils import np_utils\n",
    "import gc\n",
    "import pandas as pd\n",
    "import tensorflow as tf\n",
    "from tensorflow.keras.layers import Dense, Input\n",
    "from tensorflow.keras.optimizers import Adam\n",
    "from tensorflow.keras.models import Model\n",
    "from tensorflow.keras.callbacks import ModelCheckpoint\n",
    "from kaggle_datasets import KaggleDatasets\n",
    "import transformers\n",
    "from transformers import TFAutoModel, AutoTokenizer\n",
    "from tqdm.notebook import tqdm\n",
    "from sklearn.model_selection import train_test_split\n",
    "\n",
    "from sklearn.metrics import roc_auc_score, accuracy_score, f1_score\n",
    "from sklearn.metrics import confusion_matrix\n",
    "from tensorflow.keras.callbacks import Callback \n",
    "from tokenizers import Tokenizer, models, pre_tokenizers, decoders, processors"
   ]
  },
  {
   "cell_type": "markdown",
   "metadata": {
    "papermill": {
     "duration": 0.050598,
     "end_time": "2021-06-23T16:07:03.372905",
     "exception": false,
     "start_time": "2021-06-23T16:07:03.322307",
     "status": "completed"
    },
    "tags": []
   },
   "source": [
    "## Helper Functions"
   ]
  },
  {
   "cell_type": "code",
   "execution_count": 3,
   "metadata": {
    "execution": {
     "iopub.execute_input": "2021-06-23T16:07:03.487884Z",
     "iopub.status.busy": "2021-06-23T16:07:03.486788Z",
     "iopub.status.idle": "2021-06-23T16:07:03.490837Z",
     "shell.execute_reply": "2021-06-23T16:07:03.490196Z",
     "shell.execute_reply.started": "2021-06-23T15:05:56.417114Z"
    },
    "papermill": {
     "duration": 0.067268,
     "end_time": "2021-06-23T16:07:03.490966",
     "exception": false,
     "start_time": "2021-06-23T16:07:03.423698",
     "status": "completed"
    },
    "tags": []
   },
   "outputs": [],
   "source": [
    "def regular_encode(texts, tokenizer, maxlen=512):\n",
    "    enc_di = tokenizer.batch_encode_plus(\n",
    "        texts, \n",
    "        return_attention_masks=False, \n",
    "        return_token_type_ids=False,\n",
    "        pad_to_max_length=True,\n",
    "        max_length=maxlen\n",
    "    )\n",
    "    \n",
    "    return np.array(enc_di['input_ids'])"
   ]
  },
  {
   "cell_type": "code",
   "execution_count": 4,
   "metadata": {
    "execution": {
     "iopub.execute_input": "2021-06-23T16:07:03.600375Z",
     "iopub.status.busy": "2021-06-23T16:07:03.599489Z",
     "iopub.status.idle": "2021-06-23T16:07:03.603839Z",
     "shell.execute_reply": "2021-06-23T16:07:03.604327Z",
     "shell.execute_reply.started": "2021-06-23T15:17:53.478473Z"
    },
    "papermill": {
     "duration": 0.062777,
     "end_time": "2021-06-23T16:07:03.604457",
     "exception": false,
     "start_time": "2021-06-23T16:07:03.541680",
     "status": "completed"
    },
    "tags": []
   },
   "outputs": [],
   "source": [
    "def build_model(transformer, max_len=512, hidden_dim=32, num_of_classes=3):\n",
    "    input_word_ids = Input(shape=(max_len,), dtype=tf.int32, name=\"input_word_ids\")\n",
    "    sequence_output = transformer(input_word_ids)[0]\n",
    "    cls_token = sequence_output[:, 0, :]\n",
    "    \n",
    "    out = Dense(num_of_classes, activation='sigmoid')(cls_token)\n",
    "    \n",
    "    model = Model(inputs=input_word_ids, outputs=out)\n",
    "    model.compile(Adam(lr=1e-5), loss='categorical_crossentropy', metrics=['accuracy'])\n",
    "    \n",
    "    return model"
   ]
  },
  {
   "cell_type": "markdown",
   "metadata": {
    "papermill": {
     "duration": 0.049947,
     "end_time": "2021-06-23T16:07:03.704820",
     "exception": false,
     "start_time": "2021-06-23T16:07:03.654873",
     "status": "completed"
    },
    "tags": []
   },
   "source": [
    "## TPU Configs"
   ]
  },
  {
   "cell_type": "code",
   "execution_count": 5,
   "metadata": {
    "execution": {
     "iopub.execute_input": "2021-06-23T16:07:03.816729Z",
     "iopub.status.busy": "2021-06-23T16:07:03.815942Z",
     "iopub.status.idle": "2021-06-23T16:07:03.820949Z",
     "shell.execute_reply": "2021-06-23T16:07:03.820406Z",
     "shell.execute_reply.started": "2021-06-23T15:09:07.618470Z"
    },
    "papermill": {
     "duration": 0.065015,
     "end_time": "2021-06-23T16:07:03.821070",
     "exception": false,
     "start_time": "2021-06-23T16:07:03.756055",
     "status": "completed"
    },
    "tags": []
   },
   "outputs": [
    {
     "name": "stdout",
     "output_type": "stream",
     "text": [
      "REPLICAS:  1\n"
     ]
    }
   ],
   "source": [
    "# Detect hardware, return appropriate distribution strategy\n",
    "try:\n",
    "    # TPU detection. No parameters necessary if TPU_NAME environment variable is\n",
    "    # set: this is always the case on Kaggle.\n",
    "    tpu = tf.distribute.cluster_resolver.TPUClusterResolver()\n",
    "    print('Running on TPU ', tpu.master())\n",
    "except ValueError:\n",
    "    tpu = None\n",
    "\n",
    "if tpu:\n",
    "    tf.config.experimental_connect_to_cluster(tpu)\n",
    "    tf.tpu.experimental.initialize_tpu_system(tpu)\n",
    "    strategy = tf.distribute.experimental.TPUStrategy(tpu)\n",
    "else:\n",
    "    # Default distribution strategy in Tensorflow. Works on CPU and single GPU.\n",
    "    strategy = tf.distribute.get_strategy()\n",
    "\n",
    "print(\"REPLICAS: \", strategy.num_replicas_in_sync)"
   ]
  },
  {
   "cell_type": "code",
   "execution_count": 6,
   "metadata": {
    "execution": {
     "iopub.execute_input": "2021-06-23T16:07:03.931712Z",
     "iopub.status.busy": "2021-06-23T16:07:03.930791Z",
     "iopub.status.idle": "2021-06-23T16:07:03.934412Z",
     "shell.execute_reply": "2021-06-23T16:07:03.933905Z",
     "shell.execute_reply.started": "2021-06-23T15:09:30.609817Z"
    },
    "papermill": {
     "duration": 0.062302,
     "end_time": "2021-06-23T16:07:03.934523",
     "exception": false,
     "start_time": "2021-06-23T16:07:03.872221",
     "status": "completed"
    },
    "tags": []
   },
   "outputs": [],
   "source": [
    "AUTO = tf.data.experimental.AUTOTUNE\n",
    "\n",
    "# Configuration\n",
    "EPOCHS = 4\n",
    "BATCH_SIZE = 16 * strategy.num_replicas_in_sync\n",
    "MAX_LEN = 60\n",
    "\n",
    "AUGMENT_DATA = True\n",
    "IS_MULTILINGUAL = True\n",
    "USE_ANNOTATED = False\n",
    "\n",
    "if USE_ANNOTATED:\n",
    "    dbpedia_path = 'dbpedia-annotated'\n",
    "else:\n",
    "    dbpedia_path = 'dbpedia-train-onetype'\n",
    "\n",
    "if IS_MULTILINGUAL:\n",
    "    MODEL = 'bert-base-multilingual-cased'\n",
    "else:\n",
    "    MODEL = 'bert-base-cased'"
   ]
  },
  {
   "cell_type": "markdown",
   "metadata": {
    "papermill": {
     "duration": 0.050587,
     "end_time": "2021-06-23T16:07:04.035369",
     "exception": false,
     "start_time": "2021-06-23T16:07:03.984782",
     "status": "completed"
    },
    "tags": []
   },
   "source": [
    "## Create fast tokenizer"
   ]
  },
  {
   "cell_type": "code",
   "execution_count": 7,
   "metadata": {
    "execution": {
     "iopub.execute_input": "2021-06-23T16:07:04.147028Z",
     "iopub.status.busy": "2021-06-23T16:07:04.145964Z",
     "iopub.status.idle": "2021-06-23T16:07:06.725399Z",
     "shell.execute_reply": "2021-06-23T16:07:06.726015Z",
     "shell.execute_reply.started": "2021-06-23T15:09:31.173943Z"
    },
    "papermill": {
     "duration": 2.638011,
     "end_time": "2021-06-23T16:07:06.726201",
     "exception": false,
     "start_time": "2021-06-23T16:07:04.088190",
     "status": "completed"
    },
    "tags": []
   },
   "outputs": [
    {
     "data": {
      "application/vnd.jupyter.widget-view+json": {
       "model_id": "03335630dae2436aba6626b46228f219",
       "version_major": 2,
       "version_minor": 0
      },
      "text/plain": [
       "HBox(children=(FloatProgress(value=0.0, description='Downloading', max=625.0, style=ProgressStyle(description_…"
      ]
     },
     "metadata": {},
     "output_type": "display_data"
    },
    {
     "name": "stdout",
     "output_type": "stream",
     "text": [
      "\n"
     ]
    },
    {
     "data": {
      "application/vnd.jupyter.widget-view+json": {
       "model_id": "e4c72d3dc4f34c59ade9094e24acc0bb",
       "version_major": 2,
       "version_minor": 0
      },
      "text/plain": [
       "HBox(children=(FloatProgress(value=0.0, description='Downloading', max=995526.0, style=ProgressStyle(descripti…"
      ]
     },
     "metadata": {},
     "output_type": "display_data"
    },
    {
     "name": "stdout",
     "output_type": "stream",
     "text": [
      "\n"
     ]
    }
   ],
   "source": [
    "# First load the real tokenizer\n",
    "tokenizer = AutoTokenizer.from_pretrained(MODEL)"
   ]
  },
  {
   "cell_type": "markdown",
   "metadata": {
    "papermill": {
     "duration": 0.053467,
     "end_time": "2021-06-23T16:07:06.833487",
     "exception": false,
     "start_time": "2021-06-23T16:07:06.780020",
     "status": "completed"
    },
    "tags": []
   },
   "source": [
    "## Load text data into memory"
   ]
  },
  {
   "cell_type": "code",
   "execution_count": 8,
   "metadata": {
    "execution": {
     "iopub.execute_input": "2021-06-23T16:07:06.965990Z",
     "iopub.status.busy": "2021-06-23T16:07:06.965273Z",
     "iopub.status.idle": "2021-06-23T16:07:07.532586Z",
     "shell.execute_reply": "2021-06-23T16:07:07.534023Z",
     "shell.execute_reply.started": "2021-06-23T15:11:14.303827Z"
    },
    "papermill": {
     "duration": 0.646686,
     "end_time": "2021-06-23T16:07:07.534284",
     "exception": false,
     "start_time": "2021-06-23T16:07:06.887598",
     "status": "completed"
    },
    "tags": []
   },
   "outputs": [],
   "source": [
    "dbpedia_df = pd.read_csv(\"/kaggle/input/test-06366/{0}.csv\".format(dbpedia_path), sep=\"|\")\n",
    "\n",
    "if USE_ANNOTATED:\n",
    "    dbpedia_df['original_id'] = dbpedia_df.id.apply(lambda x: x.split('-')[0])\n",
    "    dbpedia_df_tmp = pd.read_csv(\"/kaggle/input/test-06366/dbpedia.csv\", sep=\"|\")\n",
    "    faketest_dbpedia_df = dbpedia_df_tmp.sample(4400, random_state=42) # Test set from organizers has ca. 4400 examples\n",
    "else:\n",
    "    faketest_dbpedia_df = dbpedia_df.sample(4400, random_state=42) # Test set from organizers has ca. 4400 examples\n",
    "\n",
    "dbpedia_df.dropna(subset=['question'], inplace=True)   \n",
    "\n",
    "dbpedia_df[\"type\"].fillna(value=\"NoneType\")\n",
    "dbpedia_df[\"type\"] = dbpedia_df[\"type\"].astype(str)\n",
    "\n",
    "\n",
    "if AUGMENT_DATA and IS_MULTILINGUAL and not USE_ANNOTATED:\n",
    "    common_de_df = dbpedia_df.copy()\n",
    "    common_de_df.question = dbpedia_df.question_de\n",
    "\n",
    "    common_fr_df = dbpedia_df.copy()\n",
    "    common_fr_df.question = dbpedia_df.question_fr\n",
    "\n",
    "    common_es_df = dbpedia_df.copy()\n",
    "    common_es_df.question = dbpedia_df.question_es\n",
    "\n",
    "    common_ru_df = dbpedia_df.copy()\n",
    "    common_ru_df.question = dbpedia_df.question_ru\n",
    "\n",
    "    common_df = dbpedia_df.append(common_de_df).append(common_fr_df).append(common_es_df).append(common_ru_df)\n",
    "    del common_de_df, common_fr_df, common_es_df, common_ru_df\n",
    "    dbpedia_df = common_df\n",
    "    \n",
    "elif AUGMENT_DATA and not IS_MULTILINGUAL and not USE_ANNOTATED:\n",
    "    common_r_de_df = dbpedia_df.copy()\n",
    "    common_r_de_df.question = dbpedia_df.question_r_de\n",
    "\n",
    "    common_r_ru_df = dbpedia_df.copy()\n",
    "    common_r_ru_df.question = dbpedia_df.question_r_ru\n",
    "\n",
    "    common_df = dbpedia_df.append(common_r_de_df).append(common_r_de_df)\n",
    "    del common_r_ru_df, common_r_de_df\n",
    "    dbpedia_df = common_df\n",
    "    \n",
    "if not USE_ANNOTATED:\n",
    "    dbpedia_df.drop(['question_de', 'question_fr', 'question_es', 'question_ru'], axis=1, inplace=True)\n",
    "    \n",
    "dbpedia_df.dropna(subset=['question'], inplace=True)  \n",
    "\n",
    "if USE_ANNOTATED:\n",
    "    dbpedia_df = dbpedia_df[~dbpedia_df.original_id.isin(faketest_dbpedia_df.id.values)]\n",
    "else:\n",
    "    dbpedia_df = dbpedia_df[~dbpedia_df.id.isin(faketest_dbpedia_df.id.values)]\n",
    "\n",
    "\n",
    "X_db_train, X_db_test, y_db_train, y_db_test = train_test_split(dbpedia_df[dbpedia_df.category == \"resource\"].question.astype(str), \n",
    "                                                                dbpedia_df[dbpedia_df.category == \"resource\"].type,\n",
    "                                                                test_size=0.01, random_state=42)"
   ]
  },
  {
   "cell_type": "code",
   "execution_count": 9,
   "metadata": {
    "execution": {
     "iopub.execute_input": "2021-06-23T16:07:07.724559Z",
     "iopub.status.busy": "2021-06-23T16:07:07.723468Z",
     "iopub.status.idle": "2021-06-23T16:07:07.752362Z",
     "shell.execute_reply": "2021-06-23T16:07:07.754694Z",
     "shell.execute_reply.started": "2021-06-23T15:11:22.045921Z"
    },
    "papermill": {
     "duration": 0.127125,
     "end_time": "2021-06-23T16:07:07.754896",
     "exception": false,
     "start_time": "2021-06-23T16:07:07.627771",
     "status": "completed"
    },
    "tags": []
   },
   "outputs": [
    {
     "data": {
      "text/html": [
       "<div>\n",
       "<style scoped>\n",
       "    .dataframe tbody tr th:only-of-type {\n",
       "        vertical-align: middle;\n",
       "    }\n",
       "\n",
       "    .dataframe tbody tr th {\n",
       "        vertical-align: top;\n",
       "    }\n",
       "\n",
       "    .dataframe thead th {\n",
       "        text-align: right;\n",
       "    }\n",
       "</style>\n",
       "<table border=\"1\" class=\"dataframe\">\n",
       "  <thead>\n",
       "    <tr style=\"text-align: right;\">\n",
       "      <th></th>\n",
       "      <th>id</th>\n",
       "      <th>question</th>\n",
       "      <th>question_r_de</th>\n",
       "      <th>question_r_ru</th>\n",
       "      <th>category</th>\n",
       "      <th>type</th>\n",
       "    </tr>\n",
       "  </thead>\n",
       "  <tbody>\n",
       "    <tr>\n",
       "      <th>1</th>\n",
       "      <td>dbpedia_14427</td>\n",
       "      <td>What is the name of the opera based on Twelfth...</td>\n",
       "      <td>What is the name of the opera based on Twelfth...</td>\n",
       "      <td>What is the name of the opera based on Twelfth...</td>\n",
       "      <td>resource</td>\n",
       "      <td>dbo:Opera</td>\n",
       "    </tr>\n",
       "    <tr>\n",
       "      <th>2</th>\n",
       "      <td>dbpedia_16615</td>\n",
       "      <td>When did Lena Horne receive the Grammy Award f...</td>\n",
       "      <td>When did Lena Horne receive the Grammy Award f...</td>\n",
       "      <td>When did Lena Horn receive the Grammy Award fo...</td>\n",
       "      <td>literal</td>\n",
       "      <td>date</td>\n",
       "    </tr>\n",
       "    <tr>\n",
       "      <th>4</th>\n",
       "      <td>dbpedia_3681</td>\n",
       "      <td>What is the subsidiary company working for Leo...</td>\n",
       "      <td>What is the subsidiary that works for Leonard ...</td>\n",
       "      <td>Which subsidiary does Leonard Maltin have?</td>\n",
       "      <td>resource</td>\n",
       "      <td>dbo:EducationalInstitution</td>\n",
       "    </tr>\n",
       "    <tr>\n",
       "      <th>6</th>\n",
       "      <td>dbpedia_12020</td>\n",
       "      <td>What is the federated state located in the Wei...</td>\n",
       "      <td>What is the federation state in the Weimar Rep...</td>\n",
       "      <td>What is a federal state in the Weimar Republic?</td>\n",
       "      <td>resource</td>\n",
       "      <td>dbo:State</td>\n",
       "    </tr>\n",
       "    <tr>\n",
       "      <th>7</th>\n",
       "      <td>dbpedia_15023</td>\n",
       "      <td>Did Buddhism was named after the immigration o...</td>\n",
       "      <td>Was Buddhism Named After Immigration To The Un...</td>\n",
       "      <td>Did Buddhism was named after immigration from ...</td>\n",
       "      <td>boolean</td>\n",
       "      <td>boolean</td>\n",
       "    </tr>\n",
       "  </tbody>\n",
       "</table>\n",
       "</div>"
      ],
      "text/plain": [
       "              id                                           question  \\\n",
       "1  dbpedia_14427  What is the name of the opera based on Twelfth...   \n",
       "2  dbpedia_16615  When did Lena Horne receive the Grammy Award f...   \n",
       "4   dbpedia_3681  What is the subsidiary company working for Leo...   \n",
       "6  dbpedia_12020  What is the federated state located in the Wei...   \n",
       "7  dbpedia_15023  Did Buddhism was named after the immigration o...   \n",
       "\n",
       "                                       question_r_de  \\\n",
       "1  What is the name of the opera based on Twelfth...   \n",
       "2  When did Lena Horne receive the Grammy Award f...   \n",
       "4  What is the subsidiary that works for Leonard ...   \n",
       "6  What is the federation state in the Weimar Rep...   \n",
       "7  Was Buddhism Named After Immigration To The Un...   \n",
       "\n",
       "                                       question_r_ru  category  \\\n",
       "1  What is the name of the opera based on Twelfth...  resource   \n",
       "2  When did Lena Horn receive the Grammy Award fo...   literal   \n",
       "4         Which subsidiary does Leonard Maltin have?  resource   \n",
       "6    What is a federal state in the Weimar Republic?  resource   \n",
       "7  Did Buddhism was named after immigration from ...   boolean   \n",
       "\n",
       "                         type  \n",
       "1                   dbo:Opera  \n",
       "2                        date  \n",
       "4  dbo:EducationalInstitution  \n",
       "6                   dbo:State  \n",
       "7                     boolean  "
      ]
     },
     "execution_count": 9,
     "metadata": {},
     "output_type": "execute_result"
    }
   ],
   "source": [
    "dbpedia_df.head()"
   ]
  },
  {
   "cell_type": "code",
   "execution_count": 10,
   "metadata": {
    "execution": {
     "iopub.execute_input": "2021-06-23T16:07:07.952456Z",
     "iopub.status.busy": "2021-06-23T16:07:07.951382Z",
     "iopub.status.idle": "2021-06-23T16:07:07.958529Z",
     "shell.execute_reply": "2021-06-23T16:07:07.957884Z",
     "shell.execute_reply.started": "2021-06-23T15:11:26.764753Z"
    },
    "papermill": {
     "duration": 0.11071,
     "end_time": "2021-06-23T16:07:07.958646",
     "exception": false,
     "start_time": "2021-06-23T16:07:07.847936",
     "status": "completed"
    },
    "tags": []
   },
   "outputs": [
    {
     "data": {
      "text/plain": [
       "(64984, 6)"
      ]
     },
     "execution_count": 10,
     "metadata": {},
     "output_type": "execute_result"
    }
   ],
   "source": [
    "dbpedia_df.shape"
   ]
  },
  {
   "cell_type": "markdown",
   "metadata": {
    "papermill": {
     "duration": 0.053124,
     "end_time": "2021-06-23T16:07:08.071216",
     "exception": false,
     "start_time": "2021-06-23T16:07:08.018092",
     "status": "completed"
    },
    "tags": []
   },
   "source": [
    "## DBpedia Resource classifier"
   ]
  },
  {
   "cell_type": "code",
   "execution_count": 11,
   "metadata": {
    "execution": {
     "iopub.execute_input": "2021-06-23T16:07:08.186449Z",
     "iopub.status.busy": "2021-06-23T16:07:08.183808Z",
     "iopub.status.idle": "2021-06-23T16:07:08.187173Z",
     "shell.execute_reply": "2021-06-23T16:07:08.187720Z",
     "shell.execute_reply.started": "2021-06-23T15:11:47.344982Z"
    },
    "papermill": {
     "duration": 0.062867,
     "end_time": "2021-06-23T16:07:08.187866",
     "exception": false,
     "start_time": "2021-06-23T16:07:08.124999",
     "status": "completed"
    },
    "tags": []
   },
   "outputs": [],
   "source": [
    "y_train = y_db_train\n",
    "y_test = y_db_test"
   ]
  },
  {
   "cell_type": "code",
   "execution_count": 12,
   "metadata": {
    "execution": {
     "iopub.execute_input": "2021-06-23T16:07:08.316568Z",
     "iopub.status.busy": "2021-06-23T16:07:08.315448Z",
     "iopub.status.idle": "2021-06-23T16:07:31.232995Z",
     "shell.execute_reply": "2021-06-23T16:07:31.231413Z",
     "shell.execute_reply.started": "2021-06-23T15:14:29.251335Z"
    },
    "papermill": {
     "duration": 22.989323,
     "end_time": "2021-06-23T16:07:31.233164",
     "exception": false,
     "start_time": "2021-06-23T16:07:08.243841",
     "status": "completed"
    },
    "tags": []
   },
   "outputs": [
    {
     "name": "stdout",
     "output_type": "stream",
     "text": [
      "CPU times: user 17.5 s, sys: 1.32 s, total: 18.8 s\n",
      "Wall time: 22.9 s\n"
     ]
    }
   ],
   "source": [
    "%%time\n",
    "le_list = list()\n",
    "\n",
    "encoder_db = LabelEncoder()\n",
    "encoder_db.fit(dbpedia_df[dbpedia_df.category == \"resource\"][\"type\"])\n",
    "encoded_Y_db_train = encoder_db.transform(y_train)\n",
    "encoded_Y_db_test = encoder_db.transform(y_test)\n",
    "dummy_y_db_train = np_utils.to_categorical(encoded_Y_db_train) # convert integers to dummy variables (i.e. one hot encoded)\n",
    "\n",
    "le_list.append(encoder_db)    \n",
    "\n",
    "np.save('encoder_type.npy', encoder_db.classes_)\n",
    "\n",
    "x_db_train = regular_encode(X_db_train.values.astype(str), tokenizer, maxlen=MAX_LEN)\n",
    "x_db_test = regular_encode(X_db_test.values.astype(str), tokenizer, maxlen=MAX_LEN)\n",
    "\n",
    "train_dataset_db = (\n",
    "    tf.data.Dataset\n",
    "    .from_tensor_slices((x_db_train, dummy_y_db_train))\n",
    "    .repeat()\n",
    "    .shuffle(2048)\n",
    "    .batch(BATCH_SIZE)\n",
    "    .prefetch(AUTO)\n",
    ")\n",
    "\n",
    "test_dataset_db = (\n",
    "    tf.data.Dataset\n",
    "    .from_tensor_slices(x_db_test)\n",
    "    .batch(BATCH_SIZE)\n",
    ")"
   ]
  },
  {
   "cell_type": "code",
   "execution_count": 13,
   "metadata": {
    "execution": {
     "iopub.execute_input": "2021-06-23T16:07:31.354803Z",
     "iopub.status.busy": "2021-06-23T16:07:31.354118Z",
     "iopub.status.idle": "2021-06-23T16:09:14.568866Z",
     "shell.execute_reply": "2021-06-23T16:09:14.567831Z",
     "shell.execute_reply.started": "2021-06-23T15:17:58.708403Z"
    },
    "papermill": {
     "duration": 103.279291,
     "end_time": "2021-06-23T16:09:14.569020",
     "exception": false,
     "start_time": "2021-06-23T16:07:31.289729",
     "status": "completed"
    },
    "tags": []
   },
   "outputs": [
    {
     "data": {
      "application/vnd.jupyter.widget-view+json": {
       "model_id": "c8b0e8a496174941979230f72768ac25",
       "version_major": 2,
       "version_minor": 0
      },
      "text/plain": [
       "HBox(children=(FloatProgress(value=0.0, description='Downloading', max=1083389348.0, style=ProgressStyle(descr…"
      ]
     },
     "metadata": {},
     "output_type": "display_data"
    },
    {
     "name": "stdout",
     "output_type": "stream",
     "text": [
      "\n"
     ]
    }
   ],
   "source": [
    "with strategy.scope():\n",
    "    transformer_layer = TFAutoModel.from_pretrained(MODEL)\n",
    "    model = build_model(transformer_layer, max_len=MAX_LEN, num_of_classes=dbpedia_df[dbpedia_df.category == \"resource\"][\"type\"].nunique())"
   ]
  },
  {
   "cell_type": "code",
   "execution_count": 14,
   "metadata": {
    "execution": {
     "iopub.execute_input": "2021-06-23T16:09:14.697373Z",
     "iopub.status.busy": "2021-06-23T16:09:14.696078Z",
     "iopub.status.idle": "2021-06-23T16:09:14.709553Z",
     "shell.execute_reply": "2021-06-23T16:09:14.708992Z",
     "shell.execute_reply.started": "2021-06-23T15:35:32.381444Z"
    },
    "papermill": {
     "duration": 0.0833,
     "end_time": "2021-06-23T16:09:14.709667",
     "exception": false,
     "start_time": "2021-06-23T16:09:14.626367",
     "status": "completed"
    },
    "tags": []
   },
   "outputs": [
    {
     "data": {
      "text/plain": [
       "253"
      ]
     },
     "execution_count": 14,
     "metadata": {},
     "output_type": "execute_result"
    }
   ],
   "source": [
    "dbpedia_df[dbpedia_df.category == \"resource\"][\"type\"].nunique()"
   ]
  },
  {
   "cell_type": "code",
   "execution_count": 15,
   "metadata": {
    "execution": {
     "iopub.execute_input": "2021-06-23T16:09:14.827136Z",
     "iopub.status.busy": "2021-06-23T16:09:14.825955Z",
     "iopub.status.idle": "2021-06-23T16:35:06.011054Z",
     "shell.execute_reply": "2021-06-23T16:35:06.009372Z",
     "shell.execute_reply.started": "2021-06-23T15:48:53.856605Z"
    },
    "papermill": {
     "duration": 1551.246964,
     "end_time": "2021-06-23T16:35:06.011182",
     "exception": false,
     "start_time": "2021-06-23T16:09:14.764218",
     "status": "completed"
    },
    "tags": []
   },
   "outputs": [
    {
     "name": "stdout",
     "output_type": "stream",
     "text": [
      "Train for 2189 steps\n",
      "Epoch 1/4\n",
      "2189/2189 [==============================] - 401s 183ms/step - loss: 3.8998 - accuracy: 0.2207\n",
      "Epoch 2/4\n",
      "2189/2189 [==============================] - 384s 175ms/step - loss: 2.0702 - accuracy: 0.4647\n",
      "Epoch 3/4\n",
      "2189/2189 [==============================] - 384s 175ms/step - loss: 1.0802 - accuracy: 0.7673\n",
      "Epoch 4/4\n",
      "2189/2189 [==============================] - 383s 175ms/step - loss: 0.5873 - accuracy: 0.8707\n"
     ]
    }
   ],
   "source": [
    "n_steps = x_db_train.shape[0] // BATCH_SIZE\n",
    "train_history = model.fit(\n",
    "    train_dataset_db,\n",
    "    steps_per_epoch=n_steps,\n",
    "    epochs=EPOCHS #,\n",
    "    #callbacks=[early_stopping]\n",
    ")"
   ]
  },
  {
   "cell_type": "code",
   "execution_count": 16,
   "metadata": {
    "execution": {
     "iopub.execute_input": "2021-06-23T16:35:12.737327Z",
     "iopub.status.busy": "2021-06-23T16:35:12.736283Z",
     "iopub.status.idle": "2021-06-23T16:36:02.414262Z",
     "shell.execute_reply": "2021-06-23T16:36:02.415120Z",
     "shell.execute_reply.started": "2021-06-23T15:55:50.272232Z"
    },
    "papermill": {
     "duration": 53.514537,
     "end_time": "2021-06-23T16:36:02.415351",
     "exception": false,
     "start_time": "2021-06-23T16:35:08.900814",
     "status": "completed"
    },
    "tags": []
   },
   "outputs": [
    {
     "name": "stdout",
     "output_type": "stream",
     "text": [
      "23/23 [==============================] - 4s 193ms/step\n",
      "F1: 0.8527144611710824\n",
      "!!!TEST set is also multilingual now!!!\n"
     ]
    },
    {
     "data": {
      "text/plain": [
       "0"
      ]
     },
     "execution_count": 16,
     "metadata": {},
     "output_type": "execute_result"
    }
   ],
   "source": [
    "y_db_test_pred = np.argmax(model.predict(test_dataset_db, verbose=1), axis=1)\n",
    "\n",
    "f1 = f1_score(encoded_Y_db_test, y_db_test_pred, average='weighted')\n",
    "print('F1: {0}'.format(f1))\n",
    "print('!!!TEST set is also multilingual now!!!')\n",
    "\n",
    "model.save(\"model_resource\")\n",
    "\n",
    "gc.collect()"
   ]
  },
  {
   "cell_type": "code",
   "execution_count": null,
   "metadata": {
    "papermill": {
     "duration": 3.033872,
     "end_time": "2021-06-23T16:36:08.823764",
     "exception": false,
     "start_time": "2021-06-23T16:36:05.789892",
     "status": "completed"
    },
    "tags": []
   },
   "outputs": [],
   "source": []
  }
 ],
 "metadata": {
  "kernelspec": {
   "display_name": "Python 3",
   "language": "python",
   "name": "python3"
  },
  "language_info": {
   "codemirror_mode": {
    "name": "ipython",
    "version": 3
   },
   "file_extension": ".py",
   "mimetype": "text/x-python",
   "name": "python",
   "nbconvert_exporter": "python",
   "pygments_lexer": "ipython3",
   "version": "3.7.6"
  },
  "papermill": {
   "duration": 1786.507616,
   "end_time": "2021-06-23T16:36:12.429418",
   "environment_variables": {},
   "exception": null,
   "input_path": "__notebook__.ipynb",
   "output_path": "__notebook__.ipynb",
   "parameters": {},
   "start_time": "2021-06-23T16:06:25.921802",
   "version": "2.1.0"
  },
  "widgets": {
   "application/vnd.jupyter.widget-state+json": {
    "state": {
     "03335630dae2436aba6626b46228f219": {
      "model_module": "@jupyter-widgets/controls",
      "model_module_version": "1.5.0",
      "model_name": "HBoxModel",
      "state": {
       "_dom_classes": [],
       "_model_module": "@jupyter-widgets/controls",
       "_model_module_version": "1.5.0",
       "_model_name": "HBoxModel",
       "_view_count": null,
       "_view_module": "@jupyter-widgets/controls",
       "_view_module_version": "1.5.0",
       "_view_name": "HBoxView",
       "box_style": "",
       "children": [
        "IPY_MODEL_f9829da0f9a44b67ade22d2aebf86614",
        "IPY_MODEL_1e637deda397420c8639202b870f8525"
       ],
       "layout": "IPY_MODEL_39b18874cd6347a9b50ea1e266b7f62b"
      }
     },
     "10e0c63b298b490b8b54f044ff4a817e": {
      "model_module": "@jupyter-widgets/base",
      "model_module_version": "1.2.0",
      "model_name": "LayoutModel",
      "state": {
       "_model_module": "@jupyter-widgets/base",
       "_model_module_version": "1.2.0",
       "_model_name": "LayoutModel",
       "_view_count": null,
       "_view_module": "@jupyter-widgets/base",
       "_view_module_version": "1.2.0",
       "_view_name": "LayoutView",
       "align_content": null,
       "align_items": null,
       "align_self": null,
       "border": null,
       "bottom": null,
       "display": null,
       "flex": null,
       "flex_flow": null,
       "grid_area": null,
       "grid_auto_columns": null,
       "grid_auto_flow": null,
       "grid_auto_rows": null,
       "grid_column": null,
       "grid_gap": null,
       "grid_row": null,
       "grid_template_areas": null,
       "grid_template_columns": null,
       "grid_template_rows": null,
       "height": null,
       "justify_content": null,
       "justify_items": null,
       "left": null,
       "margin": null,
       "max_height": null,
       "max_width": null,
       "min_height": null,
       "min_width": null,
       "object_fit": null,
       "object_position": null,
       "order": null,
       "overflow": null,
       "overflow_x": null,
       "overflow_y": null,
       "padding": null,
       "right": null,
       "top": null,
       "visibility": null,
       "width": null
      }
     },
     "1e637deda397420c8639202b870f8525": {
      "model_module": "@jupyter-widgets/controls",
      "model_module_version": "1.5.0",
      "model_name": "HTMLModel",
      "state": {
       "_dom_classes": [],
       "_model_module": "@jupyter-widgets/controls",
       "_model_module_version": "1.5.0",
       "_model_name": "HTMLModel",
       "_view_count": null,
       "_view_module": "@jupyter-widgets/controls",
       "_view_module_version": "1.5.0",
       "_view_name": "HTMLView",
       "description": "",
       "description_tooltip": null,
       "layout": "IPY_MODEL_6d4e2eb8ff044057a50432219d8940b3",
       "placeholder": "​",
       "style": "IPY_MODEL_2d4dbf563d9d49a1a2eaac753b39138c",
       "value": " 625/625 [00:00&lt;00:00, 15.5kB/s]"
      }
     },
     "24763af3f6db42f0be638c31070a065a": {
      "model_module": "@jupyter-widgets/controls",
      "model_module_version": "1.5.0",
      "model_name": "ProgressStyleModel",
      "state": {
       "_model_module": "@jupyter-widgets/controls",
       "_model_module_version": "1.5.0",
       "_model_name": "ProgressStyleModel",
       "_view_count": null,
       "_view_module": "@jupyter-widgets/base",
       "_view_module_version": "1.2.0",
       "_view_name": "StyleView",
       "bar_color": null,
       "description_width": "initial"
      }
     },
     "26c3e7350c7746fdb76f641afe1cd6e9": {
      "model_module": "@jupyter-widgets/controls",
      "model_module_version": "1.5.0",
      "model_name": "ProgressStyleModel",
      "state": {
       "_model_module": "@jupyter-widgets/controls",
       "_model_module_version": "1.5.0",
       "_model_name": "ProgressStyleModel",
       "_view_count": null,
       "_view_module": "@jupyter-widgets/base",
       "_view_module_version": "1.2.0",
       "_view_name": "StyleView",
       "bar_color": null,
       "description_width": "initial"
      }
     },
     "2d4dbf563d9d49a1a2eaac753b39138c": {
      "model_module": "@jupyter-widgets/controls",
      "model_module_version": "1.5.0",
      "model_name": "DescriptionStyleModel",
      "state": {
       "_model_module": "@jupyter-widgets/controls",
       "_model_module_version": "1.5.0",
       "_model_name": "DescriptionStyleModel",
       "_view_count": null,
       "_view_module": "@jupyter-widgets/base",
       "_view_module_version": "1.2.0",
       "_view_name": "StyleView",
       "description_width": ""
      }
     },
     "31d183dd91934118b5aba7f039462b87": {
      "model_module": "@jupyter-widgets/base",
      "model_module_version": "1.2.0",
      "model_name": "LayoutModel",
      "state": {
       "_model_module": "@jupyter-widgets/base",
       "_model_module_version": "1.2.0",
       "_model_name": "LayoutModel",
       "_view_count": null,
       "_view_module": "@jupyter-widgets/base",
       "_view_module_version": "1.2.0",
       "_view_name": "LayoutView",
       "align_content": null,
       "align_items": null,
       "align_self": null,
       "border": null,
       "bottom": null,
       "display": null,
       "flex": null,
       "flex_flow": null,
       "grid_area": null,
       "grid_auto_columns": null,
       "grid_auto_flow": null,
       "grid_auto_rows": null,
       "grid_column": null,
       "grid_gap": null,
       "grid_row": null,
       "grid_template_areas": null,
       "grid_template_columns": null,
       "grid_template_rows": null,
       "height": null,
       "justify_content": null,
       "justify_items": null,
       "left": null,
       "margin": null,
       "max_height": null,
       "max_width": null,
       "min_height": null,
       "min_width": null,
       "object_fit": null,
       "object_position": null,
       "order": null,
       "overflow": null,
       "overflow_x": null,
       "overflow_y": null,
       "padding": null,
       "right": null,
       "top": null,
       "visibility": null,
       "width": null
      }
     },
     "39b18874cd6347a9b50ea1e266b7f62b": {
      "model_module": "@jupyter-widgets/base",
      "model_module_version": "1.2.0",
      "model_name": "LayoutModel",
      "state": {
       "_model_module": "@jupyter-widgets/base",
       "_model_module_version": "1.2.0",
       "_model_name": "LayoutModel",
       "_view_count": null,
       "_view_module": "@jupyter-widgets/base",
       "_view_module_version": "1.2.0",
       "_view_name": "LayoutView",
       "align_content": null,
       "align_items": null,
       "align_self": null,
       "border": null,
       "bottom": null,
       "display": null,
       "flex": null,
       "flex_flow": null,
       "grid_area": null,
       "grid_auto_columns": null,
       "grid_auto_flow": null,
       "grid_auto_rows": null,
       "grid_column": null,
       "grid_gap": null,
       "grid_row": null,
       "grid_template_areas": null,
       "grid_template_columns": null,
       "grid_template_rows": null,
       "height": null,
       "justify_content": null,
       "justify_items": null,
       "left": null,
       "margin": null,
       "max_height": null,
       "max_width": null,
       "min_height": null,
       "min_width": null,
       "object_fit": null,
       "object_position": null,
       "order": null,
       "overflow": null,
       "overflow_x": null,
       "overflow_y": null,
       "padding": null,
       "right": null,
       "top": null,
       "visibility": null,
       "width": null
      }
     },
     "6d4e2eb8ff044057a50432219d8940b3": {
      "model_module": "@jupyter-widgets/base",
      "model_module_version": "1.2.0",
      "model_name": "LayoutModel",
      "state": {
       "_model_module": "@jupyter-widgets/base",
       "_model_module_version": "1.2.0",
       "_model_name": "LayoutModel",
       "_view_count": null,
       "_view_module": "@jupyter-widgets/base",
       "_view_module_version": "1.2.0",
       "_view_name": "LayoutView",
       "align_content": null,
       "align_items": null,
       "align_self": null,
       "border": null,
       "bottom": null,
       "display": null,
       "flex": null,
       "flex_flow": null,
       "grid_area": null,
       "grid_auto_columns": null,
       "grid_auto_flow": null,
       "grid_auto_rows": null,
       "grid_column": null,
       "grid_gap": null,
       "grid_row": null,
       "grid_template_areas": null,
       "grid_template_columns": null,
       "grid_template_rows": null,
       "height": null,
       "justify_content": null,
       "justify_items": null,
       "left": null,
       "margin": null,
       "max_height": null,
       "max_width": null,
       "min_height": null,
       "min_width": null,
       "object_fit": null,
       "object_position": null,
       "order": null,
       "overflow": null,
       "overflow_x": null,
       "overflow_y": null,
       "padding": null,
       "right": null,
       "top": null,
       "visibility": null,
       "width": null
      }
     },
     "6db86ca755074836b97db5949b0fd5a0": {
      "model_module": "@jupyter-widgets/controls",
      "model_module_version": "1.5.0",
      "model_name": "DescriptionStyleModel",
      "state": {
       "_model_module": "@jupyter-widgets/controls",
       "_model_module_version": "1.5.0",
       "_model_name": "DescriptionStyleModel",
       "_view_count": null,
       "_view_module": "@jupyter-widgets/base",
       "_view_module_version": "1.2.0",
       "_view_name": "StyleView",
       "description_width": ""
      }
     },
     "71b8d311faa84887b2685e63721ecf70": {
      "model_module": "@jupyter-widgets/base",
      "model_module_version": "1.2.0",
      "model_name": "LayoutModel",
      "state": {
       "_model_module": "@jupyter-widgets/base",
       "_model_module_version": "1.2.0",
       "_model_name": "LayoutModel",
       "_view_count": null,
       "_view_module": "@jupyter-widgets/base",
       "_view_module_version": "1.2.0",
       "_view_name": "LayoutView",
       "align_content": null,
       "align_items": null,
       "align_self": null,
       "border": null,
       "bottom": null,
       "display": null,
       "flex": null,
       "flex_flow": null,
       "grid_area": null,
       "grid_auto_columns": null,
       "grid_auto_flow": null,
       "grid_auto_rows": null,
       "grid_column": null,
       "grid_gap": null,
       "grid_row": null,
       "grid_template_areas": null,
       "grid_template_columns": null,
       "grid_template_rows": null,
       "height": null,
       "justify_content": null,
       "justify_items": null,
       "left": null,
       "margin": null,
       "max_height": null,
       "max_width": null,
       "min_height": null,
       "min_width": null,
       "object_fit": null,
       "object_position": null,
       "order": null,
       "overflow": null,
       "overflow_x": null,
       "overflow_y": null,
       "padding": null,
       "right": null,
       "top": null,
       "visibility": null,
       "width": null
      }
     },
     "7879230d7d564087bd77c5283420da3e": {
      "model_module": "@jupyter-widgets/controls",
      "model_module_version": "1.5.0",
      "model_name": "HTMLModel",
      "state": {
       "_dom_classes": [],
       "_model_module": "@jupyter-widgets/controls",
       "_model_module_version": "1.5.0",
       "_model_name": "HTMLModel",
       "_view_count": null,
       "_view_module": "@jupyter-widgets/controls",
       "_view_module_version": "1.5.0",
       "_view_name": "HTMLView",
       "description": "",
       "description_tooltip": null,
       "layout": "IPY_MODEL_bacb5aa6adae49cfb749a4e4354594fc",
       "placeholder": "​",
       "style": "IPY_MODEL_c0e8a49f254642a39221b328d4f820c9",
       "value": " 1.08G/1.08G [01:32&lt;00:00, 11.7MB/s]"
      }
     },
     "8a2fe19553d04dca9e47e13d37c9b734": {
      "model_module": "@jupyter-widgets/controls",
      "model_module_version": "1.5.0",
      "model_name": "ProgressStyleModel",
      "state": {
       "_model_module": "@jupyter-widgets/controls",
       "_model_module_version": "1.5.0",
       "_model_name": "ProgressStyleModel",
       "_view_count": null,
       "_view_module": "@jupyter-widgets/base",
       "_view_module_version": "1.2.0",
       "_view_name": "StyleView",
       "bar_color": null,
       "description_width": "initial"
      }
     },
     "92d10f010820432398557fab139a32a3": {
      "model_module": "@jupyter-widgets/base",
      "model_module_version": "1.2.0",
      "model_name": "LayoutModel",
      "state": {
       "_model_module": "@jupyter-widgets/base",
       "_model_module_version": "1.2.0",
       "_model_name": "LayoutModel",
       "_view_count": null,
       "_view_module": "@jupyter-widgets/base",
       "_view_module_version": "1.2.0",
       "_view_name": "LayoutView",
       "align_content": null,
       "align_items": null,
       "align_self": null,
       "border": null,
       "bottom": null,
       "display": null,
       "flex": null,
       "flex_flow": null,
       "grid_area": null,
       "grid_auto_columns": null,
       "grid_auto_flow": null,
       "grid_auto_rows": null,
       "grid_column": null,
       "grid_gap": null,
       "grid_row": null,
       "grid_template_areas": null,
       "grid_template_columns": null,
       "grid_template_rows": null,
       "height": null,
       "justify_content": null,
       "justify_items": null,
       "left": null,
       "margin": null,
       "max_height": null,
       "max_width": null,
       "min_height": null,
       "min_width": null,
       "object_fit": null,
       "object_position": null,
       "order": null,
       "overflow": null,
       "overflow_x": null,
       "overflow_y": null,
       "padding": null,
       "right": null,
       "top": null,
       "visibility": null,
       "width": null
      }
     },
     "a7609840b5fa40958b234d145f67cdad": {
      "model_module": "@jupyter-widgets/controls",
      "model_module_version": "1.5.0",
      "model_name": "HTMLModel",
      "state": {
       "_dom_classes": [],
       "_model_module": "@jupyter-widgets/controls",
       "_model_module_version": "1.5.0",
       "_model_name": "HTMLModel",
       "_view_count": null,
       "_view_module": "@jupyter-widgets/controls",
       "_view_module_version": "1.5.0",
       "_view_name": "HTMLView",
       "description": "",
       "description_tooltip": null,
       "layout": "IPY_MODEL_df20704556fb4f1bb36ed0f216e82cac",
       "placeholder": "​",
       "style": "IPY_MODEL_6db86ca755074836b97db5949b0fd5a0",
       "value": " 996k/996k [00:00&lt;00:00, 1.65MB/s]"
      }
     },
     "bacb5aa6adae49cfb749a4e4354594fc": {
      "model_module": "@jupyter-widgets/base",
      "model_module_version": "1.2.0",
      "model_name": "LayoutModel",
      "state": {
       "_model_module": "@jupyter-widgets/base",
       "_model_module_version": "1.2.0",
       "_model_name": "LayoutModel",
       "_view_count": null,
       "_view_module": "@jupyter-widgets/base",
       "_view_module_version": "1.2.0",
       "_view_name": "LayoutView",
       "align_content": null,
       "align_items": null,
       "align_self": null,
       "border": null,
       "bottom": null,
       "display": null,
       "flex": null,
       "flex_flow": null,
       "grid_area": null,
       "grid_auto_columns": null,
       "grid_auto_flow": null,
       "grid_auto_rows": null,
       "grid_column": null,
       "grid_gap": null,
       "grid_row": null,
       "grid_template_areas": null,
       "grid_template_columns": null,
       "grid_template_rows": null,
       "height": null,
       "justify_content": null,
       "justify_items": null,
       "left": null,
       "margin": null,
       "max_height": null,
       "max_width": null,
       "min_height": null,
       "min_width": null,
       "object_fit": null,
       "object_position": null,
       "order": null,
       "overflow": null,
       "overflow_x": null,
       "overflow_y": null,
       "padding": null,
       "right": null,
       "top": null,
       "visibility": null,
       "width": null
      }
     },
     "c0e8a49f254642a39221b328d4f820c9": {
      "model_module": "@jupyter-widgets/controls",
      "model_module_version": "1.5.0",
      "model_name": "DescriptionStyleModel",
      "state": {
       "_model_module": "@jupyter-widgets/controls",
       "_model_module_version": "1.5.0",
       "_model_name": "DescriptionStyleModel",
       "_view_count": null,
       "_view_module": "@jupyter-widgets/base",
       "_view_module_version": "1.2.0",
       "_view_name": "StyleView",
       "description_width": ""
      }
     },
     "c8b0e8a496174941979230f72768ac25": {
      "model_module": "@jupyter-widgets/controls",
      "model_module_version": "1.5.0",
      "model_name": "HBoxModel",
      "state": {
       "_dom_classes": [],
       "_model_module": "@jupyter-widgets/controls",
       "_model_module_version": "1.5.0",
       "_model_name": "HBoxModel",
       "_view_count": null,
       "_view_module": "@jupyter-widgets/controls",
       "_view_module_version": "1.5.0",
       "_view_name": "HBoxView",
       "box_style": "",
       "children": [
        "IPY_MODEL_eedfd7a0ee3d4dcfab934777ce7b07e0",
        "IPY_MODEL_7879230d7d564087bd77c5283420da3e"
       ],
       "layout": "IPY_MODEL_31d183dd91934118b5aba7f039462b87"
      }
     },
     "d7557dd728d14ec08f869d0210f46524": {
      "model_module": "@jupyter-widgets/controls",
      "model_module_version": "1.5.0",
      "model_name": "FloatProgressModel",
      "state": {
       "_dom_classes": [],
       "_model_module": "@jupyter-widgets/controls",
       "_model_module_version": "1.5.0",
       "_model_name": "FloatProgressModel",
       "_view_count": null,
       "_view_module": "@jupyter-widgets/controls",
       "_view_module_version": "1.5.0",
       "_view_name": "ProgressView",
       "bar_style": "success",
       "description": "Downloading: 100%",
       "description_tooltip": null,
       "layout": "IPY_MODEL_f1e6518d90a44260a024a07704085d11",
       "max": 995526.0,
       "min": 0.0,
       "orientation": "horizontal",
       "style": "IPY_MODEL_26c3e7350c7746fdb76f641afe1cd6e9",
       "value": 995526.0
      }
     },
     "df20704556fb4f1bb36ed0f216e82cac": {
      "model_module": "@jupyter-widgets/base",
      "model_module_version": "1.2.0",
      "model_name": "LayoutModel",
      "state": {
       "_model_module": "@jupyter-widgets/base",
       "_model_module_version": "1.2.0",
       "_model_name": "LayoutModel",
       "_view_count": null,
       "_view_module": "@jupyter-widgets/base",
       "_view_module_version": "1.2.0",
       "_view_name": "LayoutView",
       "align_content": null,
       "align_items": null,
       "align_self": null,
       "border": null,
       "bottom": null,
       "display": null,
       "flex": null,
       "flex_flow": null,
       "grid_area": null,
       "grid_auto_columns": null,
       "grid_auto_flow": null,
       "grid_auto_rows": null,
       "grid_column": null,
       "grid_gap": null,
       "grid_row": null,
       "grid_template_areas": null,
       "grid_template_columns": null,
       "grid_template_rows": null,
       "height": null,
       "justify_content": null,
       "justify_items": null,
       "left": null,
       "margin": null,
       "max_height": null,
       "max_width": null,
       "min_height": null,
       "min_width": null,
       "object_fit": null,
       "object_position": null,
       "order": null,
       "overflow": null,
       "overflow_x": null,
       "overflow_y": null,
       "padding": null,
       "right": null,
       "top": null,
       "visibility": null,
       "width": null
      }
     },
     "e4c72d3dc4f34c59ade9094e24acc0bb": {
      "model_module": "@jupyter-widgets/controls",
      "model_module_version": "1.5.0",
      "model_name": "HBoxModel",
      "state": {
       "_dom_classes": [],
       "_model_module": "@jupyter-widgets/controls",
       "_model_module_version": "1.5.0",
       "_model_name": "HBoxModel",
       "_view_count": null,
       "_view_module": "@jupyter-widgets/controls",
       "_view_module_version": "1.5.0",
       "_view_name": "HBoxView",
       "box_style": "",
       "children": [
        "IPY_MODEL_d7557dd728d14ec08f869d0210f46524",
        "IPY_MODEL_a7609840b5fa40958b234d145f67cdad"
       ],
       "layout": "IPY_MODEL_10e0c63b298b490b8b54f044ff4a817e"
      }
     },
     "eedfd7a0ee3d4dcfab934777ce7b07e0": {
      "model_module": "@jupyter-widgets/controls",
      "model_module_version": "1.5.0",
      "model_name": "FloatProgressModel",
      "state": {
       "_dom_classes": [],
       "_model_module": "@jupyter-widgets/controls",
       "_model_module_version": "1.5.0",
       "_model_name": "FloatProgressModel",
       "_view_count": null,
       "_view_module": "@jupyter-widgets/controls",
       "_view_module_version": "1.5.0",
       "_view_name": "ProgressView",
       "bar_style": "success",
       "description": "Downloading: 100%",
       "description_tooltip": null,
       "layout": "IPY_MODEL_92d10f010820432398557fab139a32a3",
       "max": 1083389348.0,
       "min": 0.0,
       "orientation": "horizontal",
       "style": "IPY_MODEL_8a2fe19553d04dca9e47e13d37c9b734",
       "value": 1083389348.0
      }
     },
     "f1e6518d90a44260a024a07704085d11": {
      "model_module": "@jupyter-widgets/base",
      "model_module_version": "1.2.0",
      "model_name": "LayoutModel",
      "state": {
       "_model_module": "@jupyter-widgets/base",
       "_model_module_version": "1.2.0",
       "_model_name": "LayoutModel",
       "_view_count": null,
       "_view_module": "@jupyter-widgets/base",
       "_view_module_version": "1.2.0",
       "_view_name": "LayoutView",
       "align_content": null,
       "align_items": null,
       "align_self": null,
       "border": null,
       "bottom": null,
       "display": null,
       "flex": null,
       "flex_flow": null,
       "grid_area": null,
       "grid_auto_columns": null,
       "grid_auto_flow": null,
       "grid_auto_rows": null,
       "grid_column": null,
       "grid_gap": null,
       "grid_row": null,
       "grid_template_areas": null,
       "grid_template_columns": null,
       "grid_template_rows": null,
       "height": null,
       "justify_content": null,
       "justify_items": null,
       "left": null,
       "margin": null,
       "max_height": null,
       "max_width": null,
       "min_height": null,
       "min_width": null,
       "object_fit": null,
       "object_position": null,
       "order": null,
       "overflow": null,
       "overflow_x": null,
       "overflow_y": null,
       "padding": null,
       "right": null,
       "top": null,
       "visibility": null,
       "width": null
      }
     },
     "f9829da0f9a44b67ade22d2aebf86614": {
      "model_module": "@jupyter-widgets/controls",
      "model_module_version": "1.5.0",
      "model_name": "FloatProgressModel",
      "state": {
       "_dom_classes": [],
       "_model_module": "@jupyter-widgets/controls",
       "_model_module_version": "1.5.0",
       "_model_name": "FloatProgressModel",
       "_view_count": null,
       "_view_module": "@jupyter-widgets/controls",
       "_view_module_version": "1.5.0",
       "_view_name": "ProgressView",
       "bar_style": "success",
       "description": "Downloading: 100%",
       "description_tooltip": null,
       "layout": "IPY_MODEL_71b8d311faa84887b2685e63721ecf70",
       "max": 625.0,
       "min": 0.0,
       "orientation": "horizontal",
       "style": "IPY_MODEL_24763af3f6db42f0be638c31070a065a",
       "value": 625.0
      }
     }
    },
    "version_major": 2,
    "version_minor": 0
   }
  }
 },
 "nbformat": 4,
 "nbformat_minor": 4
}
