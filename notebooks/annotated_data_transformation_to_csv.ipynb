{
 "cells": [
  {
   "cell_type": "code",
   "execution_count": 1,
   "metadata": {},
   "outputs": [],
   "source": [
    "import pandas as pd\n",
    "import json\n",
    "import gc"
   ]
  },
  {
   "cell_type": "markdown",
   "metadata": {},
   "source": [
    "#### If the category is \"resource\", answer types are ontology classes from either the DBpedia ontology or the Wikidata ontology. If category is \"literal\", answer types are either \"number\", \"date\", or \"string\". \"boolean\" answer type. If the category is \"boolean\", answer type is always \"boolean\"."
   ]
  },
  {
   "cell_type": "code",
   "execution_count": 3,
   "metadata": {},
   "outputs": [],
   "source": [
    "dbpedia_json = None\n",
    "\n",
    "with open('../datasets/DBpedia-entity-replacements/output/smarttask_dbpedia_train---types-added.txt') as json_file:\n",
    "    dbpedia_json = json.load(json_file)"
   ]
  },
  {
   "cell_type": "code",
   "execution_count": 4,
   "metadata": {},
   "outputs": [
    {
     "data": {
      "text/plain": [
       "{'id': 'dbpedia_1177-000',\n",
       " 'question': 'Was DBpedia:Person a follower of DBpedia:Building DBpedia:Building?',\n",
       " 'category': 'boolean',\n",
       " 'type': ['boolean'],\n",
       " 'originalquestion': 'Was Jacqueline Kennedy Onassis a follower of Melkite Greek Catholic Church?'}"
      ]
     },
     "execution_count": 4,
     "metadata": {},
     "output_type": "execute_result"
    }
   ],
   "source": [
    "dbpedia_json[0]"
   ]
  },
  {
   "cell_type": "code",
   "execution_count": 5,
   "metadata": {},
   "outputs": [
    {
     "data": {
      "text/plain": [
       "0"
      ]
     },
     "execution_count": 5,
     "metadata": {},
     "output_type": "execute_result"
    }
   ],
   "source": [
    "def make_dataframe(ds_json):\n",
    "    ds_dict = { \"id\": list(), \"question\": list(), \"category\": list(), \n",
    "               \"type_1\": list(), \"type_2\": list(), \"type_3\": list(), \"type_4\": list(), \"type_5\": list()}\n",
    "    \n",
    "    for item in ds_json:\n",
    "        if item['question'] == None:\n",
    "            continue\n",
    "            \n",
    "        id_ = item['id']\n",
    "        question = item['question']\n",
    "        category = item['category']\n",
    "\n",
    "        if len(item['type']) > 6:\n",
    "            type_1 = item['type'][6]\n",
    "            type_2 = item['type'][5]\n",
    "            type_3 = item['type'][4]\n",
    "            type_4 = item['type'][3]\n",
    "            type_5 = item['type'][2]\n",
    "        elif len(item['type']) > 5:\n",
    "            type_1 = item['type'][5]\n",
    "            type_2 = item['type'][4]\n",
    "            type_3 = item['type'][3]\n",
    "            type_4 = item['type'][2]\n",
    "            type_5 = item['type'][1]\n",
    "        elif len(item['type']) > 4:\n",
    "            type_1 = item['type'][4]\n",
    "            type_2 = item['type'][3]\n",
    "            type_3 = item['type'][2]\n",
    "            type_4 = item['type'][1]\n",
    "            type_5 = item['type'][0]\n",
    "        elif len(item['type']) > 3:\n",
    "            type_1 = item['type'][3]\n",
    "            type_2 = item['type'][2]\n",
    "            type_3 = item['type'][1]\n",
    "            type_4 = item['type'][0]\n",
    "            type_5 = \"n/a\"\n",
    "        elif len(item['type']) > 2:\n",
    "            type_1 = item['type'][2]\n",
    "            type_2 = item['type'][1]\n",
    "            type_3 = item['type'][0]\n",
    "            type_4 = \"n/a\"\n",
    "            type_5 = \"n/a\"\n",
    "        elif len(item['type']) > 1:\n",
    "            type_1 = item['type'][1]\n",
    "            type_2 = item['type'][0]\n",
    "            type_3 = \"n/a\"\n",
    "            type_4 = \"n/a\"\n",
    "            type_5 = \"n/a\"\n",
    "        elif len(item['type']) > 0:\n",
    "            type_1 = item['type'][0]\n",
    "            type_2 = \"n/a\"\n",
    "            type_3 = \"n/a\"\n",
    "            type_4 = \"n/a\"\n",
    "            type_5 = \"n/a\"\n",
    "        else:\n",
    "            type_1 = \"n/a\"\n",
    "            type_2 = \"n/a\"\n",
    "            type_3 = \"n/a\"\n",
    "            type_4 = \"n/a\"\n",
    "            type_5 = \"n/a\"\n",
    "        \n",
    "        ds_dict['id'].append(id_)\n",
    "        \n",
    "        ds_dict['question'].append(question)\n",
    "        \n",
    "        ds_dict['category'].append(category)\n",
    "        ds_dict['type_1'].append(type_1)\n",
    "        ds_dict['type_2'].append(type_2)\n",
    "        ds_dict['type_3'].append(type_3)\n",
    "        ds_dict['type_4'].append(type_4)\n",
    "        ds_dict['type_5'].append(type_5)\n",
    "    \n",
    "    df = pd.DataFrame.from_dict(ds_dict)\n",
    "    \n",
    "    assert(\"dbo:Location\" in df.type_1.values or \"drug\" in df.type_1.values)\n",
    "    \n",
    "    return df    \n",
    "gc.collect()"
   ]
  },
  {
   "cell_type": "code",
   "execution_count": 6,
   "metadata": {},
   "outputs": [],
   "source": [
    "dbpedia_df = make_dataframe(dbpedia_json)\n",
    "#wikidata_df = make_dataframe(wikidata_json)"
   ]
  },
  {
   "cell_type": "code",
   "execution_count": 7,
   "metadata": {},
   "outputs": [
    {
     "data": {
      "text/html": [
       "<div>\n",
       "<style scoped>\n",
       "    .dataframe tbody tr th:only-of-type {\n",
       "        vertical-align: middle;\n",
       "    }\n",
       "\n",
       "    .dataframe tbody tr th {\n",
       "        vertical-align: top;\n",
       "    }\n",
       "\n",
       "    .dataframe thead th {\n",
       "        text-align: right;\n",
       "    }\n",
       "</style>\n",
       "<table border=\"1\" class=\"dataframe\">\n",
       "  <thead>\n",
       "    <tr style=\"text-align: right;\">\n",
       "      <th></th>\n",
       "      <th>id</th>\n",
       "      <th>question</th>\n",
       "      <th>category</th>\n",
       "      <th>type_1</th>\n",
       "      <th>type_2</th>\n",
       "      <th>type_3</th>\n",
       "      <th>type_4</th>\n",
       "      <th>type_5</th>\n",
       "    </tr>\n",
       "  </thead>\n",
       "  <tbody>\n",
       "    <tr>\n",
       "      <th>0</th>\n",
       "      <td>dbpedia_1177-000</td>\n",
       "      <td>Was DBpedia:Person a follower of DBpedia:Build...</td>\n",
       "      <td>boolean</td>\n",
       "      <td>boolean</td>\n",
       "      <td>n/a</td>\n",
       "      <td>n/a</td>\n",
       "      <td>n/a</td>\n",
       "      <td>n/a</td>\n",
       "    </tr>\n",
       "    <tr>\n",
       "      <th>1</th>\n",
       "      <td>dbpedia_1177-001</td>\n",
       "      <td>Was DBpedia:OfficeHolder a follower of DBpedia...</td>\n",
       "      <td>boolean</td>\n",
       "      <td>boolean</td>\n",
       "      <td>n/a</td>\n",
       "      <td>n/a</td>\n",
       "      <td>n/a</td>\n",
       "      <td>n/a</td>\n",
       "    </tr>\n",
       "    <tr>\n",
       "      <th>2</th>\n",
       "      <td>dbpedia_1177-002</td>\n",
       "      <td>Was DBpedia:Agent a follower of DBpedia:Buildi...</td>\n",
       "      <td>boolean</td>\n",
       "      <td>boolean</td>\n",
       "      <td>n/a</td>\n",
       "      <td>n/a</td>\n",
       "      <td>n/a</td>\n",
       "      <td>n/a</td>\n",
       "    </tr>\n",
       "    <tr>\n",
       "      <th>3</th>\n",
       "      <td>dbpedia_14427-000</td>\n",
       "      <td>What is the name of the opera based on DBpedia...</td>\n",
       "      <td>resource</td>\n",
       "      <td>dbo:Work</td>\n",
       "      <td>dbo:MusicalWork</td>\n",
       "      <td>dbo:Opera</td>\n",
       "      <td>n/a</td>\n",
       "      <td>n/a</td>\n",
       "    </tr>\n",
       "    <tr>\n",
       "      <th>4</th>\n",
       "      <td>dbpedia_16615-000</td>\n",
       "      <td>When did DBpedia:Person receive the DBpedia:Aw...</td>\n",
       "      <td>literal</td>\n",
       "      <td>date</td>\n",
       "      <td>n/a</td>\n",
       "      <td>n/a</td>\n",
       "      <td>n/a</td>\n",
       "      <td>n/a</td>\n",
       "    </tr>\n",
       "  </tbody>\n",
       "</table>\n",
       "</div>"
      ],
      "text/plain": [
       "                  id                                           question  \\\n",
       "0   dbpedia_1177-000  Was DBpedia:Person a follower of DBpedia:Build...   \n",
       "1   dbpedia_1177-001  Was DBpedia:OfficeHolder a follower of DBpedia...   \n",
       "2   dbpedia_1177-002  Was DBpedia:Agent a follower of DBpedia:Buildi...   \n",
       "3  dbpedia_14427-000  What is the name of the opera based on DBpedia...   \n",
       "4  dbpedia_16615-000  When did DBpedia:Person receive the DBpedia:Aw...   \n",
       "\n",
       "   category    type_1           type_2     type_3 type_4 type_5  \n",
       "0   boolean   boolean              n/a        n/a    n/a    n/a  \n",
       "1   boolean   boolean              n/a        n/a    n/a    n/a  \n",
       "2   boolean   boolean              n/a        n/a    n/a    n/a  \n",
       "3  resource  dbo:Work  dbo:MusicalWork  dbo:Opera    n/a    n/a  \n",
       "4   literal      date              n/a        n/a    n/a    n/a  "
      ]
     },
     "execution_count": 7,
     "metadata": {},
     "output_type": "execute_result"
    }
   ],
   "source": [
    "dbpedia_df.head()"
   ]
  },
  {
   "cell_type": "code",
   "execution_count": 8,
   "metadata": {},
   "outputs": [
    {
     "data": {
      "text/plain": [
       "(163488, 8)"
      ]
     },
     "execution_count": 8,
     "metadata": {},
     "output_type": "execute_result"
    }
   ],
   "source": [
    "dbpedia_df.shape"
   ]
  },
  {
   "cell_type": "code",
   "execution_count": 10,
   "metadata": {},
   "outputs": [],
   "source": [
    "dbpedia_df.to_csv(\"../datasets/DBpedia-entity-replacements/dbpedia-annotated.csv\", sep=\"|\", index=False)\n",
    "#wikidata_df.to_csv(\"../datasets/wikidata.csv\", sep=\"|\", index=False)"
   ]
  },
  {
   "cell_type": "code",
   "execution_count": 35,
   "metadata": {},
   "outputs": [
    {
     "data": {
      "text/plain": [
       "dbo:Person               2087\n",
       "dbo:Country               716\n",
       "dbo:City                  672\n",
       "dbo:Company               371\n",
       "dbo:Award                 339\n",
       "                         ... \n",
       "dbo:Holiday                 1\n",
       "dbo:AdultActor              1\n",
       "dbo:Monument                1\n",
       "dbo:Anime                   1\n",
       "dbo:WorldHeritageSite       1\n",
       "Name: type_1, Length: 267, dtype: int64"
      ]
     },
     "execution_count": 35,
     "metadata": {},
     "output_type": "execute_result"
    }
   ],
   "source": [
    "dbpedia_df[dbpedia_df.category == \"resource\"].type_1.value_counts()"
   ]
  },
  {
   "cell_type": "code",
   "execution_count": 36,
   "metadata": {},
   "outputs": [
    {
     "data": {
      "text/plain": [
       "person                     731\n",
       "omnivore                   651\n",
       "natural person             466\n",
       "city/town                  263\n",
       "state                      247\n",
       "                          ... \n",
       "record label                 1\n",
       "federal holiday              1\n",
       "textile                      1\n",
       "active galactic nucleus      1\n",
       "white dwarf                  1\n",
       "Name: type_1, Length: 1679, dtype: int64"
      ]
     },
     "execution_count": 36,
     "metadata": {},
     "output_type": "execute_result"
    }
   ],
   "source": [
    "wikidata_df[wikidata_df.category == \"resource\"].type_1.value_counts()"
   ]
  },
  {
   "cell_type": "code",
   "execution_count": 42,
   "metadata": {},
   "outputs": [
    {
     "data": {
      "text/plain": [
       "string    2068\n",
       "number    1634\n",
       "date      1486\n",
       "Name: type_1, dtype: int64"
      ]
     },
     "execution_count": 42,
     "metadata": {},
     "output_type": "execute_result"
    }
   ],
   "source": [
    "dbpedia_df[dbpedia_df.category == \"literal\"].type_1.value_counts()"
   ]
  },
  {
   "cell_type": "code",
   "execution_count": 41,
   "metadata": {},
   "outputs": [
    {
     "data": {
      "text/plain": [
       "string    2086\n",
       "date      1301\n",
       "number    1042\n",
       "Name: type_1, dtype: int64"
      ]
     },
     "execution_count": 41,
     "metadata": {},
     "output_type": "execute_result"
    }
   ],
   "source": [
    "wikidata_df[wikidata_df.category == \"literal\"].type_1.value_counts()"
   ]
  },
  {
   "cell_type": "code",
   "execution_count": null,
   "metadata": {},
   "outputs": [],
   "source": []
  }
 ],
 "metadata": {
  "kernelspec": {
   "display_name": "Python 3",
   "language": "python",
   "name": "python3"
  },
  "language_info": {
   "codemirror_mode": {
    "name": "ipython",
    "version": 3
   },
   "file_extension": ".py",
   "mimetype": "text/x-python",
   "name": "python",
   "nbconvert_exporter": "python",
   "pygments_lexer": "ipython3",
   "version": "3.6.4"
  }
 },
 "nbformat": 4,
 "nbformat_minor": 2
}
