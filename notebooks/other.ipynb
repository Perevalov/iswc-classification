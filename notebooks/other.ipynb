{
 "cells": [
  {
   "cell_type": "code",
   "execution_count": 2,
   "metadata": {},
   "outputs": [],
   "source": [
    "import pandas as pd\n",
    "import json\n",
    "from sklearn.metrics import jaccard_score\n",
    "import numpy as np"
   ]
  },
  {
   "cell_type": "code",
   "execution_count": 11,
   "metadata": {},
   "outputs": [],
   "source": [
    "dbpedia_df = pd.read_csv(\"../datasets/DBpedia-entity-replacements/dbpedia-annotated.csv\", sep=\"|\")\n",
    "\n",
    "dbpedia_df['original_id'] = dbpedia_df.id.apply(lambda x: x.split('-')[0])"
   ]
  },
  {
   "cell_type": "code",
   "execution_count": 12,
   "metadata": {},
   "outputs": [],
   "source": [
    "faketest_ids = dbpedia_df.sample(4400, random_state=42).original_id.values # Test set from organizers has ca. 4400 examples"
   ]
  },
  {
   "cell_type": "code",
   "execution_count": 20,
   "metadata": {},
   "outputs": [
    {
     "data": {
      "text/plain": [
       "4400"
      ]
     },
     "execution_count": 20,
     "metadata": {},
     "output_type": "execute_result"
    }
   ],
   "source": [
    "len(faketest_ids)"
   ]
  },
  {
   "cell_type": "code",
   "execution_count": 22,
   "metadata": {},
   "outputs": [
    {
     "data": {
      "text/plain": [
       "'dbpedia_7113'"
      ]
     },
     "execution_count": 22,
     "metadata": {},
     "output_type": "execute_result"
    }
   ],
   "source": [
    "faketest_ids[0]"
   ]
  },
  {
   "cell_type": "code",
   "execution_count": 15,
   "metadata": {},
   "outputs": [],
   "source": [
    "dbpedia_json = None\n",
    "\n",
    "with open('../datasets/DBpedia/smarttask_dbpedia_train.json') as json_file:\n",
    "    dbpedia_json = json.load(json_file)"
   ]
  },
  {
   "cell_type": "code",
   "execution_count": 21,
   "metadata": {},
   "outputs": [
    {
     "data": {
      "text/plain": [
       "{'id': 'dbpedia_1177',\n",
       " 'question': 'Was Jacqueline Kennedy Onassis a follower of Melkite Greek Catholic Church?',\n",
       " 'category': 'boolean',\n",
       " 'type': ['boolean']}"
      ]
     },
     "execution_count": 21,
     "metadata": {},
     "output_type": "execute_result"
    }
   ],
   "source": [
    "dbpedia_json[0]"
   ]
  },
  {
   "cell_type": "code",
   "execution_count": 16,
   "metadata": {},
   "outputs": [],
   "source": [
    "faketest = list()\n",
    "added_ids = list()\n",
    "\n",
    "for q in dbpedia_json:\n",
    "    if q['id'] in faketest_ids and q['id'] not in added_ids:\n",
    "        faketest.append(q)\n",
    "        added_ids.append(q['id'])"
   ]
  },
  {
   "cell_type": "code",
   "execution_count": 17,
   "metadata": {},
   "outputs": [
    {
     "data": {
      "text/plain": [
       "1902"
      ]
     },
     "execution_count": 17,
     "metadata": {},
     "output_type": "execute_result"
    }
   ],
   "source": [
    "len(faketest)"
   ]
  },
  {
   "cell_type": "code",
   "execution_count": 18,
   "metadata": {},
   "outputs": [],
   "source": [
    "with open('../datasets/DBpedia/faketest_dbpedia-annotated.json', 'w') as json_file:\n",
    "    json.dump(faketest, json_file)"
   ]
  },
  {
   "cell_type": "code",
   "execution_count": 34,
   "metadata": {},
   "outputs": [
    {
     "data": {
      "text/plain": [
       "True"
      ]
     },
     "execution_count": 34,
     "metadata": {},
     "output_type": "execute_result"
    }
   ],
   "source": [
    "\"dbpedia_8947\" in faketest_ids"
   ]
  },
  {
   "cell_type": "code",
   "execution_count": 20,
   "metadata": {},
   "outputs": [],
   "source": [
    "faketest_preds_json = None\n",
    "\n",
    "with open('../evaluation/faketest_dbpedia_pred.json') as json_file:\n",
    "    faketest_preds_json = json.load(json_file)"
   ]
  },
  {
   "cell_type": "code",
   "execution_count": 21,
   "metadata": {},
   "outputs": [
    {
     "data": {
      "text/plain": [
       "4400"
      ]
     },
     "execution_count": 21,
     "metadata": {},
     "output_type": "execute_result"
    }
   ],
   "source": [
    "len(faketest_preds_json)"
   ]
  },
  {
   "cell_type": "markdown",
   "metadata": {},
   "source": [
    "## Overlap and similarity cheeeck"
   ]
  },
  {
   "cell_type": "code",
   "execution_count": 79,
   "metadata": {},
   "outputs": [],
   "source": [
    "faketest_preds_mult = None\n",
    "faketest_preds_en = None\n",
    "faketest = None\n",
    "\n",
    "with open('../evaluation/faketest_dbpedia_pred_10.json') as json_file:\n",
    "    faketest_preds_mult = json.load(json_file)\n",
    "    \n",
    "with open('../evaluation/faketest_dbpedia_pred_8.json') as json_file:\n",
    "    faketest_preds_en = json.load(json_file)\n",
    "    \n",
    "with open('../evaluation/faketest_dbpedia.json') as json_file:\n",
    "    faketest = json.load(json_file)"
   ]
  },
  {
   "cell_type": "code",
   "execution_count": 80,
   "metadata": {},
   "outputs": [],
   "source": [
    "def get_value(key, json_list, prop):\n",
    "    for i in json_list:\n",
    "        if i['id'] == key:\n",
    "            return i[prop]\n",
    "    return None\n",
    "\n",
    "def jaccard_similarity(list1, list2):\n",
    "    intersection = len(list(set(list1).intersection(list2)))\n",
    "    union = (len(set(list1)) + len(set(list2))) - intersection\n",
    "    return float(intersection) / union"
   ]
  },
  {
   "cell_type": "code",
   "execution_count": 84,
   "metadata": {},
   "outputs": [],
   "source": [
    "ids = list()\n",
    "mult = list()\n",
    "en = list()\n",
    "mult_jacc = list()\n",
    "en_jacc = list()\n",
    "diff_jacc = list()\n",
    "\n",
    "for i in range(len(faketest)):\n",
    "    id_ = faketest[i]['id']\n",
    "    \n",
    "    en_val = get_value(id_, faketest_preds_en,'category') \n",
    "    mult_val = get_value(id_, faketest_preds_mult, 'category')\n",
    "    en_type = get_value(id_, faketest_preds_en,'type') \n",
    "    mult_type = get_value(id_, faketest_preds_mult, 'type')\n",
    "    \n",
    "    if en_val and mult_val:\n",
    "        ids.append(id_)\n",
    "        mult.append(mult_val == faketest[i]['category'])\n",
    "        en.append(en_val == faketest[i]['category'])\n",
    "        mult_jacc.append(jaccard_similarity(faketest[i]['type'], mult_type))\n",
    "        en_jacc.append(jaccard_similarity(faketest[i]['type'], en_type))\n",
    "        diff_jacc.append(jaccard_similarity(mult_type, en_type))\n",
    "    else:\n",
    "        print(\"No prediction for id\", id_)"
   ]
  },
  {
   "cell_type": "code",
   "execution_count": 85,
   "metadata": {},
   "outputs": [],
   "source": [
    "nonequal = dict()\n",
    "\n",
    "for i in range(len(ids)):\n",
    "    if mult[i] != en[i]:\n",
    "        nonequal[ids[i]] = (mult[i], en[i])"
   ]
  },
  {
   "cell_type": "code",
   "execution_count": 89,
   "metadata": {},
   "outputs": [
    {
     "name": "stdout",
     "output_type": "stream",
     "text": [
      "There is 85 non-equal answers out of 4507, possible % of increase is 1.88595518082982\n",
      "Average similarity between types predictions of model 1 and model 2: 0.8007238299505883 and 0.6289188599039942\n",
      "Jaccard Index between predictions 0.6512773780468478\n"
     ]
    }
   ],
   "source": [
    "print(\"There is {0} non-equal answers out of {1}, possible % of increase is {2}\".format(len(nonequal.keys()), len(ids), len(nonequal.keys())/len(ids)*100))\n",
    "print(\"Average similarity between types predictions of model 1 and model 2: {0} and {1}\".format(np.array(mult_jacc).mean(), np.array(en_jacc).mean()))\n",
    "print(\"Jaccard Index between predictions {0}\".format(np.array(diff_jacc).mean()))"
   ]
  },
  {
   "cell_type": "code",
   "execution_count": 78,
   "metadata": {},
   "outputs": [],
   "source": [
    "get_value(\"dbpedia_13246\", faketest, 'question')"
   ]
  },
  {
   "cell_type": "code",
   "execution_count": 45,
   "metadata": {},
   "outputs": [
    {
     "data": {
      "text/plain": [
       "{'dbpedia_13246': (True, False),\n",
       " 'dbpedia_18069': (True, False),\n",
       " 'dbpedia_10266': (True, False),\n",
       " 'dbpedia_14087': (False, True),\n",
       " 'dbpedia_13830': (True, False),\n",
       " 'dbpedia_6882': (True, False),\n",
       " 'dbpedia_23488': (False, True),\n",
       " 'dbpedia_4700': (True, False),\n",
       " 'dbpedia_8346': (True, False),\n",
       " 'dbpedia_10188': (False, True),\n",
       " 'dbpedia_6154': (True, False),\n",
       " 'dbpedia_3413': (True, False),\n",
       " 'dbpedia_11922': (True, False),\n",
       " 'dbpedia_12311': (True, False),\n",
       " 'dbpedia_17978': (True, False),\n",
       " 'dbpedia_13597': (True, False),\n",
       " 'dbpedia_17657': (True, False),\n",
       " 'dbpedia_17009': (False, True),\n",
       " 'dbpedia_2966': (False, True),\n",
       " 'dbpedia_1160': (True, False),\n",
       " 'dbpedia_19579': (False, True),\n",
       " 'dbpedia_16689': (False, True),\n",
       " 'dbpedia_14856': (False, True),\n",
       " 'dbpedia_1261': (False, True),\n",
       " 'dbpedia_1819': (True, False),\n",
       " 'dbpedia_8233': (True, False),\n",
       " 'dbpedia_20667': (True, False),\n",
       " 'dbpedia_1756': (True, False),\n",
       " 'dbpedia_6989': (True, False),\n",
       " 'dbpedia_4380': (True, False),\n",
       " 'dbpedia_19901': (False, True),\n",
       " 'dbpedia_19303': (False, True),\n",
       " 'dbpedia_23347': (False, True),\n",
       " 'dbpedia_15227': (True, False),\n",
       " 'dbpedia_9145': (True, False),\n",
       " 'dbpedia_945': (True, False),\n",
       " 'dbpedia_11607': (False, True),\n",
       " 'dbpedia_9182': (True, False),\n",
       " 'dbpedia_12321': (False, True),\n",
       " 'dbpedia_1038': (True, False),\n",
       " 'dbpedia_2574': (False, True),\n",
       " 'dbpedia_15811': (True, False),\n",
       " 'dbpedia_302': (True, False),\n",
       " 'dbpedia_11167': (True, False),\n",
       " 'dbpedia_22680': (False, True),\n",
       " 'dbpedia_21071': (False, True),\n",
       " 'dbpedia_14596': (False, True),\n",
       " 'dbpedia_11005': (False, True),\n",
       " 'dbpedia_14603': (True, False),\n",
       " 'dbpedia_13377': (True, False),\n",
       " 'dbpedia_7970': (False, True),\n",
       " 'dbpedia_12549': (False, True),\n",
       " 'dbpedia_8627': (False, True),\n",
       " 'dbpedia_7289': (True, False),\n",
       " 'dbpedia_14407': (True, False),\n",
       " 'dbpedia_8510': (True, False),\n",
       " 'dbpedia_5660': (True, False),\n",
       " 'dbpedia_14460': (True, False),\n",
       " 'dbpedia_8415': (True, False),\n",
       " 'dbpedia_14803': (True, False),\n",
       " 'dbpedia_18423': (True, False),\n",
       " 'dbpedia_11839': (True, False),\n",
       " 'dbpedia_15029': (True, False),\n",
       " 'dbpedia_1283': (False, True),\n",
       " 'dbpedia_12961': (False, True),\n",
       " 'dbpedia_678': (True, False),\n",
       " 'dbpedia_11467': (False, True),\n",
       " 'dbpedia_9289': (False, True),\n",
       " 'dbpedia_1653': (False, True),\n",
       " 'dbpedia_12641': (True, False),\n",
       " 'dbpedia_3616': (False, True),\n",
       " 'dbpedia_15768': (False, True),\n",
       " 'dbpedia_12441': (True, False),\n",
       " 'dbpedia_9677': (False, True),\n",
       " 'dbpedia_4489': (False, True),\n",
       " 'dbpedia_10099': (True, False),\n",
       " 'dbpedia_4129': (False, True),\n",
       " 'dbpedia_6499': (False, True),\n",
       " 'dbpedia_20448': (True, False),\n",
       " 'dbpedia_22889': (True, False),\n",
       " 'dbpedia_17375': (True, False),\n",
       " 'dbpedia_3251': (False, True),\n",
       " 'dbpedia_9877': (False, True),\n",
       " 'dbpedia_11964': (False, True),\n",
       " 'dbpedia_811': (False, True)}"
      ]
     },
     "execution_count": 45,
     "metadata": {},
     "output_type": "execute_result"
    }
   ],
   "source": [
    "nonequal"
   ]
  }
 ],
 "metadata": {
  "kernelspec": {
   "display_name": "Python 3",
   "language": "python",
   "name": "python3"
  },
  "language_info": {
   "codemirror_mode": {
    "name": "ipython",
    "version": 3
   },
   "file_extension": ".py",
   "mimetype": "text/x-python",
   "name": "python",
   "nbconvert_exporter": "python",
   "pygments_lexer": "ipython3",
   "version": "3.6.4"
  }
 },
 "nbformat": 4,
 "nbformat_minor": 2
}
